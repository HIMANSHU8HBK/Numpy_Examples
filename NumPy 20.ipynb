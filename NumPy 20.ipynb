{
 "cells": [
  {
   "cell_type": "code",
   "execution_count": 2,
   "id": "ddca577f",
   "metadata": {},
   "outputs": [
    {
     "name": "stdout",
     "output_type": "stream",
     "text": [
      "['Hello    ' 'World  ' 'NumPy']\n"
     ]
    }
   ],
   "source": [
    "# Removing Leading Whitespace\n",
    "\n",
    "import numpy as np\n",
    "\n",
    "# Input array with leading spaces\n",
    "arr = np.array([\"  Hello    \", \"  World  \", \"  NumPy\"])\n",
    "\n",
    "result = np.strings.lstrip(arr)\n",
    "print(result)"
   ]
  },
  {
   "cell_type": "code",
   "execution_count": 6,
   "id": "49d4c6bf",
   "metadata": {},
   "outputs": [
    {
     "name": "stdout",
     "output_type": "stream",
     "text": [
      "['ython' 'andas' 'rogramming']\n"
     ]
    }
   ],
   "source": [
    "# Removing Specific Leading Characters\n",
    "\n",
    "# Remove leading 'P' from each string\n",
    "arr = np.array([\"  Python\", \"Pandas\", \"Programming\"])\n",
    "\n",
    "result = np.strings.lstrip(arr, chars='P ')\n",
    "print(result)"
   ]
  },
  {
   "cell_type": "code",
   "execution_count": 7,
   "id": "61090105",
   "metadata": {},
   "outputs": [
    {
     "name": "stdout",
     "output_type": "stream",
     "text": [
      "['Example' 'Test' 'Case']\n"
     ]
    }
   ],
   "source": [
    "# Removing Multiple Characters\n",
    "\n",
    "# Remove both '#' and '*' from the start\n",
    "arr = np.array([\"#*Example\", \"#*Test\", \"#*Case\"])\n",
    "\n",
    "result = np.strings.lstrip(arr, chars=\"#*\")\n",
    "print(result)"
   ]
  },
  {
   "cell_type": "code",
   "execution_count": 8,
   "id": "e6a13db7",
   "metadata": {},
   "outputs": [
    {
     "name": "stdout",
     "output_type": "stream",
     "text": [
      "[b'Bytes' b'Data' b'Cool']\n"
     ]
    }
   ],
   "source": [
    "# Working with Bytes\n",
    "\n",
    "# Input array of bytes\n",
    "arr = np.array([b\"  Bytes\", b\"  Data\", b\"  Cool\"])\n",
    "\n",
    "result = np.strings.lstrip(arr)\n",
    "\n",
    "print(result)"
   ]
  },
  {
   "cell_type": "code",
   "execution_count": 9,
   "id": "a1212259",
   "metadata": {},
   "outputs": [
    {
     "name": "stdout",
     "output_type": "stream",
     "text": [
      "['John' 'Jane' 'Jack']\n"
     ]
    }
   ],
   "source": [
    "# Advanced: Cleaning Dataset Entries\n",
    "\n",
    "# Removing IDs from strings\n",
    "arr = np.array([\"ID001:John\", \"ID002:Jane\", \"ID003:Jack\"])\n",
    "result = np.strings.lstrip(arr, chars=\"ID0123:\")\n",
    "print(result)"
   ]
  },
  {
   "cell_type": "code",
   "execution_count": null,
   "id": "6e711160",
   "metadata": {},
   "outputs": [],
   "source": []
  },
  {
   "cell_type": "code",
   "execution_count": null,
   "id": "b63579bd",
   "metadata": {},
   "outputs": [],
   "source": []
  },
  {
   "cell_type": "code",
   "execution_count": null,
   "id": "a9672a6a",
   "metadata": {},
   "outputs": [],
   "source": []
  },
  {
   "cell_type": "code",
   "execution_count": 11,
   "id": "6fa79706",
   "metadata": {},
   "outputs": [
    {
     "name": "stdout",
     "output_type": "stream",
     "text": [
      "['  Hello' 'World' 'NumPy']\n"
     ]
    }
   ],
   "source": [
    "# Removing Trailing Whitespace\n",
    "\n",
    "import numpy as np\n",
    "\n",
    "# Input array with trailing spaces\n",
    "arr = np.array([\"  Hello  \", \"World  \", \"NumPy  \"])\n",
    "result = np.strings.rstrip(arr)\n",
    "print(result)"
   ]
  },
  {
   "cell_type": "code",
   "execution_count": 12,
   "id": "000a5f8f",
   "metadata": {},
   "outputs": [
    {
     "name": "stdout",
     "output_type": "stream",
     "text": [
      "['NumP' 'Pandas' 'SciP']\n"
     ]
    }
   ],
   "source": [
    "# Removing Specific Trailing Characters\n",
    "\n",
    "# Remove trailing 'y' from each string\n",
    "arr = np.array([\"NumPy\", \"Pandas\", \"SciPy\"])\n",
    "result = np.strings.rstrip(arr, chars='y')\n",
    "print(result)"
   ]
  },
  {
   "cell_type": "code",
   "execution_count": 13,
   "id": "ff37a088",
   "metadata": {},
   "outputs": [
    {
     "name": "stdout",
     "output_type": "stream",
     "text": [
      "['Example' 'Test' 'Case']\n"
     ]
    }
   ],
   "source": [
    "# Removing Multiple Characters\n",
    "\n",
    "# Remove trailing '#' and '*' characters\n",
    "arr = np.array([\"Example*#\", \"Test##\", \"Case#\"])\n",
    "result = np.strings.rstrip(arr, chars=\"#*\")\n",
    "print(result)"
   ]
  },
  {
   "cell_type": "code",
   "execution_count": 14,
   "id": "7e293b90",
   "metadata": {},
   "outputs": [
    {
     "name": "stdout",
     "output_type": "stream",
     "text": [
      "[b'Bytes' b'Data' b'Cool']\n"
     ]
    }
   ],
   "source": [
    "# Working with Bytes\n",
    "\n",
    "# Input array of bytes\n",
    "arr = np.array([b\"Bytes  \", b\"Data  \", b\"Cool  \"])\n",
    "result = np.strings.rstrip(arr)\n",
    "print(result)"
   ]
  },
  {
   "cell_type": "code",
   "execution_count": 17,
   "id": "dc0ad75b",
   "metadata": {},
   "outputs": [
    {
     "name": "stdout",
     "output_type": "stream",
     "text": [
      "['User' 'User' 'User3']\n"
     ]
    }
   ],
   "source": [
    "# Cleaning Dataset Entries\n",
    "\n",
    "# Removing unwanted characters from the end of each string\n",
    "arr = np.array([\"User1@\", \"User2#\", \"User3!!12!!!@@@\"])\n",
    "\n",
    "\n",
    "result = np.strings.rstrip(arr, chars=\"12@#!\")\n",
    "print(result)"
   ]
  },
  {
   "cell_type": "code",
   "execution_count": null,
   "id": "768a7e05",
   "metadata": {},
   "outputs": [],
   "source": []
  },
  {
   "cell_type": "code",
   "execution_count": null,
   "id": "2244700c",
   "metadata": {},
   "outputs": [],
   "source": []
  },
  {
   "cell_type": "code",
   "execution_count": null,
   "id": "b9923c68",
   "metadata": {},
   "outputs": [],
   "source": []
  },
  {
   "cell_type": "code",
   "execution_count": 18,
   "id": "99e32125",
   "metadata": {},
   "outputs": [
    {
     "name": "stdout",
     "output_type": "stream",
     "text": [
      "['Hello' 'World' 'NumPy']\n"
     ]
    }
   ],
   "source": [
    "# Removing Leading and Trailing Whitespace\n",
    "\n",
    "\n",
    "import numpy as np\n",
    "\n",
    "# Input array with leading and trailing spaces\n",
    "arr = np.array([\"  Hello  \", \"  World  \", \"  NumPy  \"])\n",
    "result = np.strings.strip(arr)\n",
    "print(result)"
   ]
  },
  {
   "cell_type": "code",
   "execution_count": 19,
   "id": "dfb07234",
   "metadata": {},
   "outputs": [
    {
     "name": "stdout",
     "output_type": "stream",
     "text": [
      "['Example' 'Test' 'Case']\n"
     ]
    }
   ],
   "source": [
    "# Removing Specific Characters\n",
    "\n",
    "# Remove '*' and '#' from both ends of the strings\n",
    "arr = np.array([\"*#Example#*\", \"#*Test*#\", \"*#Case*#\"])\n",
    "result = np.strings.strip(arr, chars=\"*#\")\n",
    "print(result)"
   ]
  },
  {
   "cell_type": "code",
   "execution_count": 20,
   "id": "f787ee4f",
   "metadata": {},
   "outputs": [
    {
     "name": "stdout",
     "output_type": "stream",
     "text": [
      "['Example' 'Test' 'Case']\n"
     ]
    }
   ],
   "source": [
    "# Removing Characters in Different Orders\n",
    "\n",
    "# Remove any combination of 'a', 'b', and 'c' from the ends\n",
    "arr = np.array([\"abcExamplecba\", \"cbaTestabc\", \"abacCaseabc\"])\n",
    "result = np.strings.strip(arr, chars=\"abc\")\n",
    "print(result)"
   ]
  },
  {
   "cell_type": "code",
   "execution_count": 21,
   "id": "94fe95b5",
   "metadata": {},
   "outputs": [
    {
     "name": "stdout",
     "output_type": "stream",
     "text": [
      "[b'Bytes' b'Data' b'Cool']\n"
     ]
    }
   ],
   "source": [
    "# Stripping Trailing Characters from Bytes\n",
    "\n",
    "# Input array of bytes\n",
    "arr = np.array([b\"  Bytes  \", b\"  Data  \", b\"  Cool  \"])\n",
    "result = np.strings.strip(arr)\n",
    "print(result)"
   ]
  },
  {
   "cell_type": "code",
   "execution_count": 22,
   "id": "5da7cb54",
   "metadata": {},
   "outputs": [
    {
     "name": "stdout",
     "output_type": "stream",
     "text": [
      "['John' 'Jane' 'Jack']\n"
     ]
    }
   ],
   "source": [
    "# Cleaning Entries in a Dataset\n",
    "\n",
    "# Removing IDs and symbols from names\n",
    "arr = np.array([\"ID001:John$\", \"ID002:Jane#\", \"ID003:Jack*\"])\n",
    "result = np.strings.strip(arr, chars=\"ID0123456789:$#*\")\n",
    "print(result)"
   ]
  },
  {
   "cell_type": "code",
   "execution_count": null,
   "id": "246d92cc",
   "metadata": {},
   "outputs": [],
   "source": []
  },
  {
   "cell_type": "code",
   "execution_count": null,
   "id": "5b52545f",
   "metadata": {},
   "outputs": [],
   "source": []
  },
  {
   "cell_type": "markdown",
   "id": "7cd07c0c",
   "metadata": {},
   "source": [
    "# Additional Use Cases"
   ]
  },
  {
   "cell_type": "code",
   "execution_count": 23,
   "id": "5a949379",
   "metadata": {},
   "outputs": [
    {
     "name": "stdout",
     "output_type": "stream",
     "text": [
      "['100' '200' '300']\n"
     ]
    }
   ],
   "source": [
    "# Removing Leading Indicators\n",
    "\n",
    "import numpy as np\n",
    "\n",
    "# Input array with leading indicators\n",
    "arr = np.array([\"USD100\", \"EUR200\", \"JPY300\"])\n",
    "result = np.strings.lstrip(arr, chars=\"ABCDEFGHIJKLMNOPQRSTUVWXYZ\")\n",
    "print(result)"
   ]
  },
  {
   "cell_type": "code",
   "execution_count": 24,
   "id": "f7db0fc6",
   "metadata": {},
   "outputs": [
    {
     "name": "stdout",
     "output_type": "stream",
     "text": [
      "['home/user/file1.txt' 'var/log/file2.log' 'tmp/file3.tmp']\n"
     ]
    }
   ],
   "source": [
    "# Cleaning File Paths\n",
    "\n",
    "# Input array with leading slashes\n",
    "file_paths = np.array([\"/home/user/file1.txt\", \"/var/log/file2.log\", \"/tmp/file3.tmp\"])\n",
    "result = np.strings.lstrip(file_paths, chars=\"/\")\n",
    "print(result)"
   ]
  },
  {
   "cell_type": "code",
   "execution_count": 25,
   "id": "bf8a2ee7",
   "metadata": {},
   "outputs": [
    {
     "name": "stdout",
     "output_type": "stream",
     "text": [
      "['Error' 'Warning' 'Info']\n"
     ]
    }
   ],
   "source": [
    "# Removing Leading Special Characters\n",
    "\n",
    "# Input array with unwanted special characters\n",
    "data = np.array([\"##Error\", \"!!Warning\", \"**Info\"])\n",
    "result = np.strings.lstrip(data, chars=\"#!*\")\n",
    "print(result)"
   ]
  },
  {
   "cell_type": "code",
   "execution_count": 26,
   "id": "80bfa852",
   "metadata": {},
   "outputs": [
    {
     "name": "stdout",
     "output_type": "stream",
     "text": [
      "['report.pdf' 'data.csv' 'image.png']\n"
     ]
    }
   ],
   "source": [
    "# Cleaning Up Extra File Extensions\n",
    "\n",
    "# Input array with unwanted trailing extensions\n",
    "files = np.array([\"report.pdf.bak\", \"data.csv.tmp\", \"image.png.old\"])\n",
    "result = np.strings.rstrip(files, chars=\".bak.tmp.old\")\n",
    "print(result)"
   ]
  },
  {
   "cell_type": "code",
   "execution_count": 27,
   "id": "b3e23888",
   "metadata": {},
   "outputs": [
    {
     "name": "stdout",
     "output_type": "stream",
     "text": [
      "['1' '2' '3']\n"
     ]
    }
   ],
   "source": [
    "# Removing Trailing Zeros\n",
    "\n",
    "# Input array with padded zeros\n",
    "arr = np.array([\"1000\", \"20000\", \"300000\"])\n",
    "result = np.strings.rstrip(arr, chars=\"0\")\n",
    "print(result)"
   ]
  },
  {
   "cell_type": "code",
   "execution_count": 28,
   "id": "7537b484",
   "metadata": {},
   "outputs": [
    {
     "name": "stdout",
     "output_type": "stream",
     "text": [
      "['P123' 'Q456' 'R789']\n"
     ]
    }
   ],
   "source": [
    "# Standardizing Product Codes\n",
    "\n",
    "# Input array with inconsistent trailing symbols\n",
    "product_codes = np.array([\"P123#\", \"Q456##\", \"R789###\"])\n",
    "\n",
    "result = np.strings.rstrip(product_codes, chars=\"#\")\n",
    "print(result)"
   ]
  },
  {
   "cell_type": "code",
   "execution_count": 29,
   "id": "6d491281",
   "metadata": {},
   "outputs": [
    {
     "name": "stdout",
     "output_type": "stream",
     "text": [
      "['hello' 'world' 'numpy']\n"
     ]
    }
   ],
   "source": [
    "# Stripping Leading and Trailing Whitespace\n",
    "\n",
    "# Input array with leading and trailing whitespace\n",
    "arr = np.array([\"  hello  \", \"  world  \", \"  numpy  \"])\n",
    "result = np.strings.strip(arr)\n",
    "print(result)"
   ]
  },
  {
   "cell_type": "code",
   "execution_count": 30,
   "id": "0e77a7a4",
   "metadata": {},
   "outputs": [
    {
     "name": "stdout",
     "output_type": "stream",
     "text": [
      "['John' 'Jane' 'Jack']\n"
     ]
    }
   ],
   "source": [
    "# Cleaning Names in a Dataset\n",
    "\n",
    "# Input array with IDs and special characters\n",
    "names = np.array([\"@123John*\", \"#456Jane#\", \"*789Jack@\"])\n",
    "result = np.strings.strip(names, chars=\"@#*123456789\")\n",
    "print(result)"
   ]
  },
  {
   "cell_type": "code",
   "execution_count": 31,
   "id": "c68b87d9",
   "metadata": {},
   "outputs": [
    {
     "name": "stdout",
     "output_type": "stream",
     "text": [
      "['example.com' 'testsite.org' 'sample.net']\n"
     ]
    }
   ],
   "source": [
    "# Formatting Paths or URLs\n",
    "\n",
    "# Input array with mixed prefixes and suffixes\n",
    "urls = np.array([\"///example.com///\", \"###testsite.org###\", \"***sample.net***\"])\n",
    "result = np.strings.strip(urls, chars=\"/#*\")\n",
    "print(result)"
   ]
  },
  {
   "cell_type": "code",
   "execution_count": 32,
   "id": "b47acb95",
   "metadata": {},
   "outputs": [
    {
     "name": "stdout",
     "output_type": "stream",
     "text": [
      "['100.00' '200.00' '300.00']\n"
     ]
    }
   ],
   "source": [
    "# Normalizing Currency Data\n",
    "\n",
    "# Input array with extra symbols\n",
    "currencies = np.array([\"$100.00$\", \"€200.00€\", \"¥300.00¥\"])\n",
    "result = np.strings.strip(currencies, chars=\"$€¥\")\n",
    "print(result)"
   ]
  },
  {
   "cell_type": "code",
   "execution_count": 33,
   "id": "d8e06dab",
   "metadata": {},
   "outputs": [
    {
     "name": "stdout",
     "output_type": "stream",
     "text": [
      "['2024-01-01' '2024-01-02' '2024-01-03']\n"
     ]
    }
   ],
   "source": [
    "# Cleaning Log Entries\n",
    "\n",
    "# Input array with log timestamps and tags\n",
    "logs = np.array([\"[ERROR]2024-01-01\", \"[INFO]2024-01-02\", \"[DEBUG]2024-01-03\"])\n",
    "result = np.strings.strip(logs, chars=\"[]ERRORINFODEBUG\")\n",
    "print(result)"
   ]
  },
  {
   "cell_type": "code",
   "execution_count": null,
   "id": "9ddeb748",
   "metadata": {},
   "outputs": [],
   "source": []
  }
 ],
 "metadata": {
  "kernelspec": {
   "display_name": "Python 3 (ipykernel)",
   "language": "python",
   "name": "python3"
  },
  "language_info": {
   "codemirror_mode": {
    "name": "ipython",
    "version": 3
   },
   "file_extension": ".py",
   "mimetype": "text/x-python",
   "name": "python",
   "nbconvert_exporter": "python",
   "pygments_lexer": "ipython3",
   "version": "3.11.5"
  }
 },
 "nbformat": 4,
 "nbformat_minor": 5
}
