{
 "cells": [
  {
   "cell_type": "code",
   "execution_count": 4,
   "id": "4d963508-5cd3-4f2f-94ca-5a548f9b4c4d",
   "metadata": {},
   "outputs": [],
   "source": [
    "# pip install --upgrade numpy"
   ]
  },
  {
   "cell_type": "code",
   "execution_count": 5,
   "id": "949a2b6e",
   "metadata": {},
   "outputs": [
    {
     "data": {
      "text/plain": [
       "'2.1.3'"
      ]
     },
     "execution_count": 5,
     "metadata": {},
     "output_type": "execute_result"
    }
   ],
   "source": [
    "np.__version__"
   ]
  },
  {
   "cell_type": "code",
   "execution_count": 9,
   "id": "839b3da1-f84d-4c72-a3e6-9cba46a3234f",
   "metadata": {},
   "outputs": [
    {
     "name": "stdout",
     "output_type": "stream",
     "text": [
      "['Apple---------------' 'Banana--------------' 'Cherry--------------']\n"
     ]
    }
   ],
   "source": [
    "import numpy as np\n",
    "from numpy import strings\n",
    "\n",
    "\n",
    "# Formatting a Table of Product Names\n",
    "\n",
    "fruits = np.array([\"Apple\", \"Banana\", \"Cherry\"])\n",
    "\n",
    "formatted_fruits = np.strings.ljust(fruits, width=20, fillchar='-')\n",
    "\n",
    "print(formatted_fruits)"
   ]
  },
  {
   "cell_type": "code",
   "execution_count": 10,
   "id": "953db44c-8900-425c-a6c0-72f36af9fb6a",
   "metadata": {},
   "outputs": [
    {
     "data": {
      "text/plain": [
       "20"
      ]
     },
     "execution_count": 10,
     "metadata": {},
     "output_type": "execute_result"
    }
   ],
   "source": [
    "len('Cherry--------------')"
   ]
  },
  {
   "cell_type": "code",
   "execution_count": 12,
   "id": "2e1e903c-880d-48d6-9e08-77352e279952",
   "metadata": {},
   "outputs": [
    {
     "name": "stdout",
     "output_type": "stream",
     "text": [
      "['PRD0010000' 'PRD0023000' 'PRD0400000']\n"
     ]
    }
   ],
   "source": [
    "# Creating Fixed-Width File Records\n",
    "\n",
    "product_codes = np.array([\"PRD001\", \"PRD0023\", \"PRD04\"], dtype=\"U10\")\n",
    "\n",
    "formatted_codes = np.strings.ljust(product_codes, width = 10, fillchar='0')\n",
    "print(formatted_codes)"
   ]
  },
  {
   "cell_type": "code",
   "execution_count": 15,
   "id": "c870d735-b110-445f-a693-01629c018f10",
   "metadata": {},
   "outputs": [
    {
     "name": "stdout",
     "output_type": "stream",
     "text": [
      "['Income         ' 'Expenses       ' 'Profit         ']\n"
     ]
    }
   ],
   "source": [
    "# Custom Padding for Report Titles\n",
    "\n",
    "finance_titles = np.array([\"Income\", \"Expenses\", \"Profit\"], dtype=\"U15\")\n",
    "\n",
    "padded_titles = np.strings.ljust(finance_titles, 15, fillchar='*')\n",
    "print(padded_titles)"
   ]
  },
  {
   "cell_type": "code",
   "execution_count": 14,
   "id": "cdcf34c2-8a07-4b33-b1b7-5beafdb0ea71",
   "metadata": {},
   "outputs": [
    {
     "name": "stdout",
     "output_type": "stream",
     "text": [
      "['INFO      ' 'WARNING   ' 'CRITICAL  ']\n"
     ]
    }
   ],
   "source": [
    "# Aligned Data for Logging\n",
    "\n",
    "logs = np.array([\"INFO\", \"WARNING\", \"CRITICAL\"], dtype=\"U10\")\n",
    "\n",
    "aligned_logs = np.strings.ljust(logs, 10)\n",
    "print(aligned_logs)"
   ]
  },
  {
   "cell_type": "code",
   "execution_count": 16,
   "id": "e4448ff7-80be-469a-a7ac-99c1bacf497e",
   "metadata": {},
   "outputs": [
    {
     "name": "stdout",
     "output_type": "stream",
     "text": [
      "['Cafe Mocha~~~~~' 'Pasta House~~~~' 'Burger Shack~~~']\n"
     ]
    }
   ],
   "source": [
    "# Generating Mock Data for Testing\n",
    "\n",
    "restaurants = np.array([\"Cafe Mocha\", \"Pasta House\", \"Burger Shack\"], dtype=\"U15\")\n",
    "\n",
    "uniform_restaurants = np.strings.ljust(restaurants, 15, fillchar='~')\n",
    "print(uniform_restaurants)"
   ]
  },
  {
   "cell_type": "code",
   "execution_count": null,
   "id": "ed94ae74-24dd-4095-b085-bbfec2f2b2d4",
   "metadata": {},
   "outputs": [],
   "source": []
  },
  {
   "cell_type": "code",
   "execution_count": null,
   "id": "b8ade482-5c3a-46b4-9323-f9fbe9d3d30f",
   "metadata": {},
   "outputs": [],
   "source": []
  },
  {
   "cell_type": "code",
   "execution_count": 17,
   "id": "e36019bf-47f2-4959-ba90-3f712b7014ad",
   "metadata": {},
   "outputs": [
    {
     "name": "stdout",
     "output_type": "stream",
     "text": [
      "['------A123' '-------B45' '-----C7890']\n"
     ]
    }
   ],
   "source": [
    "# Formatting Product Codes for Inventory Reports\n",
    "\n",
    "product_codes = np.array([\"A123\", \"B45\", \"C7890\"], dtype=\"U10\")\n",
    "\n",
    "formatted_codes = np.strings.rjust(product_codes, 10, fillchar='-')\n",
    "print(formatted_codes)"
   ]
  },
  {
   "cell_type": "code",
   "execution_count": 19,
   "id": "3fece704-c425-46f4-8222-f2596daf3692",
   "metadata": {},
   "outputs": [
    {
     "name": "stdout",
     "output_type": "stream",
     "text": [
      "['     12345' '       678' '   9101112']\n"
     ]
    }
   ],
   "source": [
    "# Aligning Financial Figures in Statements\n",
    "\n",
    "figures = np.array([\"12345\", \"678\", \"9101112\"], dtype=\"U10\")\n",
    "\n",
    "aligned_figures = np.strings.rjust(figures, 10, fillchar='0')\n",
    "print(aligned_figures)"
   ]
  },
  {
   "cell_type": "code",
   "execution_count": 21,
   "id": "692dc0d5-d3ee-4a59-b652-62d7c9557389",
   "metadata": {},
   "outputs": [
    {
     "name": "stdout",
     "output_type": "stream",
     "text": [
      "['*****MATH101' '******BIO202' '*******CS303']\n"
     ]
    }
   ],
   "source": [
    "# Preparing Aligned Headers for Reports\n",
    "\n",
    "course_codes = np.array([\"MATH101\", \"BIO202\", \"CS303\"], dtype=\"U12\")\n",
    "\n",
    "aligned_courses = np.strings.rjust(course_codes, 12, fillchar='*')\n",
    "print(aligned_courses)"
   ]
  },
  {
   "cell_type": "code",
   "execution_count": 22,
   "id": "c8b1158e-ddf4-4941-85e2-839a4f09deae",
   "metadata": {},
   "outputs": [
    {
     "name": "stdout",
     "output_type": "stream",
     "text": [
      "['    INFO' '    WARN' '   ERROR']\n"
     ]
    }
   ],
   "source": [
    "# Formatting Log Levels for System Monitoring\n",
    "\n",
    "log_levels = np.array([\"INFO\", \"WARN\", \"ERROR\"], dtype=\"U8\")\n",
    "\n",
    "aligned_logs = np.strings.rjust(log_levels, 8)\n",
    "print(aligned_logs)"
   ]
  },
  {
   "cell_type": "code",
   "execution_count": 23,
   "id": "5247b9fa-ee30-4a50-81a7-00a32d469dd0",
   "metadata": {},
   "outputs": [
    {
     "name": "stdout",
     "output_type": "stream",
     "text": [
      "['**********Alice' '************Bob' '********Charlie']\n"
     ]
    }
   ],
   "source": [
    "# Generating Mock Data for Testing\n",
    "\n",
    "customers = np.array([\"Alice\", \"Bob\", \"Charlie\"], dtype=\"U15\")\n",
    "\n",
    "aligned_customers = np.strings.rjust(customers, 15, fillchar='*')\n",
    "print(aligned_customers)"
   ]
  },
  {
   "cell_type": "code",
   "execution_count": null,
   "id": "b51b28b6-95a7-4952-b2cf-19b255deb75d",
   "metadata": {},
   "outputs": [],
   "source": []
  },
  {
   "cell_type": "code",
   "execution_count": null,
   "id": "bec69d9a-939d-47ae-840a-767b94503636",
   "metadata": {},
   "outputs": [],
   "source": []
  },
  {
   "cell_type": "code",
   "execution_count": null,
   "id": "d5c86b0d-f83e-4cce-8142-f65e26a8687a",
   "metadata": {},
   "outputs": [],
   "source": []
  },
  {
   "cell_type": "code",
   "execution_count": 24,
   "id": "f79ccb46-4138-4212-8378-088eedeb862e",
   "metadata": {},
   "outputs": [
    {
     "name": "stdout",
     "output_type": "stream",
     "text": [
      "['00000123' '00004567' '00000089' '00123456']\n"
     ]
    }
   ],
   "source": [
    "# product IDs standardized to a width of 8 characters\n",
    "\n",
    "product_ids = np.array([\"123\", \"4567\", \"89\", \"123456\"])\n",
    "\n",
    "standardized_ids = np.strings.zfill(product_ids, 8)\n",
    "print(standardized_ids)"
   ]
  },
  {
   "cell_type": "code",
   "execution_count": 25,
   "id": "1900b34b-bd8d-477e-9175-117e444ae0f7",
   "metadata": {},
   "outputs": [
    {
     "name": "stdout",
     "output_type": "stream",
     "text": [
      "['0087654' '-000342' '0000567' '+000089']\n"
     ]
    }
   ],
   "source": [
    "# transaction IDs with a fixed width\n",
    "\n",
    "transaction_ids = np.array([\"87654\", \"-342\", \"567\", \"+89\"])\n",
    "\n",
    "formatted_ids = np.strings.zfill(transaction_ids, 7)\n",
    "print(formatted_ids)"
   ]
  },
  {
   "cell_type": "code",
   "execution_count": 28,
   "id": "b071a361-656c-4466-85ad-6bc71acf7347",
   "metadata": {},
   "outputs": [
    {
     "name": "stdout",
     "output_type": "stream",
     "text": [
      "['192' '008' '043' '255']\n"
     ]
    }
   ],
   "source": [
    "# standardize octets in IP addresses\n",
    "\n",
    "# 192.183.3.1\n",
    "\n",
    "ip_octets = np.array([\"192\", \"8\", \"43\", \"255\"])\n",
    "\n",
    "formatted_octets = np.strings.zfill(ip_octets, 3)\n",
    "print(formatted_octets)"
   ]
  },
  {
   "cell_type": "code",
   "execution_count": 29,
   "id": "e3962298-f85d-4673-acfe-3543f34d698a",
   "metadata": {},
   "outputs": [
    {
     "name": "stdout",
     "output_type": "stream",
     "text": [
      "['0005' '0023' '0007' '0102']\n"
     ]
    }
   ],
   "source": [
    "# Student Roll Numbers\n",
    "\n",
    "roll_numbers = np.array([\"5\", \"23\", \"7\", \"102\"])\n",
    "\n",
    "standardized_roll_numbers = np.strings.zfill(roll_numbers, 4)\n",
    "print(standardized_roll_numbers)"
   ]
  },
  {
   "cell_type": "code",
   "execution_count": 30,
   "id": "53dbbb30-2a2d-4344-b933-c59c5dac13b5",
   "metadata": {},
   "outputs": [
    {
     "name": "stdout",
     "output_type": "stream",
     "text": [
      "['000542' '000076' '000001' '098765']\n"
     ]
    }
   ],
   "source": [
    "# Shipment codes need to follow a uniform width for tracking systems\n",
    "\n",
    "shipment_codes = np.array([\"542\", \"76\", \"1\", \"98765\"])\n",
    "\n",
    "formatted_codes = np.strings.zfill(shipment_codes, 6)\n",
    "print(formatted_codes)"
   ]
  },
  {
   "cell_type": "code",
   "execution_count": 31,
   "id": "e7206955-74e9-43ea-aeb7-635d93c3cc6c",
   "metadata": {},
   "outputs": [
    {
     "data": {
      "text/plain": [
       "6"
      ]
     },
     "execution_count": 31,
     "metadata": {},
     "output_type": "execute_result"
    }
   ],
   "source": [
    "len('000542')"
   ]
  },
  {
   "cell_type": "code",
   "execution_count": null,
   "id": "1e0b70a4-e00a-4576-869e-afc4e3f1e6c7",
   "metadata": {},
   "outputs": [],
   "source": []
  },
  {
   "cell_type": "code",
   "execution_count": null,
   "id": "96dd0bb8-0ad2-426a-acc2-378ee30d6517",
   "metadata": {},
   "outputs": [],
   "source": []
  },
  {
   "cell_type": "code",
   "execution_count": null,
   "id": "e053eb5a-766e-4b97-9892-7c9123723419",
   "metadata": {},
   "outputs": [],
   "source": []
  }
 ],
 "metadata": {
  "kernelspec": {
   "display_name": "Python 3 (ipykernel)",
   "language": "python",
   "name": "python3"
  },
  "language_info": {
   "codemirror_mode": {
    "name": "ipython",
    "version": 3
   },
   "file_extension": ".py",
   "mimetype": "text/x-python",
   "name": "python",
   "nbconvert_exporter": "python",
   "pygments_lexer": "ipython3",
   "version": "3.11.5"
  }
 },
 "nbformat": 4,
 "nbformat_minor": 5
}
