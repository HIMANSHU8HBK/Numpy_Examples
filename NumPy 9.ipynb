{
 "cells": [
  {
   "cell_type": "markdown",
   "id": "4b5e5119",
   "metadata": {},
   "source": [
    "# numpy.dstack(tup)"
   ]
  },
  {
   "cell_type": "code",
   "execution_count": 4,
   "id": "05320b57",
   "metadata": {},
   "outputs": [
    {
     "name": "stdout",
     "output_type": "stream",
     "text": [
      "Array a:\n",
      " [[1 2]\n",
      " [3 4]]\n",
      "Shape of a: (2, 2)\n",
      "Array b:\n",
      " [[5 6]\n",
      " [7 8]]\n",
      "Shape of b: (2, 2)\n",
      "\n",
      "Result after dstack:\n",
      " [[[1 5]\n",
      "  [2 6]]\n",
      "\n",
      " [[3 7]\n",
      "  [4 8]]]\n",
      "Shape of result: (2, 2, 2)\n"
     ]
    }
   ],
   "source": [
    "# Basic 2D Arrays Stacked Depth-Wise\n",
    "\n",
    "import numpy as np\n",
    "\n",
    "# Two 2D arrays (matrices)\n",
    "a = np.array([[1, 2], [3, 4]])\n",
    "b = np.array([[5, 6], [7, 8]])\n",
    "\n",
    "# Print input arrays and their shapes\n",
    "print(\"Array a:\\n\", a)\n",
    "print(\"Shape of a:\", a.shape)\n",
    "\n",
    "print(\"Array b:\\n\", b)\n",
    "print(\"Shape of b:\", b.shape)\n",
    "\n",
    "# Stack depth-wise\n",
    "result = np.dstack((a, b))\n",
    "\n",
    "# Print the result and its shape\n",
    "print(\"\\nResult after dstack:\\n\", result)\n",
    "print(\"Shape of result:\", result.shape)"
   ]
  },
  {
   "cell_type": "code",
   "execution_count": null,
   "id": "9f546343",
   "metadata": {},
   "outputs": [],
   "source": []
  },
  {
   "cell_type": "code",
   "execution_count": 5,
   "id": "18a532ba",
   "metadata": {},
   "outputs": [
    {
     "name": "stdout",
     "output_type": "stream",
     "text": [
      "Array a:\n",
      " [1 2]\n",
      "Shape of a: (2,)\n",
      "Array b:\n",
      " [3 4]\n",
      "Shape of b: (2,)\n",
      "\n",
      "Result after dstack:\n",
      " [[[1 3]\n",
      "  [2 4]]]\n",
      "Shape of result: (1, 2, 2)\n"
     ]
    }
   ],
   "source": [
    "# Stacking 1D Arrays\n",
    "\n",
    "import numpy as np\n",
    "\n",
    "# Two 1D arrays\n",
    "a = np.array([1, 2])\n",
    "b = np.array([3, 4])\n",
    "\n",
    "# Print input arrays and their shapes\n",
    "print(\"Array a:\\n\", a)\n",
    "print(\"Shape of a:\", a.shape)\n",
    "\n",
    "print(\"Array b:\\n\", b)\n",
    "print(\"Shape of b:\", b.shape)\n",
    "\n",
    "# Stack depth-wise\n",
    "result = np.dstack((a, b))\n",
    "\n",
    "# Print the result and its shape\n",
    "print(\"\\nResult after dstack:\\n\", result)\n",
    "print(\"Shape of result:\", result.shape)\n"
   ]
  },
  {
   "cell_type": "code",
   "execution_count": 6,
   "id": "4f98cd9b",
   "metadata": {},
   "outputs": [
    {
     "name": "stdout",
     "output_type": "stream",
     "text": [
      "Array a:\n",
      " [[[1]\n",
      "  [2]]\n",
      "\n",
      " [[3]\n",
      "  [4]]]\n",
      "Shape of a: (2, 2, 1)\n",
      "Array b:\n",
      " [[[5]\n",
      "  [6]]\n",
      "\n",
      " [[7]\n",
      "  [8]]]\n",
      "Shape of b: (2, 2, 1)\n",
      "\n",
      "Result after dstack:\n",
      " [[[1 5]\n",
      "  [2 6]]\n",
      "\n",
      " [[3 7]\n",
      "  [4 8]]]\n",
      "Shape of result: (2, 2, 2)\n"
     ]
    }
   ],
   "source": [
    "# Stacking 3D Arrays\n",
    "\n",
    "import numpy as np\n",
    "\n",
    "# Two 3D arrays\n",
    "a = np.array([[[1], [2]], [[3], [4]]])  # Shape (2, 2, 1)\n",
    "b = np.array([[[5], [6]], [[7], [8]]])  # Shape (2, 2, 1)\n",
    "\n",
    "# Print input arrays and their shapes\n",
    "print(\"Array a:\\n\", a)\n",
    "print(\"Shape of a:\", a.shape)\n",
    "\n",
    "print(\"Array b:\\n\", b)\n",
    "print(\"Shape of b:\", b.shape)\n",
    "\n",
    "# Stack depth-wise\n",
    "result = np.dstack((a, b))\n",
    "\n",
    "# Print the result and its shape\n",
    "print(\"\\nResult after dstack:\\n\", result)\n",
    "print(\"Shape of result:\", result.shape)\n"
   ]
  },
  {
   "cell_type": "code",
   "execution_count": 7,
   "id": "3e63225a",
   "metadata": {},
   "outputs": [
    {
     "name": "stdout",
     "output_type": "stream",
     "text": [
      "Array a:\n",
      " [[1 2]\n",
      " [3 4]]\n",
      "Shape of a: (2, 2)\n",
      "Array b:\n",
      " [[5 6]\n",
      " [7 8]]\n",
      "Shape of b: (2, 2)\n",
      "Array c:\n",
      " [[ 9 10]\n",
      " [11 12]]\n",
      "Shape of c: (2, 2)\n",
      "\n",
      "Result after dstack:\n",
      " [[[ 1  5  9]\n",
      "  [ 2  6 10]]\n",
      "\n",
      " [[ 3  7 11]\n",
      "  [ 4  8 12]]]\n",
      "Shape of result: (2, 2, 3)\n"
     ]
    }
   ],
   "source": [
    "# Combining Multiple Arrays\n",
    "\n",
    "import numpy as np\n",
    "\n",
    "# Three 2D arrays\n",
    "a = np.array([[1, 2], [3, 4]])\n",
    "b = np.array([[5, 6], [7, 8]])\n",
    "c = np.array([[9, 10], [11, 12]])\n",
    "\n",
    "# Print input arrays and their shapes\n",
    "print(\"Array a:\\n\", a)\n",
    "print(\"Shape of a:\", a.shape)\n",
    "\n",
    "print(\"Array b:\\n\", b)\n",
    "print(\"Shape of b:\", b.shape)\n",
    "\n",
    "print(\"Array c:\\n\", c)\n",
    "print(\"Shape of c:\", c.shape)\n",
    "\n",
    "# Stack depth-wise\n",
    "result = np.dstack((a, b, c))\n",
    "\n",
    "# Print the result and its shape\n",
    "print(\"\\nResult after dstack:\\n\", result)\n",
    "print(\"Shape of result:\", result.shape)"
   ]
  },
  {
   "cell_type": "code",
   "execution_count": null,
   "id": "7b8885a4",
   "metadata": {},
   "outputs": [],
   "source": []
  },
  {
   "cell_type": "code",
   "execution_count": 8,
   "id": "50623e78",
   "metadata": {},
   "outputs": [
    {
     "name": "stdout",
     "output_type": "stream",
     "text": [
      "Array a:\n",
      " []\n",
      "Shape of a: (0,)\n",
      "Array b:\n",
      " []\n",
      "Shape of b: (0,)\n",
      "\n",
      "Result after dstack:\n",
      " []\n",
      "Shape of result: (1, 0, 2)\n"
     ]
    }
   ],
   "source": [
    "# depth Stacking empty Arrays\n",
    "\n",
    "import numpy as np\n",
    "\n",
    "# Two 3D arrays\n",
    "a = np.array([])\n",
    "b = np.array([])\n",
    "\n",
    "# Print input arrays and their shapes\n",
    "print(\"Array a:\\n\", a)\n",
    "print(\"Shape of a:\", a.shape)\n",
    "\n",
    "print(\"Array b:\\n\", b)\n",
    "print(\"Shape of b:\", b.shape)\n",
    "\n",
    "# Stack depth-wise\n",
    "result = np.dstack((a, b))\n",
    "\n",
    "# Print the result and its shape\n",
    "print(\"\\nResult after dstack:\\n\", result)\n",
    "print(\"Shape of result:\", result.shape)"
   ]
  },
  {
   "cell_type": "code",
   "execution_count": null,
   "id": "e4599dfa",
   "metadata": {},
   "outputs": [],
   "source": []
  },
  {
   "cell_type": "code",
   "execution_count": null,
   "id": "f81ff65b",
   "metadata": {},
   "outputs": [],
   "source": []
  },
  {
   "cell_type": "markdown",
   "id": "64bcdc36",
   "metadata": {},
   "source": [
    "# Important Points to Note:\n",
    "The dstack function promotes lower-dimensional arrays to higher dimensions when necessary.\n",
    "\n",
    "The number of rows and columns of the input arrays must match, but the depth axis can be stacked freely.\n",
    "\n",
    "The function is especially useful when dealing with multi-dimensional data, such as RGB image data (where you stack the color channels)."
   ]
  },
  {
   "cell_type": "markdown",
   "id": "8e568e61",
   "metadata": {},
   "source": [
    "# Use Cases:\n",
    "Image Processing: dstack() can be used to combine different color channels (R, G, B) into a single 3D array, where the third axis represents different channels.\n",
    "\n",
    "3D Data Visualization: It's useful for visualizing and manipulating data in 3D space, stacking layers of 2D data.\n",
    "\n",
    "Scientific Computing: When dealing with multi-dimensional data (e.g., 3D grids), dstack() helps in combining different planes into one structure."
   ]
  },
  {
   "cell_type": "code",
   "execution_count": null,
   "id": "0bb05803",
   "metadata": {},
   "outputs": [],
   "source": []
  },
  {
   "cell_type": "markdown",
   "id": "42fce917",
   "metadata": {},
   "source": [
    "# numpy.column_stack(tup)\n"
   ]
  },
  {
   "cell_type": "code",
   "execution_count": 10,
   "id": "3e1dfc82",
   "metadata": {},
   "outputs": [
    {
     "name": "stdout",
     "output_type": "stream",
     "text": [
      "Array a:\n",
      " [1 2 3]\n",
      "Shape of a: (3,)\n",
      "Array b:\n",
      " [4 5 6]\n",
      "Shape of b: (3,)\n",
      "\n",
      "Result after column_stack:\n",
      " [[1 4]\n",
      " [2 5]\n",
      " [3 6]]\n",
      "Shape of result: (3, 2)\n"
     ]
    }
   ],
   "source": [
    "# Stacking 1D Arrays into Columns\n",
    "\n",
    "import numpy as np\n",
    "\n",
    "# Two 1D arrays\n",
    "a = np.array([1, 2, 3])\n",
    "b = np.array([4, 5, 6])\n",
    "\n",
    "# Print input arrays and their shapes\n",
    "print(\"Array a:\\n\", a)\n",
    "print(\"Shape of a:\", a.shape)\n",
    "\n",
    "print(\"Array b:\\n\", b)\n",
    "print(\"Shape of b:\", b.shape)\n",
    "\n",
    "# Stack as columns\n",
    "result = np.column_stack((a, b))\n",
    "\n",
    "# Print the result and its shape\n",
    "print(\"\\nResult after column_stack:\\n\", result)\n",
    "print(\"Shape of result:\", result.shape)\n"
   ]
  },
  {
   "cell_type": "code",
   "execution_count": 16,
   "id": "a1a176fc",
   "metadata": {},
   "outputs": [
    {
     "name": "stdout",
     "output_type": "stream",
     "text": [
      "Array a:\n",
      " [1 2 3]\n",
      "Shape of a: (3,)\n",
      "Array b:\n",
      " [4 5 6]\n",
      "Shape of b: (3,)\n",
      "Array c:\n",
      " [7 8 9]\n",
      "Shape of c: (3,)\n",
      "\n",
      "Result after column_stack:\n",
      " [[1 4 7]\n",
      " [2 5 8]\n",
      " [3 6 9]]\n",
      "Shape of result: (3, 3)\n"
     ]
    }
   ],
   "source": [
    "# Stacking Multiple 1D Arrays\n",
    "\n",
    "import numpy as np\n",
    "\n",
    "# Three 1D arrays\n",
    "a = np.array([1, 2, 3])\n",
    "b = np.array([4, 5, 6])\n",
    "c = np.array([7, 8, 9])\n",
    "\n",
    "# Print input arrays and their shapes\n",
    "print(\"Array a:\\n\", a)\n",
    "print(\"Shape of a:\", a.shape)\n",
    "\n",
    "print(\"Array b:\\n\", b)\n",
    "print(\"Shape of b:\", b.shape)\n",
    "\n",
    "print(\"Array c:\\n\", c)\n",
    "print(\"Shape of c:\", c.shape)\n",
    "\n",
    "# Stack as columns\n",
    "result = np.column_stack((a, b, c))\n",
    "\n",
    "# Print the result and its shape\n",
    "print(\"\\nResult after column_stack:\\n\", result)\n",
    "print(\"Shape of result:\", result.shape)\n"
   ]
  },
  {
   "cell_type": "code",
   "execution_count": null,
   "id": "9b94d10b",
   "metadata": {},
   "outputs": [],
   "source": []
  },
  {
   "cell_type": "code",
   "execution_count": 12,
   "id": "8b26212a",
   "metadata": {},
   "outputs": [
    {
     "name": "stdout",
     "output_type": "stream",
     "text": [
      "Array a:\n",
      " [[1 2]\n",
      " [3 4]]\n",
      "Shape of a: (2, 2)\n",
      "Array b:\n",
      " [[5 6]\n",
      " [7 8]]\n",
      "Shape of b: (2, 2)\n",
      "\n",
      "Result after column_stack:\n",
      " [[1 2 5 6]\n",
      " [3 4 7 8]]\n",
      "Shape of result: (2, 4)\n"
     ]
    }
   ],
   "source": [
    "# Stacking 2D Arrays\n",
    "\n",
    "import numpy as np\n",
    "\n",
    "# Two 2D arrays\n",
    "a = np.array([[1, 2], [3, 4]])\n",
    "b = np.array([[5, 6], [7, 8]])\n",
    "\n",
    "# Print input arrays and their shapes\n",
    "print(\"Array a:\\n\", a)\n",
    "print(\"Shape of a:\", a.shape)\n",
    "\n",
    "print(\"Array b:\\n\", b)\n",
    "print(\"Shape of b:\", b.shape)\n",
    "\n",
    "# Stack as columns\n",
    "result = np.column_stack((a, b))\n",
    "\n",
    "# Print the result and its shape\n",
    "print(\"\\nResult after column_stack:\\n\", result)\n",
    "print(\"Shape of result:\", result.shape)\n"
   ]
  },
  {
   "cell_type": "code",
   "execution_count": null,
   "id": "1617ec28",
   "metadata": {},
   "outputs": [],
   "source": []
  },
  {
   "cell_type": "code",
   "execution_count": 13,
   "id": "58cd5a83",
   "metadata": {},
   "outputs": [
    {
     "name": "stdout",
     "output_type": "stream",
     "text": [
      "Array a:\n",
      " [1 2 3]\n",
      "Shape of a: (3,)\n",
      "Array b:\n",
      " [[4 5 6]\n",
      " [7 8 9]]\n",
      "Shape of b: (2, 3)\n",
      "\n",
      "Result after column_stack:\n",
      " [[1 4 7]\n",
      " [2 5 8]\n",
      " [3 6 9]]\n",
      "Shape of result: (3, 3)\n"
     ]
    }
   ],
   "source": [
    "# Stacking Arrays of Different Dimensions\n",
    "\n",
    "import numpy as np\n",
    "\n",
    "# One 1D array and one 2D array\n",
    "a = np.array([1, 2, 3])\n",
    "b = np.array([[4, 5, 6], [7, 8, 9]])\n",
    "\n",
    "# Print input arrays and their shapes\n",
    "print(\"Array a:\\n\", a)\n",
    "print(\"Shape of a:\", a.shape)\n",
    "\n",
    "print(\"Array b:\\n\", b)\n",
    "print(\"Shape of b:\", b.shape)\n",
    "\n",
    "# Stack as columns\n",
    "result = np.column_stack((a, b.T))  # Using transpose (b.T) to match dimensions\n",
    "\n",
    "# Print the result and its shape\n",
    "print(\"\\nResult after column_stack:\\n\", result)\n",
    "print(\"Shape of result:\", result.shape)\n"
   ]
  },
  {
   "cell_type": "code",
   "execution_count": null,
   "id": "479bc1cb",
   "metadata": {},
   "outputs": [],
   "source": []
  },
  {
   "cell_type": "code",
   "execution_count": 14,
   "id": "67638672",
   "metadata": {},
   "outputs": [
    {
     "name": "stdout",
     "output_type": "stream",
     "text": [
      "Array a:\n",
      " []\n",
      "Shape of a: (0,)\n",
      "Array b:\n",
      " []\n",
      "Shape of b: (0,)\n",
      "\n",
      "Result after column_stack:\n",
      " []\n",
      "Shape of result: (0, 2)\n"
     ]
    }
   ],
   "source": [
    "# Edge Case with Zero-Length Arrays\n",
    "\n",
    "import numpy as np\n",
    "\n",
    "# Two empty 1D arrays\n",
    "a = np.array([])\n",
    "b = np.array([])\n",
    "\n",
    "# Print input arrays and their shapes\n",
    "print(\"Array a:\\n\", a)\n",
    "print(\"Shape of a:\", a.shape)\n",
    "\n",
    "print(\"Array b:\\n\", b)\n",
    "print(\"Shape of b:\", b.shape)\n",
    "\n",
    "# Stack as columns\n",
    "result = np.column_stack((a, b))\n",
    "\n",
    "# Print the result and its shape\n",
    "print(\"\\nResult after column_stack:\\n\", result)\n",
    "print(\"Shape of result:\", result.shape)\n"
   ]
  },
  {
   "cell_type": "code",
   "execution_count": null,
   "id": "a97de80c",
   "metadata": {},
   "outputs": [],
   "source": []
  },
  {
   "cell_type": "markdown",
   "id": "9137f5b9",
   "metadata": {},
   "source": [
    "# Important Points to Note:\n",
    "\n",
    "Shape Compatibility: All input arrays must have the same length (number of elements) along the first axis. Otherwise, column_stack() will raise an error.\n",
    "\n",
    "Promotion to 2D: If 1D arrays are passed, they are automatically promoted to 2D (with one column per array)."
   ]
  },
  {
   "cell_type": "markdown",
   "id": "cf9726d3",
   "metadata": {},
   "source": [
    "# Use Cases:\n",
    "\n",
    "Data Preparation: column_stack() is very useful when preparing data matrices from individual feature columns (1D arrays) for machine learning tasks.\n",
    "    \n",
    "Merging Data: It helps combine separate arrays representing different variables into a single 2D array for further analysis.\n",
    "    \n",
    "Scientific Computation: In scientific applications, column_stack() is often used to combine different measurements into a data matrix."
   ]
  },
  {
   "cell_type": "code",
   "execution_count": null,
   "id": "1be049e8",
   "metadata": {},
   "outputs": [],
   "source": []
  },
  {
   "cell_type": "code",
   "execution_count": null,
   "id": "7dbdfd8f",
   "metadata": {},
   "outputs": [],
   "source": []
  },
  {
   "cell_type": "code",
   "execution_count": null,
   "id": "8e235a38",
   "metadata": {},
   "outputs": [],
   "source": []
  }
 ],
 "metadata": {
  "kernelspec": {
   "display_name": "Python 3 (ipykernel)",
   "language": "python",
   "name": "python3"
  },
  "language_info": {
   "codemirror_mode": {
    "name": "ipython",
    "version": 3
   },
   "file_extension": ".py",
   "mimetype": "text/x-python",
   "name": "python",
   "nbconvert_exporter": "python",
   "pygments_lexer": "ipython3",
   "version": "3.11.5"
  }
 },
 "nbformat": 4,
 "nbformat_minor": 5
}
