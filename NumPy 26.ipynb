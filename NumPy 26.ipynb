{
 "cells": [
  {
   "cell_type": "code",
   "execution_count": 71,
   "id": "9e24ce82",
   "metadata": {},
   "outputs": [
    {
     "name": "stdout",
     "output_type": "stream",
     "text": [
      "[ True False  True]\n"
     ]
    }
   ],
   "source": [
    "import numpy as np\n",
    "\n",
    "text = np.array([\"Python is powerful\", \"Machine Learning\", \"Python programming\"])\n",
    "result = np.strings.startswith(text, \"Python\")\n",
    "print(result)"
   ]
  },
  {
   "cell_type": "code",
   "execution_count": 72,
   "id": "4e6d3877",
   "metadata": {},
   "outputs": [
    {
     "name": "stdout",
     "output_type": "stream",
     "text": [
      "[ True]\n"
     ]
    }
   ],
   "source": [
    "text = np.array([\"Artificial Intelligence is evolving\"])\n",
    "result = np.strings.startswith(text, \"Intelligence\", start=11)\n",
    "print(result)"
   ]
  },
  {
   "cell_type": "code",
   "execution_count": 73,
   "id": "5446a51c",
   "metadata": {},
   "outputs": [
    {
     "name": "stdout",
     "output_type": "stream",
     "text": [
      "[ True]\n"
     ]
    }
   ],
   "source": [
    "text = np.array([\"Machine Learning is powerful\"])\n",
    "result = np.strings.startswith(text, \"Learning\", start=8, end=20)\n",
    "print(result)"
   ]
  },
  {
   "cell_type": "code",
   "execution_count": 74,
   "id": "fe75abbe",
   "metadata": {},
   "outputs": [
    {
     "name": "stdout",
     "output_type": "stream",
     "text": [
      "[ True False]\n"
     ]
    }
   ],
   "source": [
    "text = np.array([\"Python is great\", \"python is easy\"])\n",
    "result = np.strings.startswith(text, \"Python\")\n",
    "print(result)"
   ]
  },
  {
   "cell_type": "code",
   "execution_count": 75,
   "id": "cd1bf740",
   "metadata": {},
   "outputs": [
    {
     "name": "stdout",
     "output_type": "stream",
     "text": [
      "['ERROR: File not found']\n"
     ]
    }
   ],
   "source": [
    "logs = np.array([\"ERROR: File not found\", \"INFO: Operation successful\", \"WARNING: Low disk space\"])\n",
    "error_logs = logs[np.strings.startswith(logs, \"ERROR\")]\n",
    "print(error_logs)"
   ]
  },
  {
   "cell_type": "code",
   "execution_count": 76,
   "id": "d7381ae1",
   "metadata": {},
   "outputs": [
    {
     "name": "stdout",
     "output_type": "stream",
     "text": [
      "[ True False  True]\n"
     ]
    }
   ],
   "source": [
    "urls = np.array([\"https://google.com\", \"http://example.com\", \"https://github.com\"])\n",
    "is_secure = np.strings.startswith(urls, \"https://\")\n",
    "print(is_secure)"
   ]
  },
  {
   "cell_type": "code",
   "execution_count": 77,
   "id": "748faee3",
   "metadata": {},
   "outputs": [
    {
     "name": "stdout",
     "output_type": "stream",
     "text": [
      "[ True False  True False]\n"
     ]
    }
   ],
   "source": [
    "usernames = np.array([\"admin_123\", \"user_456\", \"admin_789\", \"guest_001\"])\n",
    "is_admin = np.strings.startswith(usernames, \"admin\")\n",
    "print(is_admin)"
   ]
  },
  {
   "cell_type": "code",
   "execution_count": null,
   "id": "d23fc2b9",
   "metadata": {},
   "outputs": [],
   "source": []
  },
  {
   "cell_type": "code",
   "execution_count": null,
   "id": "6ebbd9be",
   "metadata": {},
   "outputs": [],
   "source": []
  },
  {
   "cell_type": "code",
   "execution_count": 78,
   "id": "52cd3192",
   "metadata": {},
   "outputs": [
    {
     "name": "stdout",
     "output_type": "stream",
     "text": [
      "[ True False False]\n"
     ]
    }
   ],
   "source": [
    "import numpy as np\n",
    "\n",
    "text = np.array([\"data.csv\", \"report.pdf\", \"presentation.ppt\"])\n",
    "result = np.strings.endswith(text, \".csv\")\n",
    "print(result)"
   ]
  },
  {
   "cell_type": "code",
   "execution_count": 79,
   "id": "07c143d5",
   "metadata": {},
   "outputs": [
    {
     "name": "stdout",
     "output_type": "stream",
     "text": [
      "[ True]\n"
     ]
    }
   ],
   "source": [
    "text = np.array([\"artificial intelligence is amazing\"])\n",
    "result = np.strings.endswith(text, \"amazing\", start=10)\n",
    "print(result)"
   ]
  },
  {
   "cell_type": "code",
   "execution_count": 80,
   "id": "d84cbe8f",
   "metadata": {},
   "outputs": [
    {
     "name": "stdout",
     "output_type": "stream",
     "text": [
      "[ True]\n"
     ]
    }
   ],
   "source": [
    "text = np.array([\"Machine Learning is powerful\"])\n",
    "result = np.strings.endswith(text, \"Learning\", start=0, end=16)\n",
    "print(result)"
   ]
  },
  {
   "cell_type": "code",
   "execution_count": 81,
   "id": "e2f56f0a",
   "metadata": {},
   "outputs": [
    {
     "name": "stdout",
     "output_type": "stream",
     "text": [
      "[False False]\n"
     ]
    }
   ],
   "source": [
    "text = np.array([\"Python is great\", \"python is easy\"])\n",
    "result = np.strings.endswith(text, \"Easy\")\n",
    "print(result)\n"
   ]
  },
  {
   "cell_type": "code",
   "execution_count": 82,
   "id": "802bcfae",
   "metadata": {},
   "outputs": [
    {
     "name": "stdout",
     "output_type": "stream",
     "text": [
      "[ True False False]\n"
     ]
    }
   ],
   "source": [
    "emails = np.array([\"user@gmail.com\", \"admin@yahoo.com\", \"support@outlook.com\"])\n",
    "is_gmail = np.strings.endswith(emails, \"@gmail.com\")\n",
    "print(is_gmail)"
   ]
  },
  {
   "cell_type": "code",
   "execution_count": 83,
   "id": "d26b068d",
   "metadata": {},
   "outputs": [
    {
     "name": "stdout",
     "output_type": "stream",
     "text": [
      "[False  True  True]\n"
     ]
    }
   ],
   "source": [
    "urls = np.array([\"https://secure.net\", \"http://example.com\", \"https://bank.com\"])\n",
    "is_secure = np.strings.endswith(urls, \".com\")\n",
    "print(is_secure)"
   ]
  },
  {
   "cell_type": "code",
   "execution_count": null,
   "id": "4d2b3515",
   "metadata": {},
   "outputs": [],
   "source": []
  },
  {
   "cell_type": "code",
   "execution_count": null,
   "id": "4f5e461c",
   "metadata": {},
   "outputs": [],
   "source": []
  },
  {
   "cell_type": "code",
   "execution_count": null,
   "id": "aa412e0b",
   "metadata": {},
   "outputs": [],
   "source": []
  }
 ],
 "metadata": {
  "kernelspec": {
   "display_name": "Python 3 (ipykernel)",
   "language": "python",
   "name": "python3"
  },
  "language_info": {
   "codemirror_mode": {
    "name": "ipython",
    "version": 3
   },
   "file_extension": ".py",
   "mimetype": "text/x-python",
   "name": "python",
   "nbconvert_exporter": "python",
   "pygments_lexer": "ipython3",
   "version": "3.11.5"
  }
 },
 "nbformat": 4,
 "nbformat_minor": 5
}
