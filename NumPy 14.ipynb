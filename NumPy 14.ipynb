{
 "cells": [
  {
   "cell_type": "code",
   "execution_count": 1,
   "id": "e9255f1d",
   "metadata": {},
   "outputs": [
    {
     "name": "stdout",
     "output_type": "stream",
     "text": [
      "Input Array:\n",
      "[[0 1]\n",
      " [2 3]\n",
      " [4 5]]\n",
      "Shape: (3, 2)\n",
      "\n",
      "Result of Insertion in Flattened Array:\n",
      "[0 6 1 2 3 4 5]\n",
      "Shape: (7,)\n"
     ]
    }
   ],
   "source": [
    "# Inserting a Scalar Value into a Flattened Array\n",
    "\n",
    "import numpy as np\n",
    "\n",
    "# Create a 2D array\n",
    "arr = np.arange(6).reshape(3, 2)\n",
    "print(\"Input Array:\")\n",
    "print(arr)\n",
    "print(\"Shape:\", arr.shape)\n",
    "\n",
    "# Insert value '6' at index 1 in the flattened array\n",
    "result = np.insert(arr, 1, 6)\n",
    "print(\"\\nResult of Insertion in Flattened Array:\")\n",
    "print(result)\n",
    "print(\"Shape:\", result.shape)\n"
   ]
  },
  {
   "cell_type": "code",
   "execution_count": 5,
   "id": "bcb527be",
   "metadata": {},
   "outputs": [
    {
     "name": "stdout",
     "output_type": "stream",
     "text": [
      "Input Array:\n",
      "[[0 1]\n",
      " [2 3]\n",
      " [4 5]]\n",
      "Shape: (3, 2)\n",
      "\n",
      "Result of Insertion Along Axis=1:\n",
      "[[0 6 1]\n",
      " [2 6 3]\n",
      " [4 6 5]]\n",
      "Shape: (3, 3)\n"
     ]
    }
   ],
   "source": [
    "# Inserting a Scalar Along a Specific Axis\n",
    "\n",
    "print(\"Input Array:\")\n",
    "print(arr)\n",
    "print(\"Shape:\", arr.shape)\n",
    "\n",
    "# Insert '6' along axis=1, before index 1\n",
    "result = np.insert(arr, 1, 6, axis=1)\n",
    "print(\"\\nResult of Insertion Along Axis=1:\")\n",
    "print(result)\n",
    "print(\"Shape:\", result.shape)\n"
   ]
  },
  {
   "cell_type": "code",
   "execution_count": 3,
   "id": "00fc3460",
   "metadata": {},
   "outputs": [
    {
     "name": "stdout",
     "output_type": "stream",
     "text": [
      "Input Array:\n",
      "[[0 1]\n",
      " [2 3]\n",
      " [4 5]]\n",
      "Shape: (3, 2)\n",
      "\n",
      "Result with Multiple Values at Index 1 Along Axis=1:\n",
      "[[0 7 1]\n",
      " [2 8 3]\n",
      " [4 9 5]]\n",
      "Shape: (3, 3)\n"
     ]
    }
   ],
   "source": [
    "#  Inserting Multiple Values with Advanced Indexing\n",
    "\n",
    "print(\"Input Array:\")\n",
    "print(arr)\n",
    "print(\"Shape:\", arr.shape)\n",
    "\n",
    "# Insert different values at the same index across rows\n",
    "result = np.insert(arr, [1], [[7], [8], [9]], axis=1)\n",
    "print(\"\\nResult with Multiple Values at Index 1 Along Axis=1:\")\n",
    "print(result)\n",
    "print(\"Shape:\", result.shape)\n"
   ]
  },
  {
   "cell_type": "code",
   "execution_count": 6,
   "id": "41dc0f9e",
   "metadata": {},
   "outputs": [
    {
     "name": "stdout",
     "output_type": "stream",
     "text": [
      "Input Array:\n",
      "[[0 1]\n",
      " [2 3]\n",
      " [4 5]]\n",
      "Shape: (3, 2)\n",
      "\n",
      "Flattened array:\n",
      " [0 1 2 3 4 5]\n",
      "\n",
      "Result with Sliced Insertion in Flattened Array:\n",
      "[0 1 7 2 8 3 4 5]\n",
      "Shape: (8,)\n"
     ]
    }
   ],
   "source": [
    "# Using Slices for Insertion\n",
    "\n",
    "print(\"Input Array:\")\n",
    "print(arr)\n",
    "print(\"Shape:\", arr.shape)\n",
    "\n",
    "# Flatten the array and insert using a slice\n",
    "arr_flattened = arr.flatten()\n",
    "print(\"\\nFlattened array:\\n\",arr_flattened)\n",
    "\n",
    "result = np.insert(arr, slice(2, 4), [7, 8])\n",
    "print(\"\\nResult with Sliced Insertion in Flattened Array:\")\n",
    "print(result)\n",
    "print(\"Shape:\", result.shape)"
   ]
  },
  {
   "cell_type": "code",
   "execution_count": null,
   "id": "a5c9c33a",
   "metadata": {},
   "outputs": [],
   "source": []
  },
  {
   "cell_type": "code",
   "execution_count": null,
   "id": "e61799b9",
   "metadata": {},
   "outputs": [],
   "source": []
  },
  {
   "cell_type": "code",
   "execution_count": null,
   "id": "597da875",
   "metadata": {},
   "outputs": [],
   "source": []
  },
  {
   "cell_type": "code",
   "execution_count": null,
   "id": "ec4ec362",
   "metadata": {},
   "outputs": [],
   "source": []
  },
  {
   "cell_type": "code",
   "execution_count": 7,
   "id": "d062f5c3",
   "metadata": {},
   "outputs": [
    {
     "name": "stdout",
     "output_type": "stream",
     "text": [
      "Original Array:\n",
      "[1 2 3 4 5]\n",
      "\n",
      "Array after deleting element at index 2:\n",
      "[1 2 4 5]\n"
     ]
    }
   ],
   "source": [
    "# Delete an Element from a 1D Array\n",
    "\n",
    "import numpy as np\n",
    "\n",
    "# Define a 1D array\n",
    "arr = np.array([1, 2, 3, 4, 5])\n",
    "print(\"Original Array:\")\n",
    "print(arr)\n",
    "\n",
    "# Delete the element at index 2\n",
    "result = np.delete(arr, 2)\n",
    "print(\"\\nArray after deleting element at index 2:\")\n",
    "print(result)"
   ]
  },
  {
   "cell_type": "code",
   "execution_count": 8,
   "id": "06fffb33",
   "metadata": {},
   "outputs": [
    {
     "name": "stdout",
     "output_type": "stream",
     "text": [
      "\n",
      "Original 2D Array:\n",
      "[[1 2 3]\n",
      " [4 5 6]\n",
      " [7 8 9]]\n",
      "\n",
      "Array after deleting row 1:\n",
      "[[1 2 3]\n",
      " [7 8 9]]\n"
     ]
    }
   ],
   "source": [
    "# Delete a Row from a 2D Array\n",
    "\n",
    "# Define a 2D array\n",
    "arr = np.array([[1, 2, 3], [4, 5, 6], [7, 8, 9]])\n",
    "print(\"\\nOriginal 2D Array:\")\n",
    "print(arr)\n",
    "\n",
    "# Delete the row at index 1\n",
    "result = np.delete(arr, 1, axis=0)\n",
    "print(\"\\nArray after deleting row 1:\")\n",
    "print(result)\n"
   ]
  },
  {
   "cell_type": "code",
   "execution_count": 10,
   "id": "0cf9b4f1",
   "metadata": {},
   "outputs": [
    {
     "name": "stdout",
     "output_type": "stream",
     "text": [
      "\n",
      "Original 2D Array:\n",
      "[[1 2 3]\n",
      " [4 5 6]\n",
      " [7 8 9]]\n",
      "\n",
      "Array after deleting column 1:\n",
      "[[2 3]\n",
      " [5 6]\n",
      " [8 9]]\n"
     ]
    }
   ],
   "source": [
    "# Delete a Column from a 2D Array\n",
    "\n",
    "print(\"\\nOriginal 2D Array:\")\n",
    "print(arr)\n",
    "\n",
    "# Delete the column at index 1\n",
    "result = np.delete(arr, 0, axis=1)\n",
    "print(\"\\nArray after deleting column 1:\")\n",
    "print(result)"
   ]
  },
  {
   "cell_type": "code",
   "execution_count": 11,
   "id": "f90f7566",
   "metadata": {},
   "outputs": [
    {
     "name": "stdout",
     "output_type": "stream",
     "text": [
      "\n",
      "Original 2D Array:\n",
      "[[ 1  2  3  4]\n",
      " [ 5  6  7  8]\n",
      " [ 9 10 11 12]]\n",
      "\n",
      "Flattened array:\n",
      " [ 1  2  3  4  5  6  7  8  9 10 11 12]\n",
      "\n",
      "Array after deleting multiple indices (flattened):\n",
      "[ 1  3  5  7  8  9 10 11 12]\n"
     ]
    }
   ],
   "source": [
    "# Delete Elements at Multiple Indices in a Flattened Array\n",
    "\n",
    "# Define a 2D array\n",
    "arr = np.array([[1, 2, 3, 4], [5, 6, 7, 8], [9, 10, 11, 12]])\n",
    "print(\"\\nOriginal 2D Array:\")\n",
    "print(arr)\n",
    "\n",
    "arr_flattened = arr.flatten()\n",
    "print(\"\\nFlattened array:\\n\",arr_flattened)\n",
    "\n",
    "# Delete elements at indices 1, 3, and 5 from the flattened array\n",
    "result = np.delete(arr, [1, 3, 5], axis=None)\n",
    "print(\"\\nArray after deleting multiple indices (flattened):\")\n",
    "print(result)\n"
   ]
  },
  {
   "cell_type": "code",
   "execution_count": 12,
   "id": "da203e17",
   "metadata": {},
   "outputs": [
    {
     "name": "stdout",
     "output_type": "stream",
     "text": [
      "\n",
      "Original Array:\n",
      "[ 0  1  2  3  4  5  6  7  8  9 10 11]\n",
      "\n",
      "mask:\n",
      " [ True  True  True  True  True  True  True  True  True  True  True  True]\n",
      "\n",
      "mask:\n",
      " [False  True False  True False  True  True  True  True  True  True  True]\n",
      "\n",
      "Array after applying boolean mask to delete elements at indices 0, 2, and 4:\n",
      "[ 1  3  5  6  7  8  9 10 11]\n"
     ]
    }
   ],
   "source": [
    "#  Using Boolean Masking for Deletion\n",
    "\n",
    "# Instead of using numpy.delete(), you can also use a boolean mask to selectively keep elements in the array.\n",
    "\n",
    "# Define a 1D array\n",
    "arr = np.arange(12)\n",
    "print(\"\\nOriginal Array:\")\n",
    "print(arr)\n",
    "\n",
    "# Create a mask to delete elements at indices 0, 2, and 4\n",
    "mask = np.ones(len(arr), dtype=bool)\n",
    "print(\"\\nmask:\\n\",mask)\n",
    "\n",
    "mask[[0, 2, 4]] = False\n",
    "print(\"\\nmask:\\n\",mask)\n",
    "\n",
    "result = arr[mask]\n",
    "print(\"\\nArray after applying boolean mask to delete elements at indices 0, 2, and 4:\")\n",
    "print(result)"
   ]
  },
  {
   "cell_type": "code",
   "execution_count": null,
   "id": "a2e1250a",
   "metadata": {},
   "outputs": [],
   "source": []
  },
  {
   "cell_type": "code",
   "execution_count": null,
   "id": "40c1beca",
   "metadata": {},
   "outputs": [],
   "source": []
  },
  {
   "cell_type": "code",
   "execution_count": null,
   "id": "71d6d6bc",
   "metadata": {},
   "outputs": [],
   "source": []
  }
 ],
 "metadata": {
  "kernelspec": {
   "display_name": "Python 3 (ipykernel)",
   "language": "python",
   "name": "python3"
  },
  "language_info": {
   "codemirror_mode": {
    "name": "ipython",
    "version": 3
   },
   "file_extension": ".py",
   "mimetype": "text/x-python",
   "name": "python",
   "nbconvert_exporter": "python",
   "pygments_lexer": "ipython3",
   "version": "3.11.5"
  }
 },
 "nbformat": 4,
 "nbformat_minor": 5
}
