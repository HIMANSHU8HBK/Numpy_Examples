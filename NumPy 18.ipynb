{
 "cells": [
  {
   "cell_type": "code",
   "execution_count": 5,
   "id": "37374295",
   "metadata": {},
   "outputs": [
    {
     "name": "stdout",
     "output_type": "stream",
     "text": [
      "72\n"
     ]
    }
   ],
   "source": [
    "# Get ASCII code of a character\n",
    "\n",
    "print(ord('H'))"
   ]
  },
  {
   "cell_type": "code",
   "execution_count": 10,
   "id": "4fd4fd13",
   "metadata": {},
   "outputs": [
    {
     "name": "stdout",
     "output_type": "stream",
     "text": [
      "\u000b",
      "\n"
     ]
    }
   ],
   "source": [
    "# Get character from ASCII code\n",
    "\n",
    "print(chr(11))"
   ]
  },
  {
   "cell_type": "code",
   "execution_count": 11,
   "id": "4e4353e0",
   "metadata": {},
   "outputs": [
    {
     "name": "stdout",
     "output_type": "stream",
     "text": [
      "hello\n"
     ]
    }
   ],
   "source": [
    "# convert bytes to readable strings\n",
    "\n",
    "b = b'\\x68\\x65\\x6C\\x6C\\x6F'\n",
    "print(b.decode('ascii'))"
   ]
  },
  {
   "cell_type": "code",
   "execution_count": 12,
   "id": "88671ec0",
   "metadata": {},
   "outputs": [
    {
     "name": "stdout",
     "output_type": "stream",
     "text": [
      "68656c6c6f\n"
     ]
    }
   ],
   "source": [
    "# view the raw hexadecimal values\n",
    "\n",
    "b = b'\\x68\\x65\\x6C\\x6C\\x6F'\n",
    "print(b.hex())"
   ]
  },
  {
   "cell_type": "code",
   "execution_count": null,
   "id": "3463a7ea",
   "metadata": {},
   "outputs": [],
   "source": []
  },
  {
   "cell_type": "code",
   "execution_count": null,
   "id": "54d12743",
   "metadata": {},
   "outputs": [],
   "source": []
  },
  {
   "cell_type": "code",
   "execution_count": null,
   "id": "7a84be35",
   "metadata": {},
   "outputs": [],
   "source": []
  },
  {
   "cell_type": "code",
   "execution_count": null,
   "id": "a451f3d2",
   "metadata": {},
   "outputs": [],
   "source": []
  },
  {
   "cell_type": "code",
   "execution_count": 13,
   "id": "9acc7976",
   "metadata": {},
   "outputs": [
    {
     "name": "stdout",
     "output_type": "stream",
     "text": [
      "Array: ['hello' 'world' 'नमस्ते' '你好']\n",
      "Data type: <U6\n"
     ]
    }
   ],
   "source": [
    "# Unicode Strings (str_ or <U)\n",
    "\n",
    "\n",
    "import numpy as np\n",
    "\n",
    "# Array of Unicode strings\n",
    "arr = np.array(['hello', 'world', 'नमस्ते', '你好'], dtype='str_')\n",
    "\n",
    "print(\"Array:\", arr)\n",
    "print(\"Data type:\", arr.dtype)\n"
   ]
  },
  {
   "cell_type": "code",
   "execution_count": 14,
   "id": "191852f0",
   "metadata": {},
   "outputs": [
    {
     "name": "stdout",
     "output_type": "stream",
     "text": [
      "Array: [b'hello' b'world play']\n",
      "Data type: |S10\n"
     ]
    }
   ],
   "source": [
    "# Array of byte strings\n",
    "arr = np.array(['hello', 'world play'], dtype='S')\n",
    "\n",
    "print(\"Array:\", arr)\n",
    "print(\"Data type:\", arr.dtype)\n"
   ]
  },
  {
   "cell_type": "code",
   "execution_count": 16,
   "id": "68fe0ea2",
   "metadata": {},
   "outputs": [
    {
     "name": "stdout",
     "output_type": "stream",
     "text": [
      "['hello' 'world']\n",
      "StringDType()\n"
     ]
    }
   ],
   "source": [
    "from numpy.dtypes import StringDType\n",
    "\n",
    "# Example using StringDType\n",
    "arr = np.array(['hello', 'world'], dtype=StringDType)\n",
    "print(arr)\n",
    "print(arr.dtype)"
   ]
  },
  {
   "cell_type": "code",
   "execution_count": null,
   "id": "94b7c396",
   "metadata": {},
   "outputs": [],
   "source": []
  },
  {
   "cell_type": "code",
   "execution_count": 15,
   "id": "cc9e0fed",
   "metadata": {},
   "outputs": [
    {
     "name": "stdout",
     "output_type": "stream",
     "text": [
      "2.1.3\n"
     ]
    }
   ],
   "source": [
    "import numpy as np\n",
    "print(np.__version__)"
   ]
  },
  {
   "cell_type": "code",
   "execution_count": null,
   "id": "2a57f3b0",
   "metadata": {},
   "outputs": [],
   "source": [
    "# pip install --upgrade numpy\n"
   ]
  },
  {
   "cell_type": "code",
   "execution_count": null,
   "id": "3d12d413",
   "metadata": {},
   "outputs": [],
   "source": [
    "# https://numpy.org/devdocs/user/basics.strings.html"
   ]
  },
  {
   "cell_type": "code",
   "execution_count": null,
   "id": "cd2c11c2",
   "metadata": {},
   "outputs": [],
   "source": []
  },
  {
   "cell_type": "code",
   "execution_count": 19,
   "id": "6f39e28d",
   "metadata": {},
   "outputs": [
    {
     "data": {
      "text/plain": [
       "array([b'\\x68\\x65\\x6C\\x6C\\x6F', b'\\x77\\x6F\\x72\\x6C\\x64'], dtype='|V5')"
      ]
     },
     "execution_count": 19,
     "metadata": {},
     "output_type": "execute_result"
    }
   ],
   "source": [
    "# Example using Void datatype\n",
    "arr = np.array([b'hello', b'world'], dtype=np.void)\n",
    "arr"
   ]
  },
  {
   "cell_type": "code",
   "execution_count": null,
   "id": "32f89897",
   "metadata": {},
   "outputs": [],
   "source": []
  },
  {
   "cell_type": "code",
   "execution_count": 21,
   "id": "f6012725",
   "metadata": {},
   "outputs": [
    {
     "data": {
      "text/plain": [
       "array(['hello', 'world'], dtype='<U5')"
      ]
     },
     "execution_count": 21,
     "metadata": {},
     "output_type": "execute_result"
    }
   ],
   "source": [
    "arr = np.array([\"hello\", \"world\"])\n",
    "arr"
   ]
  },
  {
   "cell_type": "code",
   "execution_count": 22,
   "id": "f2c6084c",
   "metadata": {},
   "outputs": [
    {
     "data": {
      "text/plain": [
       "array([b'hello', b'world'], dtype='|S5')"
      ]
     },
     "execution_count": 22,
     "metadata": {},
     "output_type": "execute_result"
    }
   ],
   "source": [
    "np.array([b\"hello\", b\"world\"])"
   ]
  },
  {
   "cell_type": "code",
   "execution_count": null,
   "id": "d04d45fb",
   "metadata": {},
   "outputs": [],
   "source": []
  },
  {
   "cell_type": "code",
   "execution_count": null,
   "id": "51da7a25",
   "metadata": {},
   "outputs": [],
   "source": []
  },
  {
   "cell_type": "code",
   "execution_count": null,
   "id": "fe2f1a42",
   "metadata": {},
   "outputs": [],
   "source": [
    "# Converting Between Fixed-width and Variable-width Strings"
   ]
  },
  {
   "cell_type": "code",
   "execution_count": 23,
   "id": "43660140",
   "metadata": {},
   "outputs": [
    {
     "data": {
      "text/plain": [
       "array(['hello', 'world'], dtype=StringDType())"
      ]
     },
     "execution_count": 23,
     "metadata": {},
     "output_type": "execute_result"
    }
   ],
   "source": [
    "arr = np.array([\"hello\", \"world\"], dtype=StringDType())\n",
    "arr"
   ]
  },
  {
   "cell_type": "code",
   "execution_count": 24,
   "id": "892ddf76",
   "metadata": {},
   "outputs": [
    {
     "ename": "TypeError",
     "evalue": "cannot cast dtype StringDType() to <class 'numpy.dtypes.StrDType'>.",
     "output_type": "error",
     "traceback": [
      "\u001b[1;31m---------------------------------------------------------------------------\u001b[0m",
      "\u001b[1;31mTypeError\u001b[0m                                 Traceback (most recent call last)",
      "\u001b[1;31mTypeError\u001b[0m: Casting from StringDType to a fixed-width dtype with an unspecified size is not currently supported, specify an explicit size for the output dtype instead.",
      "\nThe above exception was the direct cause of the following exception:\n",
      "\u001b[1;31mTypeError\u001b[0m                                 Traceback (most recent call last)",
      "Cell \u001b[1;32mIn[24], line 1\u001b[0m\n\u001b[1;32m----> 1\u001b[0m fixed_arr \u001b[38;5;241m=\u001b[39m arr\u001b[38;5;241m.\u001b[39mastype(np\u001b[38;5;241m.\u001b[39mstr_)\n",
      "\u001b[1;31mTypeError\u001b[0m: cannot cast dtype StringDType() to <class 'numpy.dtypes.StrDType'>."
     ]
    }
   ],
   "source": [
    "fixed_arr = arr.astype(np.str_)"
   ]
  },
  {
   "cell_type": "code",
   "execution_count": 25,
   "id": "3d88a9b6",
   "metadata": {},
   "outputs": [
    {
     "data": {
      "text/plain": [
       "array(['hello', 'world'], dtype='<U5')"
      ]
     },
     "execution_count": 25,
     "metadata": {},
     "output_type": "execute_result"
    }
   ],
   "source": [
    "# Casting to Fixed-width Unicode (numpy.str_)\n",
    "\n",
    "arr = np.array([\"hello\", \"world\"], dtype=StringDType())\n",
    "fixed_arr = arr.astype(\"<U5\")\n",
    "fixed_arr"
   ]
  },
  {
   "cell_type": "code",
   "execution_count": 28,
   "id": "71c29e83",
   "metadata": {},
   "outputs": [
    {
     "data": {
      "text/plain": [
       "array(['hello', 'world'], dtype='<U5')"
      ]
     },
     "execution_count": 28,
     "metadata": {},
     "output_type": "execute_result"
    }
   ],
   "source": [
    "fixed_arr = arr.astype(\"U5\")\n",
    "fixed_arr"
   ]
  },
  {
   "cell_type": "code",
   "execution_count": 29,
   "id": "0dde34f0",
   "metadata": {},
   "outputs": [
    {
     "data": {
      "text/plain": [
       "array(['hello', 'world'], dtype=StringDType())"
      ]
     },
     "execution_count": 29,
     "metadata": {},
     "output_type": "execute_result"
    }
   ],
   "source": [
    "arr = np.array([\"hello\", \"world\"], dtype=StringDType())\n",
    "arr"
   ]
  },
  {
   "cell_type": "code",
   "execution_count": 30,
   "id": "cc112ea8",
   "metadata": {},
   "outputs": [
    {
     "data": {
      "text/plain": [
       "array([b'\\x68\\x65\\x6C\\x6C\\x6F', b'\\x77\\x6F\\x72\\x6C\\x64'], dtype='|V5')"
      ]
     },
     "execution_count": 30,
     "metadata": {},
     "output_type": "execute_result"
    }
   ],
   "source": [
    "arr.astype(\"V5\")"
   ]
  },
  {
   "cell_type": "code",
   "execution_count": 31,
   "id": "d8d0dced",
   "metadata": {},
   "outputs": [
    {
     "name": "stdout",
     "output_type": "stream",
     "text": [
      "104\n"
     ]
    }
   ],
   "source": [
    "# Convert a single hexadecimal value to decimal\n",
    "hex_value = \"0x68\"  # Hexadecimal representation of 'h'\n",
    "decimal_value = int(hex_value, 16)\n",
    "print(decimal_value) "
   ]
  },
  {
   "cell_type": "code",
   "execution_count": 32,
   "id": "c453654b",
   "metadata": {},
   "outputs": [
    {
     "name": "stdout",
     "output_type": "stream",
     "text": [
      "104\n"
     ]
    }
   ],
   "source": [
    "hex_value = \"68\"\n",
    "decimal_value = int(hex_value, 16)\n",
    "print(decimal_value)  # Output: 104"
   ]
  },
  {
   "cell_type": "code",
   "execution_count": 33,
   "id": "f71b9787",
   "metadata": {},
   "outputs": [
    {
     "name": "stdout",
     "output_type": "stream",
     "text": [
      "[104, 101, 108, 108, 111]\n"
     ]
    }
   ],
   "source": [
    "hex_values = [0x68, 0x65, 0x6C, 0x6C, 0x6F]  # Hex values for \"hello\"\n",
    "decimal_values = [int(hex_val) for hex_val in hex_values]\n",
    "print(decimal_values)"
   ]
  },
  {
   "cell_type": "code",
   "execution_count": null,
   "id": "029a8305",
   "metadata": {},
   "outputs": [],
   "source": []
  },
  {
   "cell_type": "code",
   "execution_count": null,
   "id": "ba3bd16f",
   "metadata": {},
   "outputs": [],
   "source": []
  },
  {
   "cell_type": "code",
   "execution_count": null,
   "id": "7411f17b",
   "metadata": {},
   "outputs": [],
   "source": []
  },
  {
   "cell_type": "code",
   "execution_count": null,
   "id": "81d55152",
   "metadata": {},
   "outputs": [],
   "source": [
    "# https://docs.python.org/3/library/datetime.html#datetime.timedelta"
   ]
  },
  {
   "cell_type": "code",
   "execution_count": null,
   "id": "13410298",
   "metadata": {},
   "outputs": [],
   "source": []
  },
  {
   "cell_type": "code",
   "execution_count": 34,
   "id": "2fd463ab",
   "metadata": {},
   "outputs": [
    {
     "data": {
      "text/plain": [
       "array(['hello', 'world'], dtype='<U5')"
      ]
     },
     "execution_count": 34,
     "metadata": {},
     "output_type": "execute_result"
    }
   ],
   "source": [
    "# Array of Unicode strings\n",
    "arr = np.array(['hello', 'world'], dtype='str_')\n",
    "arr"
   ]
  },
  {
   "cell_type": "code",
   "execution_count": 36,
   "id": "a0dc374e",
   "metadata": {},
   "outputs": [
    {
     "data": {
      "text/plain": [
       "array(['hello', 'world'], dtype=StringDType())"
      ]
     },
     "execution_count": 36,
     "metadata": {},
     "output_type": "execute_result"
    }
   ],
   "source": [
    "var_array = arr.astype(StringDType())\n",
    "var_array"
   ]
  },
  {
   "cell_type": "code",
   "execution_count": null,
   "id": "742a5c01",
   "metadata": {},
   "outputs": [],
   "source": []
  },
  {
   "cell_type": "code",
   "execution_count": null,
   "id": "fc3bccf1",
   "metadata": {},
   "outputs": [],
   "source": []
  },
  {
   "cell_type": "code",
   "execution_count": null,
   "id": "9610c879",
   "metadata": {},
   "outputs": [],
   "source": []
  },
  {
   "cell_type": "code",
   "execution_count": null,
   "id": "f55e5b56",
   "metadata": {},
   "outputs": [],
   "source": []
  },
  {
   "cell_type": "code",
   "execution_count": null,
   "id": "75cd6af9",
   "metadata": {},
   "outputs": [],
   "source": []
  },
  {
   "cell_type": "code",
   "execution_count": null,
   "id": "955072d1",
   "metadata": {},
   "outputs": [],
   "source": []
  },
  {
   "cell_type": "code",
   "execution_count": null,
   "id": "8d914c68",
   "metadata": {},
   "outputs": [],
   "source": []
  },
  {
   "cell_type": "code",
   "execution_count": null,
   "id": "7fd41803",
   "metadata": {},
   "outputs": [],
   "source": []
  },
  {
   "cell_type": "code",
   "execution_count": null,
   "id": "6ece69a1",
   "metadata": {},
   "outputs": [],
   "source": []
  },
  {
   "cell_type": "code",
   "execution_count": null,
   "id": "94b9a40d",
   "metadata": {},
   "outputs": [],
   "source": []
  },
  {
   "cell_type": "code",
   "execution_count": null,
   "id": "5e7459ba",
   "metadata": {},
   "outputs": [],
   "source": []
  },
  {
   "cell_type": "code",
   "execution_count": null,
   "id": "4fcb974e",
   "metadata": {},
   "outputs": [],
   "source": []
  },
  {
   "cell_type": "code",
   "execution_count": null,
   "id": "c694f812",
   "metadata": {},
   "outputs": [],
   "source": []
  },
  {
   "cell_type": "code",
   "execution_count": null,
   "id": "9d0cf30b",
   "metadata": {},
   "outputs": [],
   "source": []
  },
  {
   "cell_type": "code",
   "execution_count": null,
   "id": "58d9c436",
   "metadata": {},
   "outputs": [],
   "source": []
  },
  {
   "cell_type": "code",
   "execution_count": null,
   "id": "87eef44d",
   "metadata": {},
   "outputs": [],
   "source": []
  },
  {
   "cell_type": "code",
   "execution_count": null,
   "id": "ab60f143",
   "metadata": {},
   "outputs": [],
   "source": []
  },
  {
   "cell_type": "code",
   "execution_count": null,
   "id": "76f60922",
   "metadata": {},
   "outputs": [],
   "source": []
  },
  {
   "cell_type": "code",
   "execution_count": null,
   "id": "097bd149",
   "metadata": {},
   "outputs": [],
   "source": []
  },
  {
   "cell_type": "code",
   "execution_count": null,
   "id": "f8c24acd",
   "metadata": {},
   "outputs": [],
   "source": []
  },
  {
   "cell_type": "code",
   "execution_count": null,
   "id": "a73a9a91",
   "metadata": {},
   "outputs": [],
   "source": []
  },
  {
   "cell_type": "code",
   "execution_count": null,
   "id": "c2e74b59",
   "metadata": {},
   "outputs": [],
   "source": [
    "import numpy as np\n",
    "\n",
    "# Input array\n",
    "arr = np.array(['hello', 'world', 'numpy'])\n",
    "\n",
    "# Applying capitalize\n",
    "result = np.strings.capitalize(arr)\n",
    "print(result)\n"
   ]
  },
  {
   "cell_type": "code",
   "execution_count": null,
   "id": "f8bba2eb",
   "metadata": {},
   "outputs": [],
   "source": [
    "# Mixed Case Strings\n",
    "\n",
    "arr = np.array(['python', 'NUMPY', 'mAchine', 'leArNing'])\n",
    "\n",
    "# Applying capitalize\n",
    "result = np.strings.capitalize(arr)\n",
    "print(result)\n"
   ]
  },
  {
   "cell_type": "code",
   "execution_count": null,
   "id": "ca39399d",
   "metadata": {},
   "outputs": [],
   "source": [
    "# Byte Strings\n",
    "\n",
    "arr = np.array(['data', 'science', 'bytes'], dtype='S')\n",
    "\n",
    "# Applying capitalize\n",
    "result = np.strings.capitalize(arr)\n",
    "print(result)\n"
   ]
  },
  {
   "cell_type": "code",
   "execution_count": null,
   "id": "8018bd5c",
   "metadata": {},
   "outputs": [],
   "source": [
    "arr = np.array(['123abc', 'abc123', '1a2b3c'])\n",
    "\n",
    "# Applying capitalize\n",
    "result = np.strings.capitalize(arr)\n",
    "print(result)\n"
   ]
  },
  {
   "cell_type": "code",
   "execution_count": null,
   "id": "350fa12b",
   "metadata": {},
   "outputs": [],
   "source": [
    "arr = np.array(['straße', 'piñata', 'résumé'])\n",
    "\n",
    "# Applying capitalize\n",
    "result = np.strings.capitalize(arr)\n",
    "print(result)\n"
   ]
  },
  {
   "cell_type": "code",
   "execution_count": null,
   "id": "b471cf02",
   "metadata": {},
   "outputs": [],
   "source": []
  }
 ],
 "metadata": {
  "kernelspec": {
   "display_name": "Python 3 (ipykernel)",
   "language": "python",
   "name": "python3"
  },
  "language_info": {
   "codemirror_mode": {
    "name": "ipython",
    "version": 3
   },
   "file_extension": ".py",
   "mimetype": "text/x-python",
   "name": "python",
   "nbconvert_exporter": "python",
   "pygments_lexer": "ipython3",
   "version": "3.11.5"
  }
 },
 "nbformat": 4,
 "nbformat_minor": 5
}
