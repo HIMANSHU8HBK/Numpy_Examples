{
 "cells": [
  {
   "cell_type": "markdown",
   "id": "216658da",
   "metadata": {},
   "source": [
    "# Example 1: Reshape a 1D Array into a 2D Array\n"
   ]
  },
  {
   "cell_type": "code",
   "execution_count": 12,
   "id": "4c80af1c",
   "metadata": {},
   "outputs": [
    {
     "name": "stdout",
     "output_type": "stream",
     "text": [
      "Original Array:\n",
      "[1 2 3 4 5 6]\n",
      "Reshaped Array (2x3):\n",
      "[[1 2]\n",
      " [3 4]\n",
      " [5 6]]\n"
     ]
    }
   ],
   "source": [
    "import numpy as np\n",
    "\n",
    "# Create a 1D array with 6 elements\n",
    "arr = np.array([1, 2, 3, 4, 5, 6])\n",
    "\n",
    "# Reshape it into a 2D array with 2 rows and 3 columns\n",
    "reshaped_arr = arr.reshape((3, 2))\n",
    "\n",
    "print(\"Original Array:\")\n",
    "print(arr)\n",
    "print(\"Reshaped Array (2x3):\")\n",
    "print(reshaped_arr)\n"
   ]
  },
  {
   "cell_type": "markdown",
   "id": "2b5c6c0c",
   "metadata": {},
   "source": [
    "# Example 2: Reshape a 1D Array into a 3D Array\n"
   ]
  },
  {
   "cell_type": "code",
   "execution_count": 6,
   "id": "1857765f",
   "metadata": {},
   "outputs": [
    {
     "name": "stdout",
     "output_type": "stream",
     "text": [
      "Original Array:\n",
      "[ 1  2  3  4  5  6  7  8  9 10 11 12]\n",
      "Reshaped Array (2x2x3):\n",
      "[[[ 1  2  3]\n",
      "  [ 4  5  6]]\n",
      "\n",
      " [[ 7  8  9]\n",
      "  [10 11 12]]]\n"
     ]
    }
   ],
   "source": [
    "# Create a 1D array with 12 elements\n",
    "arr = np.arange(1, 13)\n",
    "\n",
    "# Reshape it into a 3D array with 2 matrices, each of size 2x3\n",
    "reshaped_arr = arr.reshape((2, 2, 3))\n",
    "\n",
    "print(\"Original Array:\")\n",
    "print(arr)\n",
    "print(\"Reshaped Array (2x2x3):\")\n",
    "print(reshaped_arr)\n"
   ]
  },
  {
   "cell_type": "markdown",
   "id": "e69d0210",
   "metadata": {},
   "source": [
    "# Example 3: Using -1 in reshape() to Automatically Infer a Dimension\n"
   ]
  },
  {
   "cell_type": "code",
   "execution_count": 13,
   "id": "301c092d",
   "metadata": {},
   "outputs": [
    {
     "name": "stdout",
     "output_type": "stream",
     "text": [
      "Original Array:\n",
      "[1 2 3 4 5 6 7 8]\n",
      "Reshaped Array (4x2):\n",
      "[[1 2]\n",
      " [3 4]\n",
      " [5 6]\n",
      " [7 8]]\n"
     ]
    }
   ],
   "source": [
    "# Create a 1D array with 8 elements\n",
    "arr = np.array([1, 2, 3, 4, 5, 6, 7, 8])\n",
    "\n",
    "# Reshape it into a 2D array with 4 rows, and let NumPy calculate the number of columns\n",
    "reshaped_arr = arr.reshape((4, -1))  # -1 lets NumPy calculate the dimension\n",
    "\n",
    "print(\"Original Array:\")\n",
    "print(arr)\n",
    "print(\"Reshaped Array (4x2):\")\n",
    "print(reshaped_arr)\n"
   ]
  },
  {
   "cell_type": "markdown",
   "id": "0c7db520",
   "metadata": {},
   "source": [
    "# Example 4: Flattening a Multidimensional Array\n"
   ]
  },
  {
   "cell_type": "code",
   "execution_count": 14,
   "id": "8f39f221",
   "metadata": {},
   "outputs": [
    {
     "name": "stdout",
     "output_type": "stream",
     "text": [
      "Original 2D Array:\n",
      "[[1 2]\n",
      " [3 4]\n",
      " [5 6]]\n",
      "Flattened Array:\n",
      "[1 2 3 4 5 6]\n"
     ]
    }
   ],
   "source": [
    "# Create a 2D array\n",
    "arr = np.array([[1, 2], [3, 4], [5, 6]])\n",
    "\n",
    "# Reshape it into a 1D array (flatten it)\n",
    "flattened_arr = arr.reshape(-1)\n",
    "\n",
    "print(\"Original 2D Array:\")\n",
    "print(arr)\n",
    "print(\"Flattened Array:\")\n",
    "print(flattened_arr)\n"
   ]
  },
  {
   "cell_type": "markdown",
   "id": "4f40cfdb",
   "metadata": {},
   "source": [
    "# Example 5: Reshape with an Incompatible Shape (Error Handling)\n"
   ]
  },
  {
   "cell_type": "code",
   "execution_count": 15,
   "id": "02a211f4",
   "metadata": {},
   "outputs": [
    {
     "name": "stdout",
     "output_type": "stream",
     "text": [
      "Error: cannot reshape array of size 6 into shape (3,3)\n"
     ]
    }
   ],
   "source": [
    "# Create a 1D array with 6 elements\n",
    "arr = np.array([1, 2, 3, 4, 5, 6])\n",
    "\n",
    "# Attempt to reshape into an incompatible shape\n",
    "try:\n",
    "    reshaped_arr = arr.reshape((3, 3))\n",
    "except ValueError as e:\n",
    "    print(f\"Error: {e}\")\n"
   ]
  },
  {
   "cell_type": "code",
   "execution_count": null,
   "id": "f28c4a22",
   "metadata": {},
   "outputs": [],
   "source": []
  }
 ],
 "metadata": {
  "kernelspec": {
   "display_name": "Python 3 (ipykernel)",
   "language": "python",
   "name": "python3"
  },
  "language_info": {
   "codemirror_mode": {
    "name": "ipython",
    "version": 3
   },
   "file_extension": ".py",
   "mimetype": "text/x-python",
   "name": "python",
   "nbconvert_exporter": "python",
   "pygments_lexer": "ipython3",
   "version": "3.11.5"
  }
 },
 "nbformat": 4,
 "nbformat_minor": 5
}
