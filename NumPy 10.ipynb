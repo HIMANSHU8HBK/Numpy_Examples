{
 "cells": [
  {
   "cell_type": "code",
   "execution_count": 71,
   "id": "5809179f",
   "metadata": {},
   "outputs": [
    {
     "name": "stdout",
     "output_type": "stream",
     "text": [
      "Array a:\n",
      " [1 2 3]\n",
      "Shape of a: (3,)\n",
      "\n",
      "Array b:\n",
      " [4 5 6]\n",
      "Shape of b: (3,)\n",
      "\n",
      "Array c:\n",
      " [[1 2]\n",
      " [3 4]]\n",
      "Shape of c: (2, 2)\n",
      "\n",
      "Array d:\n",
      " [[5 6]\n",
      " [7 8]]\n",
      "Shape of d: (2, 2)\n"
     ]
    }
   ],
   "source": [
    "import numpy as np\n",
    "\n",
    "# Input arrays\n",
    "a = np.array([1, 2, 3])  # 1D array\n",
    "b = np.array([4, 5, 6])  # 1D array\n",
    "\n",
    "c = np.array([[1, 2], [3, 4]])  # 2D array\n",
    "d = np.array([[5, 6], [7, 8]])  # 2D array\n",
    "\n",
    "# Print the arrays and their shapes\n",
    "print(\"Array a:\\n\", a)\n",
    "print(\"Shape of a:\", a.shape)\n",
    "print(\"\\nArray b:\\n\", b)\n",
    "print(\"Shape of b:\", b.shape)\n",
    "print(\"\\nArray c:\\n\", c)\n",
    "print(\"Shape of c:\", c.shape)\n",
    "print(\"\\nArray d:\\n\", d)\n",
    "print(\"Shape of d:\", d.shape)"
   ]
  },
  {
   "cell_type": "code",
   "execution_count": 74,
   "id": "f4c8d8e9",
   "metadata": {},
   "outputs": [
    {
     "name": "stdout",
     "output_type": "stream",
     "text": [
      "Array a:\n",
      " [1 2 3]\n",
      "Shape of a: (3,)\n",
      "\n",
      "Array b:\n",
      " [4 5 6]\n",
      "Shape of b: (3,)\n"
     ]
    },
    {
     "ename": "AxisError",
     "evalue": "axis 1 is out of bounds for array of dimension 1",
     "output_type": "error",
     "traceback": [
      "\u001b[1;31m---------------------------------------------------------------------------\u001b[0m",
      "\u001b[1;31mAxisError\u001b[0m                                 Traceback (most recent call last)",
      "Cell \u001b[1;32mIn[74], line 6\u001b[0m\n\u001b[0;32m      3\u001b[0m \u001b[38;5;28mprint\u001b[39m(\u001b[38;5;124m\"\u001b[39m\u001b[38;5;130;01m\\n\u001b[39;00m\u001b[38;5;124mArray b:\u001b[39m\u001b[38;5;130;01m\\n\u001b[39;00m\u001b[38;5;124m\"\u001b[39m, b)\n\u001b[0;32m      4\u001b[0m \u001b[38;5;28mprint\u001b[39m(\u001b[38;5;124m\"\u001b[39m\u001b[38;5;124mShape of b:\u001b[39m\u001b[38;5;124m\"\u001b[39m, b\u001b[38;5;241m.\u001b[39mshape)\n\u001b[1;32m----> 6\u001b[0m result_1d \u001b[38;5;241m=\u001b[39m np\u001b[38;5;241m.\u001b[39mconcatenate((a, b), axis\u001b[38;5;241m=\u001b[39m\u001b[38;5;241m1\u001b[39m)\n\u001b[0;32m      7\u001b[0m \u001b[38;5;28mprint\u001b[39m(\u001b[38;5;124m\"\u001b[39m\u001b[38;5;130;01m\\n\u001b[39;00m\u001b[38;5;124mconcatenate 1D arrays (a, b):\u001b[39m\u001b[38;5;124m\"\u001b[39m)\n\u001b[0;32m      8\u001b[0m \u001b[38;5;28mprint\u001b[39m(result_1d)\n",
      "File \u001b[1;32m<__array_function__ internals>:200\u001b[0m, in \u001b[0;36mconcatenate\u001b[1;34m(*args, **kwargs)\u001b[0m\n",
      "\u001b[1;31mAxisError\u001b[0m: axis 1 is out of bounds for array of dimension 1"
     ]
    }
   ],
   "source": [
    "print(\"Array a:\\n\", a)\n",
    "print(\"Shape of a:\", a.shape)\n",
    "print(\"\\nArray b:\\n\", b)\n",
    "print(\"Shape of b:\", b.shape)\n",
    "\n",
    "result_1d = np.concatenate((a, b), axis=1)\n",
    "print(\"\\nconcatenate 1D arrays (a, b):\")\n",
    "print(result_1d)\n",
    "print(\"Shape:\", result_1d.shape)"
   ]
  },
  {
   "cell_type": "code",
   "execution_count": 60,
   "id": "0f257520",
   "metadata": {},
   "outputs": [
    {
     "name": "stdout",
     "output_type": "stream",
     "text": [
      "Array c:\n",
      " [[1 2]\n",
      " [3 4]]\n",
      "Shape of c: (2, 2)\n",
      "\n",
      "Array d:\n",
      " [[5 6]\n",
      " [7 8]]\n",
      "Shape of d: (2, 2)\n",
      "\n",
      "concatenate 2D arrays (c, d) along axis 0:\n",
      "[[1 2]\n",
      " [3 4]\n",
      " [5 6]\n",
      " [7 8]]\n",
      "Shape: (4, 2)\n"
     ]
    }
   ],
   "source": [
    "print(\"Array c:\\n\", c)\n",
    "print(\"Shape of c:\", c.shape)\n",
    "print(\"\\nArray d:\\n\", d)\n",
    "print(\"Shape of d:\", d.shape)\n",
    "\n",
    "result_2d_axis0 = np.concatenate((c, d), axis=0)\n",
    "print(\"\\nconcatenate 2D arrays (c, d) along axis 0:\")\n",
    "print(result_2d_axis0)\n",
    "print(\"Shape:\", result_2d_axis0.shape)"
   ]
  },
  {
   "cell_type": "code",
   "execution_count": 61,
   "id": "5ee68d89",
   "metadata": {},
   "outputs": [
    {
     "name": "stdout",
     "output_type": "stream",
     "text": [
      "Array c:\n",
      " [[1 2]\n",
      " [3 4]]\n",
      "Shape of c: (2, 2)\n",
      "\n",
      "Array d:\n",
      " [[5 6]\n",
      " [7 8]]\n",
      "Shape of d: (2, 2)\n",
      "concatenate 2D arrays (c, d) along axis 1:\n",
      "[[1 2 5 6]\n",
      " [3 4 7 8]]\n",
      "Shape: (2, 4)\n"
     ]
    }
   ],
   "source": [
    "print(\"Array c:\\n\", c)\n",
    "print(\"Shape of c:\", c.shape)\n",
    "print(\"\\nArray d:\\n\", d)\n",
    "print(\"Shape of d:\", d.shape)\n",
    "\n",
    "result_2d_axis1 = np.concatenate((c, d), axis=1)\n",
    "print(\"concatenate 2D arrays (c, d) along axis 1:\")\n",
    "print(result_2d_axis1)\n",
    "print(\"Shape:\", result_2d_axis1.shape)"
   ]
  },
  {
   "cell_type": "code",
   "execution_count": null,
   "id": "088a8ba4",
   "metadata": {},
   "outputs": [],
   "source": []
  },
  {
   "cell_type": "code",
   "execution_count": null,
   "id": "4db8d574",
   "metadata": {},
   "outputs": [],
   "source": []
  },
  {
   "cell_type": "code",
   "execution_count": 62,
   "id": "3b79a5f2",
   "metadata": {},
   "outputs": [
    {
     "name": "stdout",
     "output_type": "stream",
     "text": [
      "Array a:\n",
      " [1 2 3]\n",
      "Shape of a: (3,)\n",
      "\n",
      "Array b:\n",
      " [4 5 6]\n",
      "Shape of b: (3,)\n",
      "\n",
      "stack 1D arrays (a, b) along a new axis:\n",
      "[[1 2 3]\n",
      " [4 5 6]]\n",
      "Shape: (2, 3)\n"
     ]
    }
   ],
   "source": [
    "print(\"Array a:\\n\", a)\n",
    "print(\"Shape of a:\", a.shape)\n",
    "print(\"\\nArray b:\\n\", b)\n",
    "print(\"Shape of b:\", b.shape)\n",
    "\n",
    "result_stack_1d = np.stack((a, b), axis=0)\n",
    "print(\"\\nstack 1D arrays (a, b) along a new axis:\")\n",
    "print(result_stack_1d)\n",
    "print(\"Shape:\", result_stack_1d.shape)\n"
   ]
  },
  {
   "cell_type": "code",
   "execution_count": 63,
   "id": "7df0c57e",
   "metadata": {},
   "outputs": [
    {
     "name": "stdout",
     "output_type": "stream",
     "text": [
      "Array a:\n",
      " [1 2 3]\n",
      "Shape of a: (3,)\n",
      "\n",
      "Array b:\n",
      " [4 5 6]\n",
      "Shape of b: (3,)\n",
      "\n",
      "stack 1D arrays (a, b) along a new axis:\n",
      "[[1 4]\n",
      " [2 5]\n",
      " [3 6]]\n",
      "Shape: (3, 2)\n"
     ]
    }
   ],
   "source": [
    "print(\"Array a:\\n\", a)\n",
    "print(\"Shape of a:\", a.shape)\n",
    "print(\"\\nArray b:\\n\", b)\n",
    "print(\"Shape of b:\", b.shape)\n",
    "\n",
    "result_stack_1d = np.stack((a, b), axis=1)\n",
    "print(\"\\nstack 1D arrays (a, b) along a new axis:\")\n",
    "print(result_stack_1d)\n",
    "print(\"Shape:\", result_stack_1d.shape)"
   ]
  },
  {
   "cell_type": "code",
   "execution_count": 64,
   "id": "7a39a2f8",
   "metadata": {},
   "outputs": [
    {
     "name": "stdout",
     "output_type": "stream",
     "text": [
      "Array a:\n",
      " [1 2 3]\n",
      "Shape of a: (3,)\n",
      "\n",
      "Array b:\n",
      " [4 5 6]\n",
      "Shape of b: (3,)\n"
     ]
    },
    {
     "ename": "AxisError",
     "evalue": "axis 2 is out of bounds for array of dimension 2",
     "output_type": "error",
     "traceback": [
      "\u001b[1;31m---------------------------------------------------------------------------\u001b[0m",
      "\u001b[1;31mAxisError\u001b[0m                                 Traceback (most recent call last)",
      "Cell \u001b[1;32mIn[64], line 6\u001b[0m\n\u001b[0;32m      3\u001b[0m \u001b[38;5;28mprint\u001b[39m(\u001b[38;5;124m\"\u001b[39m\u001b[38;5;130;01m\\n\u001b[39;00m\u001b[38;5;124mArray b:\u001b[39m\u001b[38;5;130;01m\\n\u001b[39;00m\u001b[38;5;124m\"\u001b[39m, b)\n\u001b[0;32m      4\u001b[0m \u001b[38;5;28mprint\u001b[39m(\u001b[38;5;124m\"\u001b[39m\u001b[38;5;124mShape of b:\u001b[39m\u001b[38;5;124m\"\u001b[39m, b\u001b[38;5;241m.\u001b[39mshape)\n\u001b[1;32m----> 6\u001b[0m result_stack_1d \u001b[38;5;241m=\u001b[39m np\u001b[38;5;241m.\u001b[39mstack((a, b), axis\u001b[38;5;241m=\u001b[39m\u001b[38;5;241m2\u001b[39m)\n\u001b[0;32m      7\u001b[0m \u001b[38;5;28mprint\u001b[39m(\u001b[38;5;124m\"\u001b[39m\u001b[38;5;130;01m\\n\u001b[39;00m\u001b[38;5;124mstack 1D arrays (a, b) along a new axis:\u001b[39m\u001b[38;5;124m\"\u001b[39m)\n\u001b[0;32m      8\u001b[0m \u001b[38;5;28mprint\u001b[39m(result_stack_1d)\n",
      "File \u001b[1;32m<__array_function__ internals>:200\u001b[0m, in \u001b[0;36mstack\u001b[1;34m(*args, **kwargs)\u001b[0m\n",
      "File \u001b[1;32mC:\\ProgramData\\anaconda3\\Lib\\site-packages\\numpy\\core\\shape_base.py:467\u001b[0m, in \u001b[0;36mstack\u001b[1;34m(arrays, axis, out, dtype, casting)\u001b[0m\n\u001b[0;32m    464\u001b[0m     \u001b[38;5;28;01mraise\u001b[39;00m \u001b[38;5;167;01mValueError\u001b[39;00m(\u001b[38;5;124m'\u001b[39m\u001b[38;5;124mall input arrays must have the same shape\u001b[39m\u001b[38;5;124m'\u001b[39m)\n\u001b[0;32m    466\u001b[0m result_ndim \u001b[38;5;241m=\u001b[39m arrays[\u001b[38;5;241m0\u001b[39m]\u001b[38;5;241m.\u001b[39mndim \u001b[38;5;241m+\u001b[39m \u001b[38;5;241m1\u001b[39m\n\u001b[1;32m--> 467\u001b[0m axis \u001b[38;5;241m=\u001b[39m normalize_axis_index(axis, result_ndim)\n\u001b[0;32m    469\u001b[0m sl \u001b[38;5;241m=\u001b[39m (\u001b[38;5;28mslice\u001b[39m(\u001b[38;5;28;01mNone\u001b[39;00m),) \u001b[38;5;241m*\u001b[39m axis \u001b[38;5;241m+\u001b[39m (_nx\u001b[38;5;241m.\u001b[39mnewaxis,)\n\u001b[0;32m    470\u001b[0m expanded_arrays \u001b[38;5;241m=\u001b[39m [arr[sl] \u001b[38;5;28;01mfor\u001b[39;00m arr \u001b[38;5;129;01min\u001b[39;00m arrays]\n",
      "\u001b[1;31mAxisError\u001b[0m: axis 2 is out of bounds for array of dimension 2"
     ]
    }
   ],
   "source": [
    "print(\"Array a:\\n\", a)\n",
    "print(\"Shape of a:\", a.shape)\n",
    "print(\"\\nArray b:\\n\", b)\n",
    "print(\"Shape of b:\", b.shape)\n",
    "\n",
    "result_stack_1d = np.stack((a, b), axis=2)\n",
    "print(\"\\nstack 1D arrays (a, b) along a new axis:\")\n",
    "print(result_stack_1d)\n",
    "print(\"Shape:\", result_stack_1d.shape)"
   ]
  },
  {
   "cell_type": "code",
   "execution_count": null,
   "id": "10d0e03c",
   "metadata": {},
   "outputs": [],
   "source": [
    "\n",
    "\n",
    "result_stack_1d = np.stack((a, b), axis=2)\n",
    "print(\"\\nstack 1D arrays (a, b) along a new axis:\")\n",
    "print(result_stack_1d)\n",
    "print(\"Shape:\", result_stack_1d.shape)"
   ]
  },
  {
   "cell_type": "code",
   "execution_count": null,
   "id": "aa4748ed",
   "metadata": {},
   "outputs": [],
   "source": []
  },
  {
   "cell_type": "code",
   "execution_count": null,
   "id": "4702440b",
   "metadata": {},
   "outputs": [],
   "source": [
    "np.stack((c, d), axis=2)\n",
    "print(\"\\n Result:\\n\",np.stack((c, d), axis=2))\n",
    "print(\"\\n Shape:\",np.shape(np.stack((c, d), axis=2)))"
   ]
  },
  {
   "cell_type": "code",
   "execution_count": null,
   "id": "c14d6982",
   "metadata": {},
   "outputs": [],
   "source": []
  },
  {
   "cell_type": "code",
   "execution_count": null,
   "id": "03260726",
   "metadata": {},
   "outputs": [],
   "source": []
  },
  {
   "cell_type": "code",
   "execution_count": null,
   "id": "095baaf1",
   "metadata": {},
   "outputs": [],
   "source": [
    "print(\"Array a:\\n\", a)\n",
    "print(\"Shape of a:\", a.shape)\n",
    "print(\"\\nArray b:\\n\", b)\n",
    "print(\"Shape of b:\", b.shape)\n",
    "\n",
    "result_vstack_1d = np.vstack((a, b))\n",
    "print(\"\\nvstack 1D arrays (a, b):\")\n",
    "print(result_vstack_1d)\n",
    "print(\"Shape:\", result_vstack_1d.shape)\n"
   ]
  },
  {
   "cell_type": "code",
   "execution_count": null,
   "id": "0d253b3e",
   "metadata": {},
   "outputs": [],
   "source": [
    "print(\"Array c:\\n\", c)\n",
    "print(\"Shape of c:\", c.shape)\n",
    "print(\"\\nArray d:\\n\", d)\n",
    "print(\"Shape of d:\", d.shape)\n",
    "\n",
    "result_vstack_2d = np.vstack((c, d))\n",
    "print(\"\\nvstack 2D arrays (c, d):\")\n",
    "print(result_vstack_2d)\n",
    "print(\"Shape:\", result_vstack_2d.shape)\n"
   ]
  },
  {
   "cell_type": "code",
   "execution_count": null,
   "id": "a560f760",
   "metadata": {},
   "outputs": [],
   "source": []
  },
  {
   "cell_type": "code",
   "execution_count": null,
   "id": "d9a5e619",
   "metadata": {},
   "outputs": [],
   "source": []
  },
  {
   "cell_type": "code",
   "execution_count": 65,
   "id": "ef5046f3",
   "metadata": {},
   "outputs": [
    {
     "name": "stdout",
     "output_type": "stream",
     "text": [
      "Array a:\n",
      " [1 2 3]\n",
      "Shape of a: (3,)\n",
      "\n",
      "Array b:\n",
      " [4 5 6]\n",
      "Shape of b: (3,)\n",
      "\n",
      "hstack 1D arrays (a, b):\n",
      "[1 2 3 4 5 6]\n",
      "Shape: (6,)\n"
     ]
    }
   ],
   "source": [
    "print(\"Array a:\\n\", a)\n",
    "print(\"Shape of a:\", a.shape)\n",
    "print(\"\\nArray b:\\n\", b)\n",
    "print(\"Shape of b:\", b.shape)\n",
    "\n",
    "result_hstack_1d = np.hstack((a, b))\n",
    "print(\"\\nhstack 1D arrays (a, b):\")\n",
    "print(result_hstack_1d)\n",
    "print(\"Shape:\", result_hstack_1d.shape)\n"
   ]
  },
  {
   "cell_type": "code",
   "execution_count": 66,
   "id": "4e51bd34",
   "metadata": {},
   "outputs": [
    {
     "name": "stdout",
     "output_type": "stream",
     "text": [
      "Array c:\n",
      " [[1 2]\n",
      " [3 4]]\n",
      "Shape of c: (2, 2)\n",
      "\n",
      "Array d:\n",
      " [[5 6]\n",
      " [7 8]]\n",
      "Shape of d: (2, 2)\n",
      "\n",
      "hstack 2D arrays (c, d):\n",
      "[[1 2 5 6]\n",
      " [3 4 7 8]]\n",
      "Shape: (2, 4)\n"
     ]
    }
   ],
   "source": [
    "print(\"Array c:\\n\", c)\n",
    "print(\"Shape of c:\", c.shape)\n",
    "print(\"\\nArray d:\\n\", d)\n",
    "print(\"Shape of d:\", d.shape)\n",
    "\n",
    "result_hstack_2d = np.hstack((c, d))\n",
    "print(\"\\nhstack 2D arrays (c, d):\")\n",
    "print(result_hstack_2d)\n",
    "print(\"Shape:\", result_hstack_2d.shape)"
   ]
  },
  {
   "cell_type": "code",
   "execution_count": null,
   "id": "76c4605a",
   "metadata": {},
   "outputs": [],
   "source": []
  },
  {
   "cell_type": "code",
   "execution_count": null,
   "id": "521833e5",
   "metadata": {},
   "outputs": [],
   "source": []
  },
  {
   "cell_type": "code",
   "execution_count": 67,
   "id": "007a36b7",
   "metadata": {},
   "outputs": [
    {
     "name": "stdout",
     "output_type": "stream",
     "text": [
      "\n",
      " Result:\n",
      " [[[1 4]\n",
      "  [2 5]\n",
      "  [3 6]]]\n",
      "\n",
      " Shape: (1, 3, 2)\n"
     ]
    }
   ],
   "source": [
    "np.dstack((a, b))\n",
    "print(\"\\n Result:\\n\",np.dstack((a, b)))\n",
    "print(\"\\n Shape:\",np.shape(np.dstack((a, b))))"
   ]
  },
  {
   "cell_type": "code",
   "execution_count": 68,
   "id": "d085bfd7",
   "metadata": {},
   "outputs": [
    {
     "name": "stdout",
     "output_type": "stream",
     "text": [
      "\n",
      " Result:\n",
      " [[[1 5]\n",
      "  [2 6]]\n",
      "\n",
      " [[3 7]\n",
      "  [4 8]]]\n",
      "\n",
      " Shape: (2, 2, 2)\n"
     ]
    }
   ],
   "source": [
    "np.dstack((c, d))\n",
    "print(\"\\n Result:\\n\",np.dstack((c, d)))\n",
    "print(\"\\n Shape:\",np.shape(np.dstack((c, d))))"
   ]
  },
  {
   "cell_type": "code",
   "execution_count": null,
   "id": "2b5f88c6",
   "metadata": {},
   "outputs": [],
   "source": []
  },
  {
   "cell_type": "code",
   "execution_count": null,
   "id": "f72aa7fd",
   "metadata": {},
   "outputs": [],
   "source": []
  },
  {
   "cell_type": "code",
   "execution_count": 69,
   "id": "120abb1a",
   "metadata": {},
   "outputs": [
    {
     "name": "stdout",
     "output_type": "stream",
     "text": [
      "\n",
      " Result:\n",
      " [[1 4]\n",
      " [2 5]\n",
      " [3 6]]\n",
      "\n",
      " Shape: (3, 2)\n"
     ]
    }
   ],
   "source": [
    "np.column_stack((a, b))\n",
    "print(\"\\n Result:\\n\",np.column_stack((a, b)))\n",
    "print(\"\\n Shape:\",np.shape(np.column_stack((a, b))))"
   ]
  },
  {
   "cell_type": "code",
   "execution_count": 70,
   "id": "80ad8a09",
   "metadata": {},
   "outputs": [
    {
     "name": "stdout",
     "output_type": "stream",
     "text": [
      "\n",
      " Result:\n",
      " [[1 2 5 6]\n",
      " [3 4 7 8]]\n",
      "\n",
      " Shape: (2, 4)\n"
     ]
    }
   ],
   "source": [
    "np.column_stack((c, d))\n",
    "print(\"\\n Result:\\n\",np.column_stack((c, d)))\n",
    "print(\"\\n Shape:\",np.shape(np.column_stack((c, d))))"
   ]
  },
  {
   "cell_type": "code",
   "execution_count": null,
   "id": "1e5ec3e1",
   "metadata": {},
   "outputs": [],
   "source": []
  },
  {
   "cell_type": "code",
   "execution_count": null,
   "id": "36b84956",
   "metadata": {},
   "outputs": [],
   "source": []
  },
  {
   "cell_type": "code",
   "execution_count": null,
   "id": "357fdf1a",
   "metadata": {},
   "outputs": [],
   "source": []
  },
  {
   "cell_type": "code",
   "execution_count": null,
   "id": "d1064d62",
   "metadata": {},
   "outputs": [],
   "source": []
  },
  {
   "cell_type": "code",
   "execution_count": null,
   "id": "739a7203",
   "metadata": {},
   "outputs": [],
   "source": []
  },
  {
   "cell_type": "code",
   "execution_count": null,
   "id": "9032754f",
   "metadata": {},
   "outputs": [],
   "source": []
  },
  {
   "cell_type": "code",
   "execution_count": null,
   "id": "f4ee86e7",
   "metadata": {},
   "outputs": [],
   "source": []
  },
  {
   "cell_type": "code",
   "execution_count": null,
   "id": "1246b0b8",
   "metadata": {},
   "outputs": [],
   "source": []
  },
  {
   "cell_type": "code",
   "execution_count": null,
   "id": "2f20b21b",
   "metadata": {},
   "outputs": [],
   "source": []
  },
  {
   "cell_type": "code",
   "execution_count": null,
   "id": "ec662934",
   "metadata": {},
   "outputs": [],
   "source": []
  },
  {
   "cell_type": "code",
   "execution_count": null,
   "id": "e1564601",
   "metadata": {},
   "outputs": [],
   "source": []
  },
  {
   "cell_type": "code",
   "execution_count": null,
   "id": "a7392812",
   "metadata": {},
   "outputs": [],
   "source": []
  }
 ],
 "metadata": {
  "kernelspec": {
   "display_name": "Python 3 (ipykernel)",
   "language": "python",
   "name": "python3"
  },
  "language_info": {
   "codemirror_mode": {
    "name": "ipython",
    "version": 3
   },
   "file_extension": ".py",
   "mimetype": "text/x-python",
   "name": "python",
   "nbconvert_exporter": "python",
   "pygments_lexer": "ipython3",
   "version": "3.11.5"
  }
 },
 "nbformat": 4,
 "nbformat_minor": 5
}
