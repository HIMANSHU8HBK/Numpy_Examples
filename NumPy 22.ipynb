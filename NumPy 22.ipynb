{
 "cells": [
  {
   "cell_type": "code",
   "execution_count": 18,
   "metadata": {},
   "outputs": [
    {
     "name": "stdout",
     "output_type": "stream",
     "text": [
      "['*******Apple********' '*******Banana*******' '*******Cherry*******'\n",
      " '****Dragonfruit*****']\n"
     ]
    }
   ],
   "source": [
    "import numpy as np\n",
    "from numpy import strings\n",
    "\n",
    "# Product Labels centered with a fixed width of 20 characters\n",
    "product_names = np.array([\"Apple\", \"Banana\", \"Cherry\", \"Dragonfruit\"])\n",
    "centered_labels = np.strings.center(product_names, 20, '*')\n",
    "\n",
    "print(centered_labels)"
   ]
  },
  {
   "cell_type": "code",
   "execution_count": 19,
   "metadata": {},
   "outputs": [
    {
     "data": {
      "text/plain": [
       "20"
      ]
     },
     "execution_count": 19,
     "metadata": {},
     "output_type": "execute_result"
    }
   ],
   "source": [
    "len('*******Cherry*******')"
   ]
  },
  {
   "cell_type": "code",
   "execution_count": 12,
   "metadata": {},
   "outputs": [
    {
     "name": "stdout",
     "output_type": "stream",
     "text": [
      "['----Savings----' '----Current----' '-Fixed Deposit-']\n"
     ]
    }
   ],
   "source": [
    "# Financial reporting\n",
    "\n",
    "account_types = np.array([\"Savings\", \"Current\", \"Fixed Deposit\"])\n",
    "formatted_accounts = np.strings.center(account_types, 15, '-')\n",
    "print(formatted_accounts)"
   ]
  },
  {
   "cell_type": "code",
   "execution_count": 13,
   "metadata": {},
   "outputs": [
    {
     "name": "stdout",
     "output_type": "stream",
     "text": [
      "['..........Pasta..........' '..........Burger.........'\n",
      " '.......Caesar Salad......']\n"
     ]
    }
   ],
   "source": [
    "# Design a menu where dish names are centered within 25 characters\n",
    "\n",
    "menu_items = np.array([\"Pasta\", \"Burger\", \"Caesar Salad\"])\n",
    "centered_menu = np.strings.center(menu_items, 25, '.')\n",
    "print(centered_menu)"
   ]
  },
  {
   "cell_type": "code",
   "execution_count": 14,
   "metadata": {},
   "outputs": [
    {
     "name": "stdout",
     "output_type": "stream",
     "text": [
      "['..........Pasta..........' '............12...........'\n",
      " '.......Caesar Salad......' '...........13.8..........']\n"
     ]
    }
   ],
   "source": [
    "menu_items = np.array([\"Pasta\", 12, \"Caesar Salad\", 13.8])\n",
    "centered_menu = np.strings.center(menu_items, 25, '.')\n",
    "print(centered_menu)"
   ]
  },
  {
   "cell_type": "code",
   "execution_count": null,
   "metadata": {},
   "outputs": [],
   "source": []
  },
  {
   "cell_type": "code",
   "execution_count": null,
   "metadata": {},
   "outputs": [],
   "source": []
  },
  {
   "cell_type": "code",
   "execution_count": 23,
   "metadata": {},
   "outputs": [
    {
     "name": "stdout",
     "output_type": "stream",
     "text": [
      "['Name                Grade               Remarks'\n",
      " 'Alice               A                   Excellent'\n",
      " 'Bob                 B                   Good']\n"
     ]
    }
   ],
   "source": [
    "records = np.array([\"Name\\tGrade\\tRemarks\", \n",
    "                    \"Alice\\tA\\tExcellent\", \n",
    "                    \"Bob\\tB\\tGood\"])\n",
    "formatted_records = np.strings.expandtabs(records, tabsize=20)\n",
    "print(formatted_records)"
   ]
  },
  {
   "cell_type": "code",
   "execution_count": null,
   "metadata": {},
   "outputs": [],
   "source": []
  },
  {
   "cell_type": "code",
   "execution_count": null,
   "metadata": {},
   "outputs": [],
   "source": []
  },
  {
   "cell_type": "code",
   "execution_count": null,
   "metadata": {},
   "outputs": [],
   "source": []
  },
  {
   "cell_type": "code",
   "execution_count": 26,
   "metadata": {},
   "outputs": [
    {
     "name": "stdout",
     "output_type": "stream",
     "text": [
      "['Apple - 13 Pro' 'Apple - 14' 'Apple - SE']\n"
     ]
    }
   ],
   "source": [
    "# Standardizing Product Names\n",
    "\n",
    "import numpy as np\n",
    "\n",
    "products = np.array([\"App - 13 Pro\", \"App - 14\", \"App - SE\"])\n",
    "standardized_products = np.strings.replace(products, \"App\", \"Apple\")\n",
    "print(standardized_products)"
   ]
  },
  {
   "cell_type": "code",
   "execution_count": 27,
   "metadata": {},
   "outputs": [
    {
     "name": "stdout",
     "output_type": "stream",
     "text": [
      "['Connection established' 'Data received' 'INFO: Server started']\n"
     ]
    }
   ],
   "source": [
    "# Remove unnecessary prefixes from server log messages\n",
    "\n",
    "logs = np.array([\"DEBUG: Connection established\", \"DEBUG: Data received\", \"INFO: Server started\"])\n",
    "cleaned_logs = np.strings.replace(logs, \"DEBUG: \", \"\")\n",
    "print(cleaned_logs)"
   ]
  },
  {
   "cell_type": "code",
   "execution_count": 35,
   "metadata": {},
   "outputs": [
    {
     "name": "stdout",
     "output_type": "stream",
     "text": [
      "['Bob is Great. Bob is also nice  Bob' 'Bob' 'Alyce']\n"
     ]
    }
   ],
   "source": [
    "# Replace misspelled names in student data\n",
    "\n",
    "student_names = np.array([\"Bobb is Great. Bobb is also nice  Bobb\", \"Bob\", \"Alyce\"])\n",
    "\n",
    "corrected_names = np.strings.replace(student_names, \"Bobb\", \"Bob\", count=-1)\n",
    "print(corrected_names)"
   ]
  },
  {
   "cell_type": "code",
   "execution_count": 36,
   "metadata": {},
   "outputs": [
    {
     "name": "stdout",
     "output_type": "stream",
     "text": [
      "['USD100' 'EUR200' 'GBP300']\n"
     ]
    }
   ],
   "source": [
    "import numpy as np\n",
    "\n",
    "# Formatting Currency Strings\n",
    "transactions = np.array([\"$100\", \"€200\", \"£300\"])\n",
    "\n",
    "# Using numpy.char.replace to standardize currency strings\n",
    "standardized_transactions = np.char.replace(transactions, \"$\", \"USD\")\n",
    "standardized_transactions = np.char.replace(standardized_transactions, \"€\", \"EUR\")\n",
    "standardized_transactions = np.char.replace(standardized_transactions, \"£\", \"GBP\")\n",
    "\n",
    "print(standardized_transactions)"
   ]
  },
  {
   "cell_type": "code",
   "execution_count": 38,
   "metadata": {},
   "outputs": [
    {
     "name": "stdout",
     "output_type": "stream",
     "text": [
      "['That is a banana' 'Monkeys eat bananas']\n"
     ]
    }
   ],
   "source": [
    "import numpy as np\n",
    "a = np.array([\"That is a mango\", \"Monkeys eat mangos\"])\n",
    "\n",
    "output = np.strings.replace(a, 'mango', 'banana')\n",
    "\n",
    "print(output)"
   ]
  },
  {
   "cell_type": "code",
   "execution_count": 39,
   "metadata": {},
   "outputs": [
    {
     "name": "stdout",
     "output_type": "stream",
     "text": [
      "['The dwash was fresh' 'Thwas was it']\n"
     ]
    }
   ],
   "source": [
    "a = np.array([\"The dish is fresh\", \"This is it\"])\n",
    "output = np.strings.replace(a, 'is', 'was')\n",
    "print(output)"
   ]
  },
  {
   "cell_type": "code",
   "execution_count": 40,
   "metadata": {},
   "outputs": [
    {
     "name": "stdout",
     "output_type": "stream",
     "text": [
      "['The dish was fresh' 'This was it']\n"
     ]
    }
   ],
   "source": [
    "a = np.array([\"The dish is fresh\", \"This is it\"])\n",
    "output = np.strings.replace(a, ' is ', ' was ')\n",
    "print(output)"
   ]
  },
  {
   "cell_type": "code",
   "execution_count": null,
   "metadata": {},
   "outputs": [],
   "source": []
  },
  {
   "cell_type": "code",
   "execution_count": null,
   "metadata": {},
   "outputs": [],
   "source": []
  },
  {
   "cell_type": "code",
   "execution_count": null,
   "metadata": {},
   "outputs": [],
   "source": []
  }
 ],
 "metadata": {
  "kernelspec": {
   "display_name": "Python 3 (ipykernel)",
   "language": "python",
   "name": "python3"
  },
  "language_info": {
   "codemirror_mode": {
    "name": "ipython",
    "version": 3
   },
   "file_extension": ".py",
   "mimetype": "text/x-python",
   "name": "python",
   "nbconvert_exporter": "python",
   "pygments_lexer": "ipython3",
   "version": "3.11.5"
  }
 },
 "nbformat": 4,
 "nbformat_minor": 4
}
