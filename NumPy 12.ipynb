{
 "cells": [
  {
   "cell_type": "code",
   "execution_count": 1,
   "id": "b2d6c5dd",
   "metadata": {},
   "outputs": [
    {
     "name": "stdout",
     "output_type": "stream",
     "text": [
      "Input Array:\n",
      "[[ 1  2  3]\n",
      " [ 4  5  6]\n",
      " [ 7  8  9]\n",
      " [10 11 12]\n",
      " [13 14 15]\n",
      " [16 17 18]]\n",
      "Shape: (6, 3)\n",
      "\n",
      " The result of vsplit is:\n",
      " [array([[1, 2, 3],\n",
      "       [4, 5, 6]]), array([[ 7,  8,  9],\n",
      "       [10, 11, 12]]), array([[13, 14, 15],\n",
      "       [16, 17, 18]])]\n",
      "\n",
      "Output Arrays:\n",
      "Part 1:\n",
      "[[1 2 3]\n",
      " [4 5 6]]\n",
      "Shape: (2, 3) \n",
      "\n",
      "Part 2:\n",
      "[[ 7  8  9]\n",
      " [10 11 12]]\n",
      "Shape: (2, 3) \n",
      "\n",
      "Part 3:\n",
      "[[13 14 15]\n",
      " [16 17 18]]\n",
      "Shape: (2, 3) \n",
      "\n"
     ]
    }
   ],
   "source": [
    "# Simple Split with Equal Sections\n",
    "\n",
    "import numpy as np\n",
    "\n",
    "# Create a 6x3 array\n",
    "arr = np.array([[1, 2, 3],\n",
    "                [4, 5, 6],\n",
    "                [7, 8, 9],\n",
    "                [10, 11, 12],\n",
    "                [13, 14, 15],\n",
    "                [16, 17, 18]])\n",
    "print(\"Input Array:\")\n",
    "print(arr)\n",
    "print(\"Shape:\", arr.shape)\n",
    "\n",
    "# Split the array into 3 equal parts\n",
    "result = np.vsplit(arr, 3)\n",
    "\n",
    "print(\"\\n The result of vsplit is:\\n\",result)\n",
    "\n",
    "print(\"\\nOutput Arrays:\")\n",
    "for i, part in enumerate(result):\n",
    "    print(f\"Part {i + 1}:\\n{part}\")\n",
    "    print(\"Shape:\", part.shape,\"\\n\")"
   ]
  },
  {
   "cell_type": "code",
   "execution_count": 2,
   "id": "ade1da9a",
   "metadata": {},
   "outputs": [
    {
     "name": "stdout",
     "output_type": "stream",
     "text": [
      "Input Array:\n",
      "[[ 1  2  3]\n",
      " [ 4  5  6]\n",
      " [ 7  8  9]\n",
      " [10 11 12]\n",
      " [13 14 15]\n",
      " [16 17 18]]\n",
      "Shape: (6, 3)\n"
     ]
    },
    {
     "ename": "ValueError",
     "evalue": "array split does not result in an equal division",
     "output_type": "error",
     "traceback": [
      "\u001b[1;31m---------------------------------------------------------------------------\u001b[0m",
      "\u001b[1;31mValueError\u001b[0m                                Traceback (most recent call last)",
      "Cell \u001b[1;32mIn[2], line 17\u001b[0m\n\u001b[0;32m     14\u001b[0m \u001b[38;5;28mprint\u001b[39m(\u001b[38;5;124m\"\u001b[39m\u001b[38;5;124mShape:\u001b[39m\u001b[38;5;124m\"\u001b[39m, arr\u001b[38;5;241m.\u001b[39mshape)\n\u001b[0;32m     16\u001b[0m \u001b[38;5;66;03m# Split the array into 4 equal parts\u001b[39;00m\n\u001b[1;32m---> 17\u001b[0m result \u001b[38;5;241m=\u001b[39m np\u001b[38;5;241m.\u001b[39mvsplit(arr, \u001b[38;5;241m4\u001b[39m)\n\u001b[0;32m     19\u001b[0m \u001b[38;5;28mprint\u001b[39m(\u001b[38;5;124m\"\u001b[39m\u001b[38;5;130;01m\\n\u001b[39;00m\u001b[38;5;124m The result of vsplit is:\u001b[39m\u001b[38;5;130;01m\\n\u001b[39;00m\u001b[38;5;124m\"\u001b[39m,result)\n",
      "File \u001b[1;32mC:\\ProgramData\\anaconda3\\Lib\\site-packages\\numpy\\lib\\_shape_base_impl.py:1020\u001b[0m, in \u001b[0;36mvsplit\u001b[1;34m(ary, indices_or_sections)\u001b[0m\n\u001b[0;32m   1018\u001b[0m \u001b[38;5;28;01mif\u001b[39;00m _nx\u001b[38;5;241m.\u001b[39mndim(ary) \u001b[38;5;241m<\u001b[39m \u001b[38;5;241m2\u001b[39m:\n\u001b[0;32m   1019\u001b[0m     \u001b[38;5;28;01mraise\u001b[39;00m \u001b[38;5;167;01mValueError\u001b[39;00m(\u001b[38;5;124m'\u001b[39m\u001b[38;5;124mvsplit only works on arrays of 2 or more dimensions\u001b[39m\u001b[38;5;124m'\u001b[39m)\n\u001b[1;32m-> 1020\u001b[0m \u001b[38;5;28;01mreturn\u001b[39;00m split(ary, indices_or_sections, \u001b[38;5;241m0\u001b[39m)\n",
      "File \u001b[1;32mC:\\ProgramData\\anaconda3\\Lib\\site-packages\\numpy\\lib\\_shape_base_impl.py:889\u001b[0m, in \u001b[0;36msplit\u001b[1;34m(ary, indices_or_sections, axis)\u001b[0m\n\u001b[0;32m    887\u001b[0m     N \u001b[38;5;241m=\u001b[39m ary\u001b[38;5;241m.\u001b[39mshape[axis]\n\u001b[0;32m    888\u001b[0m     \u001b[38;5;28;01mif\u001b[39;00m N \u001b[38;5;241m%\u001b[39m sections:\n\u001b[1;32m--> 889\u001b[0m         \u001b[38;5;28;01mraise\u001b[39;00m \u001b[38;5;167;01mValueError\u001b[39;00m(\n\u001b[0;32m    890\u001b[0m             \u001b[38;5;124m'\u001b[39m\u001b[38;5;124marray split does not result in an equal division\u001b[39m\u001b[38;5;124m'\u001b[39m) \u001b[38;5;28;01mfrom\u001b[39;00m \u001b[38;5;28;01mNone\u001b[39;00m\n\u001b[0;32m    891\u001b[0m \u001b[38;5;28;01mreturn\u001b[39;00m array_split(ary, indices_or_sections, axis)\n",
      "\u001b[1;31mValueError\u001b[0m: array split does not result in an equal division"
     ]
    }
   ],
   "source": [
    "# Simple Split with Equal Sections\n",
    "\n",
    "import numpy as np\n",
    "\n",
    "# Create a 6x3 array\n",
    "arr = np.array([[1, 2, 3],\n",
    "                [4, 5, 6],\n",
    "                [7, 8, 9],\n",
    "                [10, 11, 12],\n",
    "                [13, 14, 15],\n",
    "                [16, 17, 18]])\n",
    "print(\"Input Array:\")\n",
    "print(arr)\n",
    "print(\"Shape:\", arr.shape)\n",
    "\n",
    "# Split the array into 4 equal parts\n",
    "result = np.vsplit(arr, 4)\n",
    "\n",
    "print(\"\\n The result of vsplit is:\\n\",result)"
   ]
  },
  {
   "cell_type": "code",
   "execution_count": 4,
   "id": "731e079d",
   "metadata": {},
   "outputs": [
    {
     "name": "stdout",
     "output_type": "stream",
     "text": [
      "Input Array:\n",
      "[[ 1  2  3]\n",
      " [ 4  5  6]\n",
      " [ 7  8  9]\n",
      " [10 11 12]\n",
      " [13 14 15]\n",
      " [16 17 18]]\n",
      "Shape: (6, 3)\n",
      "\n",
      " The result of vsplit is:\n",
      " [array([[1, 2, 3]]), array([[4, 5, 6]]), array([[ 7,  8,  9],\n",
      "       [10, 11, 12]]), array([[13, 14, 15],\n",
      "       [16, 17, 18]])]\n",
      "\n",
      "Output Arrays:\n",
      "Part 1:\n",
      "[[1 2 3]]\n",
      "Shape: (1, 3) \n",
      "\n",
      "Part 2:\n",
      "[[4 5 6]]\n",
      "Shape: (1, 3) \n",
      "\n",
      "Part 3:\n",
      "[[ 7  8  9]\n",
      " [10 11 12]]\n",
      "Shape: (2, 3) \n",
      "\n",
      "Part 4:\n",
      "[[13 14 15]\n",
      " [16 17 18]]\n",
      "Shape: (2, 3) \n",
      "\n"
     ]
    }
   ],
   "source": [
    "# Splitting with Specified Indices\n",
    "\n",
    "# Input Array\n",
    "print(\"Input Array:\")\n",
    "print(arr)\n",
    "print(\"Shape:\", arr.shape)\n",
    "\n",
    "# Split the array at indices 2 and 4\n",
    "result = np.vsplit(arr, [1, 2, 4])\n",
    "print(\"\\n The result of vsplit is:\\n\",result)\n",
    "\n",
    "print(\"\\nOutput Arrays:\")\n",
    "for i, part in enumerate(result):\n",
    "    print(f\"Part {i + 1}:\\n{part}\")\n",
    "    print(\"Shape:\", part.shape,\"\\n\")\n"
   ]
  },
  {
   "cell_type": "code",
   "execution_count": 5,
   "id": "ff0bc588",
   "metadata": {},
   "outputs": [
    {
     "name": "stdout",
     "output_type": "stream",
     "text": [
      "Input Array (1D):\n",
      "[1 2 3 4 5 6]\n",
      "Shape: (6,)\n",
      "\n",
      "Error: vsplit only works on arrays of 2 or more dimensions\n"
     ]
    }
   ],
   "source": [
    "# Using vsplit() on a 1D Array (Error Case)\n",
    "\n",
    "# Create a 1D array\n",
    "arr_1d = np.array([1, 2, 3, 4, 5, 6])\n",
    "print(\"Input Array (1D):\")\n",
    "print(arr_1d)\n",
    "print(\"Shape:\", arr_1d.shape)\n",
    "\n",
    "# Attempt to split\n",
    "try:\n",
    "    result = np.vsplit(arr_1d, 3)\n",
    "except ValueError as e:\n",
    "    print(\"\\nError:\", e)"
   ]
  },
  {
   "cell_type": "code",
   "execution_count": 8,
   "id": "7964762a",
   "metadata": {},
   "outputs": [
    {
     "name": "stdout",
     "output_type": "stream",
     "text": [
      "Input Array:\n",
      "[[ 1  2  3]\n",
      " [ 4  5  6]\n",
      " [ 7  8  9]\n",
      " [10 11 12]]\n",
      "Shape: (4, 3)\n",
      "\n",
      " The result of vsplit is:\n",
      " [array([[1, 2, 3]]), array([[4, 5, 6],\n",
      "       [7, 8, 9]]), array([[10, 11, 12]])]\n",
      "\n",
      "Output Arrays:\n",
      "Part 1:\n",
      "[[1 2 3]]\n",
      "Shape: (1, 3) \n",
      "\n",
      "Part 2:\n",
      "[[4 5 6]\n",
      " [7 8 9]]\n",
      "Shape: (2, 3) \n",
      "\n",
      "Part 3:\n",
      "[[10 11 12]]\n",
      "Shape: (1, 3) \n",
      "\n"
     ]
    }
   ],
   "source": [
    "# Splitting with Unequal Parts Using Indices\n",
    "\n",
    "# Create a 4x3 array\n",
    "arr = np.array([[1, 2, 3],\n",
    "                [4, 5, 6],\n",
    "                [7, 8, 9],\n",
    "                [10, 11, 12]])\n",
    "print(\"Input Array:\")\n",
    "print(arr)\n",
    "print(\"Shape:\", arr.shape)\n",
    "\n",
    "# Split the array into unequal parts\n",
    "result = np.vsplit(arr, [1, 3])\n",
    "print(\"\\n The result of vsplit is:\\n\",result)\n",
    "\n",
    "print(\"\\nOutput Arrays:\")\n",
    "for i, part in enumerate(result):\n",
    "    print(f\"Part {i + 1}:\\n{part}\")\n",
    "    print(\"Shape:\", part.shape,\"\\n\")"
   ]
  },
  {
   "cell_type": "code",
   "execution_count": 9,
   "id": "c6ca51e8",
   "metadata": {},
   "outputs": [
    {
     "name": "stdout",
     "output_type": "stream",
     "text": [
      "Input Array:\n",
      "[[1 2]\n",
      " [3 4]]\n",
      "Shape: (2, 2)\n"
     ]
    },
    {
     "ename": "ValueError",
     "evalue": "array split does not result in an equal division",
     "output_type": "error",
     "traceback": [
      "\u001b[1;31m---------------------------------------------------------------------------\u001b[0m",
      "\u001b[1;31mValueError\u001b[0m                                Traceback (most recent call last)",
      "Cell \u001b[1;32mIn[9], line 11\u001b[0m\n\u001b[0;32m      7\u001b[0m \u001b[38;5;28mprint\u001b[39m(arr)\n\u001b[0;32m      8\u001b[0m \u001b[38;5;28mprint\u001b[39m(\u001b[38;5;124m\"\u001b[39m\u001b[38;5;124mShape:\u001b[39m\u001b[38;5;124m\"\u001b[39m, arr\u001b[38;5;241m.\u001b[39mshape)\n\u001b[1;32m---> 11\u001b[0m result \u001b[38;5;241m=\u001b[39m np\u001b[38;5;241m.\u001b[39mvsplit(arr, \u001b[38;5;241m3\u001b[39m)\n",
      "File \u001b[1;32mC:\\ProgramData\\anaconda3\\Lib\\site-packages\\numpy\\lib\\_shape_base_impl.py:1020\u001b[0m, in \u001b[0;36mvsplit\u001b[1;34m(ary, indices_or_sections)\u001b[0m\n\u001b[0;32m   1018\u001b[0m \u001b[38;5;28;01mif\u001b[39;00m _nx\u001b[38;5;241m.\u001b[39mndim(ary) \u001b[38;5;241m<\u001b[39m \u001b[38;5;241m2\u001b[39m:\n\u001b[0;32m   1019\u001b[0m     \u001b[38;5;28;01mraise\u001b[39;00m \u001b[38;5;167;01mValueError\u001b[39;00m(\u001b[38;5;124m'\u001b[39m\u001b[38;5;124mvsplit only works on arrays of 2 or more dimensions\u001b[39m\u001b[38;5;124m'\u001b[39m)\n\u001b[1;32m-> 1020\u001b[0m \u001b[38;5;28;01mreturn\u001b[39;00m split(ary, indices_or_sections, \u001b[38;5;241m0\u001b[39m)\n",
      "File \u001b[1;32mC:\\ProgramData\\anaconda3\\Lib\\site-packages\\numpy\\lib\\_shape_base_impl.py:889\u001b[0m, in \u001b[0;36msplit\u001b[1;34m(ary, indices_or_sections, axis)\u001b[0m\n\u001b[0;32m    887\u001b[0m     N \u001b[38;5;241m=\u001b[39m ary\u001b[38;5;241m.\u001b[39mshape[axis]\n\u001b[0;32m    888\u001b[0m     \u001b[38;5;28;01mif\u001b[39;00m N \u001b[38;5;241m%\u001b[39m sections:\n\u001b[1;32m--> 889\u001b[0m         \u001b[38;5;28;01mraise\u001b[39;00m \u001b[38;5;167;01mValueError\u001b[39;00m(\n\u001b[0;32m    890\u001b[0m             \u001b[38;5;124m'\u001b[39m\u001b[38;5;124marray split does not result in an equal division\u001b[39m\u001b[38;5;124m'\u001b[39m) \u001b[38;5;28;01mfrom\u001b[39;00m \u001b[38;5;28;01mNone\u001b[39;00m\n\u001b[0;32m    891\u001b[0m \u001b[38;5;28;01mreturn\u001b[39;00m array_split(ary, indices_or_sections, axis)\n",
      "\u001b[1;31mValueError\u001b[0m: array split does not result in an equal division"
     ]
    }
   ],
   "source": [
    "# Handling Split Errors\n",
    "\n",
    "# Create a 2x2 array\n",
    "arr = np.array([[1, 2],\n",
    "                [3, 4]])\n",
    "print(\"Input Array:\")\n",
    "print(arr)\n",
    "print(\"Shape:\", arr.shape)\n",
    "\n",
    "\n",
    "result = np.vsplit(arr, 3)\n",
    "\n",
    "# Attempt to split into 3 parts\n",
    "try:\n",
    "    result = np.vsplit(arr, 3)\n",
    "except ValueError as e:\n",
    "    print(\"\\nError:\", e)\n"
   ]
  },
  {
   "cell_type": "code",
   "execution_count": null,
   "id": "21fcd16d",
   "metadata": {},
   "outputs": [],
   "source": []
  },
  {
   "cell_type": "code",
   "execution_count": null,
   "id": "5fcb22cd",
   "metadata": {},
   "outputs": [],
   "source": []
  },
  {
   "cell_type": "code",
   "execution_count": null,
   "id": "33d7ae27",
   "metadata": {},
   "outputs": [],
   "source": []
  },
  {
   "cell_type": "code",
   "execution_count": 10,
   "id": "4bdc1fa3",
   "metadata": {},
   "outputs": [
    {
     "name": "stdout",
     "output_type": "stream",
     "text": [
      "Input Array:\n",
      "[[ 1  2  3  4  5  6]\n",
      " [ 7  8  9 10 11 12]\n",
      " [13 14 15 16 17 18]\n",
      " [19 20 21 22 23 24]]\n",
      "Shape: (4, 6)\n",
      "\n",
      " The result of hsplit is:\n",
      " [array([[ 1,  2],\n",
      "       [ 7,  8],\n",
      "       [13, 14],\n",
      "       [19, 20]]), array([[ 3,  4],\n",
      "       [ 9, 10],\n",
      "       [15, 16],\n",
      "       [21, 22]]), array([[ 5,  6],\n",
      "       [11, 12],\n",
      "       [17, 18],\n",
      "       [23, 24]])]\n",
      "\n",
      "Output Arrays:\n",
      "Part 1:\n",
      "[[ 1  2]\n",
      " [ 7  8]\n",
      " [13 14]\n",
      " [19 20]]\n",
      "Shape: (4, 2) \n",
      "\n",
      "Part 2:\n",
      "[[ 3  4]\n",
      " [ 9 10]\n",
      " [15 16]\n",
      " [21 22]]\n",
      "Shape: (4, 2) \n",
      "\n",
      "Part 3:\n",
      "[[ 5  6]\n",
      " [11 12]\n",
      " [17 18]\n",
      " [23 24]]\n",
      "Shape: (4, 2) \n",
      "\n"
     ]
    }
   ],
   "source": [
    "# Simple Split with Equal Sections\n",
    "\n",
    "import numpy as np\n",
    "\n",
    "# Create a 4x6 array\n",
    "arr = np.array([[1, 2, 3, 4, 5, 6],\n",
    "                [7, 8, 9, 10, 11, 12],\n",
    "                [13, 14, 15, 16, 17, 18],\n",
    "                [19, 20, 21, 22, 23, 24]])\n",
    "print(\"Input Array:\")\n",
    "print(arr)\n",
    "print(\"Shape:\", arr.shape)\n",
    "\n",
    "# Split the array into 3 equal parts\n",
    "result = np.hsplit(arr, 3)\n",
    "print(\"\\n The result of hsplit is:\\n\",result)\n",
    "\n",
    "print(\"\\nOutput Arrays:\")\n",
    "for i, part in enumerate(result):\n",
    "    print(f\"Part {i + 1}:\\n{part}\")\n",
    "    print(\"Shape:\", part.shape,\"\\n\")\n"
   ]
  },
  {
   "cell_type": "code",
   "execution_count": 11,
   "id": "fc6da326",
   "metadata": {},
   "outputs": [
    {
     "name": "stdout",
     "output_type": "stream",
     "text": [
      "Input Array:\n",
      "[[ 1  2  3  4  5  6]\n",
      " [ 7  8  9 10 11 12]\n",
      " [13 14 15 16 17 18]\n",
      " [19 20 21 22 23 24]]\n",
      "Shape: (4, 6)\n"
     ]
    },
    {
     "ename": "ValueError",
     "evalue": "array split does not result in an equal division",
     "output_type": "error",
     "traceback": [
      "\u001b[1;31m---------------------------------------------------------------------------\u001b[0m",
      "\u001b[1;31mValueError\u001b[0m                                Traceback (most recent call last)",
      "Cell \u001b[1;32mIn[11], line 13\u001b[0m\n\u001b[0;32m     10\u001b[0m \u001b[38;5;28mprint\u001b[39m(\u001b[38;5;124m\"\u001b[39m\u001b[38;5;124mShape:\u001b[39m\u001b[38;5;124m\"\u001b[39m, arr\u001b[38;5;241m.\u001b[39mshape)\n\u001b[0;32m     12\u001b[0m \u001b[38;5;66;03m# Split the array into 4 equal parts\u001b[39;00m\n\u001b[1;32m---> 13\u001b[0m result \u001b[38;5;241m=\u001b[39m np\u001b[38;5;241m.\u001b[39mhsplit(arr, \u001b[38;5;241m4\u001b[39m)\n\u001b[0;32m     14\u001b[0m \u001b[38;5;28mprint\u001b[39m(\u001b[38;5;124m\"\u001b[39m\u001b[38;5;130;01m\\n\u001b[39;00m\u001b[38;5;124m The result of hsplit is:\u001b[39m\u001b[38;5;130;01m\\n\u001b[39;00m\u001b[38;5;124m\"\u001b[39m,result)\n",
      "File \u001b[1;32mC:\\ProgramData\\anaconda3\\Lib\\site-packages\\numpy\\lib\\_shape_base_impl.py:964\u001b[0m, in \u001b[0;36mhsplit\u001b[1;34m(ary, indices_or_sections)\u001b[0m\n\u001b[0;32m    962\u001b[0m     \u001b[38;5;28;01mraise\u001b[39;00m \u001b[38;5;167;01mValueError\u001b[39;00m(\u001b[38;5;124m'\u001b[39m\u001b[38;5;124mhsplit only works on arrays of 1 or more dimensions\u001b[39m\u001b[38;5;124m'\u001b[39m)\n\u001b[0;32m    963\u001b[0m \u001b[38;5;28;01mif\u001b[39;00m ary\u001b[38;5;241m.\u001b[39mndim \u001b[38;5;241m>\u001b[39m \u001b[38;5;241m1\u001b[39m:\n\u001b[1;32m--> 964\u001b[0m     \u001b[38;5;28;01mreturn\u001b[39;00m split(ary, indices_or_sections, \u001b[38;5;241m1\u001b[39m)\n\u001b[0;32m    965\u001b[0m \u001b[38;5;28;01melse\u001b[39;00m:\n\u001b[0;32m    966\u001b[0m     \u001b[38;5;28;01mreturn\u001b[39;00m split(ary, indices_or_sections, \u001b[38;5;241m0\u001b[39m)\n",
      "File \u001b[1;32mC:\\ProgramData\\anaconda3\\Lib\\site-packages\\numpy\\lib\\_shape_base_impl.py:889\u001b[0m, in \u001b[0;36msplit\u001b[1;34m(ary, indices_or_sections, axis)\u001b[0m\n\u001b[0;32m    887\u001b[0m     N \u001b[38;5;241m=\u001b[39m ary\u001b[38;5;241m.\u001b[39mshape[axis]\n\u001b[0;32m    888\u001b[0m     \u001b[38;5;28;01mif\u001b[39;00m N \u001b[38;5;241m%\u001b[39m sections:\n\u001b[1;32m--> 889\u001b[0m         \u001b[38;5;28;01mraise\u001b[39;00m \u001b[38;5;167;01mValueError\u001b[39;00m(\n\u001b[0;32m    890\u001b[0m             \u001b[38;5;124m'\u001b[39m\u001b[38;5;124marray split does not result in an equal division\u001b[39m\u001b[38;5;124m'\u001b[39m) \u001b[38;5;28;01mfrom\u001b[39;00m \u001b[38;5;28;01mNone\u001b[39;00m\n\u001b[0;32m    891\u001b[0m \u001b[38;5;28;01mreturn\u001b[39;00m array_split(ary, indices_or_sections, axis)\n",
      "\u001b[1;31mValueError\u001b[0m: array split does not result in an equal division"
     ]
    }
   ],
   "source": [
    "import numpy as np\n",
    "\n",
    "# Create a 4x6 array\n",
    "arr = np.array([[1, 2, 3, 4, 5, 6],\n",
    "                [7, 8, 9, 10, 11, 12],\n",
    "                [13, 14, 15, 16, 17, 18],\n",
    "                [19, 20, 21, 22, 23, 24]])\n",
    "print(\"Input Array:\")\n",
    "print(arr)\n",
    "print(\"Shape:\", arr.shape)\n",
    "\n",
    "# Split the array into 4 equal parts\n",
    "result = np.hsplit(arr, 4)\n",
    "print(\"\\n The result of hsplit is:\\n\",result)"
   ]
  },
  {
   "cell_type": "code",
   "execution_count": 12,
   "id": "a0c3a94d",
   "metadata": {},
   "outputs": [
    {
     "name": "stdout",
     "output_type": "stream",
     "text": [
      "Input Array:\n",
      "[[ 1  2  3  4  5  6]\n",
      " [ 7  8  9 10 11 12]\n",
      " [13 14 15 16 17 18]\n",
      " [19 20 21 22 23 24]]\n",
      "Shape: (4, 6)\n",
      "\n",
      " The result of hsplit is:\n",
      " [array([[ 1],\n",
      "       [ 7],\n",
      "       [13],\n",
      "       [19]]), array([[ 2,  3],\n",
      "       [ 8,  9],\n",
      "       [14, 15],\n",
      "       [20, 21]]), array([[ 4],\n",
      "       [10],\n",
      "       [16],\n",
      "       [22]]), array([[ 5,  6],\n",
      "       [11, 12],\n",
      "       [17, 18],\n",
      "       [23, 24]])]\n",
      "\n",
      "Output Arrays:\n",
      "Part 1:\n",
      "[[ 1]\n",
      " [ 7]\n",
      " [13]\n",
      " [19]]\n",
      "Shape: (4, 1)\n",
      "Part 2:\n",
      "[[ 2  3]\n",
      " [ 8  9]\n",
      " [14 15]\n",
      " [20 21]]\n",
      "Shape: (4, 2)\n",
      "Part 3:\n",
      "[[ 4]\n",
      " [10]\n",
      " [16]\n",
      " [22]]\n",
      "Shape: (4, 1)\n",
      "Part 4:\n",
      "[[ 5  6]\n",
      " [11 12]\n",
      " [17 18]\n",
      " [23 24]]\n",
      "Shape: (4, 2)\n"
     ]
    }
   ],
   "source": [
    "# Splitting with Specified Indices\n",
    "\n",
    "# Input Array\n",
    "print(\"Input Array:\")\n",
    "print(arr)\n",
    "print(\"Shape:\", arr.shape)\n",
    "\n",
    "# Split the array at indices 2 and 4\n",
    "result = np.hsplit(arr, [1, 3, 4])\n",
    "print(\"\\n The result of hsplit is:\\n\",result)\n",
    "\n",
    "print(\"\\nOutput Arrays:\")\n",
    "for i, part in enumerate(result):\n",
    "    print(f\"Part {i + 1}:\\n{part}\")\n",
    "    print(\"Shape:\", part.shape)"
   ]
  },
  {
   "cell_type": "code",
   "execution_count": 13,
   "id": "acb02ea3",
   "metadata": {},
   "outputs": [
    {
     "name": "stdout",
     "output_type": "stream",
     "text": [
      "Input Array (1D):\n",
      "[1 2 3 4 5 6]\n",
      "Shape: (6,)\n",
      "\n",
      " The result of hsplit is:\n",
      " [array([1, 2]), array([3, 4]), array([5, 6])]\n",
      "\n",
      "Output Arrays:\n",
      "Part 1:\n",
      "[1 2]\n",
      "Shape: (2,) \n",
      "\n",
      "Part 2:\n",
      "[3 4]\n",
      "Shape: (2,) \n",
      "\n",
      "Part 3:\n",
      "[5 6]\n",
      "Shape: (2,) \n",
      "\n"
     ]
    }
   ],
   "source": [
    "#  Using hsplit() on a 1D Array\n",
    "arr_1d = np.array([1, 2, 3, 4, 5, 6])\n",
    "print(\"Input Array (1D):\")\n",
    "print(arr_1d)\n",
    "print(\"Shape:\", arr_1d.shape)\n",
    "\n",
    "# Split the 1D array into 3 equal parts\n",
    "result = np.hsplit(arr_1d, 3)\n",
    "print(\"\\n The result of hsplit is:\\n\",result)\n",
    "\n",
    "print(\"\\nOutput Arrays:\")\n",
    "for i, part in enumerate(result):\n",
    "    print(f\"Part {i + 1}:\\n{part}\")\n",
    "    print(\"Shape:\", part.shape,\"\\n\")\n"
   ]
  },
  {
   "cell_type": "code",
   "execution_count": 15,
   "id": "ce1b6973",
   "metadata": {},
   "outputs": [
    {
     "name": "stdout",
     "output_type": "stream",
     "text": [
      "Input array:\n",
      " [[ 1  2  3  4  5  6]\n",
      " [ 7  8  9 10 11 12]\n",
      " [13 14 15 16 17 18]\n",
      " [19 20 21 22 23 24]]\n",
      "\n",
      "Output Arrays:\n",
      "Part 1:\n",
      "[[ 1]\n",
      " [ 7]\n",
      " [13]\n",
      " [19]] \n",
      "\n",
      "Shape: (4, 1)\n",
      "Part 2:\n",
      "[[ 2  3  4  5]\n",
      " [ 8  9 10 11]\n",
      " [14 15 16 17]\n",
      " [20 21 22 23]] \n",
      "\n",
      "Shape: (4, 4)\n",
      "Part 3:\n",
      "[[ 6]\n",
      " [12]\n",
      " [18]\n",
      " [24]] \n",
      "\n",
      "Shape: (4, 1)\n"
     ]
    }
   ],
   "source": [
    "# Splitting with Unequal Parts Using Indices\n",
    "# Split the array into unequal parts\n",
    "\n",
    "print(\"Input array:\\n\",arr)\n",
    "result = np.hsplit(arr, [1, 5])\n",
    "print(\"\\nOutput Arrays:\")\n",
    "for i, part in enumerate(result):\n",
    "    print(f\"Part {i + 1}:\\n{part}\",\"\\n\")\n",
    "    print(\"Shape:\", part.shape)\n"
   ]
  },
  {
   "cell_type": "code",
   "execution_count": 17,
   "id": "0daf8427",
   "metadata": {},
   "outputs": [
    {
     "name": "stdout",
     "output_type": "stream",
     "text": [
      "Input array:\n",
      " [[ 1  2  3  4  5  6]\n",
      " [ 7  8  9 10 11 12]\n",
      " [13 14 15 16 17 18]\n",
      " [19 20 21 22 23 24]]\n",
      "Error: array split does not result in an equal division\n"
     ]
    }
   ],
   "source": [
    "# Handling Split Errors\n",
    "print(\"Input array:\\n\",arr)\n",
    "\n",
    "# Attempt to split into 4 parts\n",
    "try:\n",
    "    result = np.hsplit(arr, 4)\n",
    "except ValueError as e:\n",
    "    print(\"Error:\", e)"
   ]
  },
  {
   "cell_type": "code",
   "execution_count": null,
   "id": "6e67c2cc",
   "metadata": {},
   "outputs": [],
   "source": []
  },
  {
   "cell_type": "code",
   "execution_count": null,
   "id": "cb31b9b7",
   "metadata": {},
   "outputs": [],
   "source": []
  },
  {
   "cell_type": "code",
   "execution_count": null,
   "id": "bf6995c6",
   "metadata": {},
   "outputs": [],
   "source": []
  },
  {
   "cell_type": "code",
   "execution_count": null,
   "id": "f420ba8f",
   "metadata": {},
   "outputs": [],
   "source": []
  },
  {
   "cell_type": "code",
   "execution_count": null,
   "id": "ac5731c9",
   "metadata": {},
   "outputs": [],
   "source": []
  },
  {
   "cell_type": "code",
   "execution_count": null,
   "id": "6d74facf",
   "metadata": {},
   "outputs": [],
   "source": []
  },
  {
   "cell_type": "code",
   "execution_count": null,
   "id": "82d7d2d3",
   "metadata": {},
   "outputs": [],
   "source": []
  },
  {
   "cell_type": "code",
   "execution_count": null,
   "id": "ecea6593",
   "metadata": {},
   "outputs": [],
   "source": []
  },
  {
   "cell_type": "code",
   "execution_count": null,
   "id": "a86fa869",
   "metadata": {},
   "outputs": [],
   "source": []
  },
  {
   "cell_type": "code",
   "execution_count": null,
   "id": "bbc7eda6",
   "metadata": {},
   "outputs": [],
   "source": []
  },
  {
   "cell_type": "code",
   "execution_count": null,
   "id": "3ec3e1a8",
   "metadata": {},
   "outputs": [],
   "source": []
  },
  {
   "cell_type": "code",
   "execution_count": null,
   "id": "b7c0a170",
   "metadata": {},
   "outputs": [],
   "source": []
  },
  {
   "cell_type": "code",
   "execution_count": null,
   "id": "356c99cb",
   "metadata": {},
   "outputs": [],
   "source": []
  },
  {
   "cell_type": "code",
   "execution_count": null,
   "id": "c0327b28",
   "metadata": {},
   "outputs": [],
   "source": []
  },
  {
   "cell_type": "code",
   "execution_count": null,
   "id": "af042d68",
   "metadata": {},
   "outputs": [],
   "source": []
  },
  {
   "cell_type": "code",
   "execution_count": null,
   "id": "1eda970d",
   "metadata": {},
   "outputs": [],
   "source": []
  }
 ],
 "metadata": {
  "kernelspec": {
   "display_name": "Python 3 (ipykernel)",
   "language": "python",
   "name": "python3"
  },
  "language_info": {
   "codemirror_mode": {
    "name": "ipython",
    "version": 3
   },
   "file_extension": ".py",
   "mimetype": "text/x-python",
   "name": "python",
   "nbconvert_exporter": "python",
   "pygments_lexer": "ipython3",
   "version": "3.11.5"
  }
 },
 "nbformat": 4,
 "nbformat_minor": 5
}
