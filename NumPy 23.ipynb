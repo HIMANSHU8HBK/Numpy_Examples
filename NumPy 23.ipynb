{
 "cells": [
  {
   "cell_type": "code",
   "execution_count": 4,
   "id": "5ad4870a",
   "metadata": {},
   "outputs": [
    {
     "name": "stdout",
     "output_type": "stream",
     "text": [
      "['Laptop - Electronics' 'Biscuit - FMCG' 'Smartphone - Electronics']\n"
     ]
    }
   ],
   "source": [
    "# concatenate product names with their categories for reporting\n",
    "\n",
    "import numpy as np\n",
    "\n",
    "product_names = np.array([\"Laptop\", \"Biscuit\", \"Smartphone\"])\n",
    "categories = np.array([\" - Electronics\", \" - FMCG\", \" - Electronics\"])\n",
    "\n",
    "combined = np.strings.add(product_names, categories)\n",
    "print(combined)"
   ]
  },
  {
   "cell_type": "code",
   "execution_count": 2,
   "id": "dbb786a6",
   "metadata": {},
   "outputs": [
    {
     "name": "stdout",
     "output_type": "stream",
     "text": [
      "['Laptop - Electronics' 'Biscuit - FMCG' 'Smartphone - Electronics']\n"
     ]
    }
   ],
   "source": [
    "print(product_names + categories )"
   ]
  },
  {
   "cell_type": "code",
   "execution_count": 5,
   "id": "7957c4f8",
   "metadata": {},
   "outputs": [
    {
     "ename": "ValueError",
     "evalue": "operands could not be broadcast together with shapes (3,) (2,) ",
     "output_type": "error",
     "traceback": [
      "\u001b[1;31m---------------------------------------------------------------------------\u001b[0m",
      "\u001b[1;31mValueError\u001b[0m                                Traceback (most recent call last)",
      "Cell \u001b[1;32mIn[5], line 7\u001b[0m\n\u001b[0;32m      5\u001b[0m product_names \u001b[38;5;241m=\u001b[39m np\u001b[38;5;241m.\u001b[39marray([\u001b[38;5;124m\"\u001b[39m\u001b[38;5;124mLaptop\u001b[39m\u001b[38;5;124m\"\u001b[39m, \u001b[38;5;124m\"\u001b[39m\u001b[38;5;124mBiscuit\u001b[39m\u001b[38;5;124m\"\u001b[39m, \u001b[38;5;124m\"\u001b[39m\u001b[38;5;124mSmartphone\u001b[39m\u001b[38;5;124m\"\u001b[39m])\n\u001b[0;32m      6\u001b[0m categories \u001b[38;5;241m=\u001b[39m np\u001b[38;5;241m.\u001b[39marray([\u001b[38;5;124m\"\u001b[39m\u001b[38;5;124m - Electronics\u001b[39m\u001b[38;5;124m\"\u001b[39m, \u001b[38;5;124m\"\u001b[39m\u001b[38;5;124m - FMCG\u001b[39m\u001b[38;5;124m\"\u001b[39m])\n\u001b[1;32m----> 7\u001b[0m combined \u001b[38;5;241m=\u001b[39m np\u001b[38;5;241m.\u001b[39mstrings\u001b[38;5;241m.\u001b[39madd(product_names, categories)\n\u001b[0;32m      8\u001b[0m \u001b[38;5;28mprint\u001b[39m(combined)\n",
      "\u001b[1;31mValueError\u001b[0m: operands could not be broadcast together with shapes (3,) (2,) "
     ]
    }
   ],
   "source": [
    "# concatenate product names with their categories for reporting\n",
    "\n",
    "import numpy as np\n",
    "\n",
    "product_names = np.array([\"Laptop\", \"Biscuit\", \"Smartphone\"])\n",
    "categories = np.array([\" - Electronics\", \" - FMCG\"])\n",
    "combined = np.strings.add(product_names, categories)\n",
    "print(combined)"
   ]
  },
  {
   "cell_type": "code",
   "execution_count": 6,
   "id": "304a4f77",
   "metadata": {},
   "outputs": [
    {
     "name": "stdout",
     "output_type": "stream",
     "text": [
      "['12345' '67890' '54321']\n",
      "['Account Number: ' 'Account Number: ' 'Account Number: ']\n",
      "['Account Number: 12345' 'Account Number: 67890' 'Account Number: 54321']\n"
     ]
    }
   ],
   "source": [
    "# Add \"Account Number: \" as a prefix to account numbers\n",
    "\n",
    "account_numbers = np.array([\"12345\", \"67890\", \"54321\"])\n",
    "print(account_numbers)\n",
    "\n",
    "prefix = np.array([\"Account Number: \"] * len(account_numbers))\n",
    "print(prefix)\n",
    "\n",
    "formatted = np.strings.add(prefix, account_numbers)\n",
    "print(formatted)"
   ]
  },
  {
   "cell_type": "code",
   "execution_count": 7,
   "id": "0f3b18eb",
   "metadata": {},
   "outputs": [
    {
     "name": "stdout",
     "output_type": "stream",
     "text": [
      "['Alice Johnson' 'Bob Smith' 'Charlie Brown']\n"
     ]
    }
   ],
   "source": [
    "# Combine first and last names into full names\n",
    "\n",
    "first_names = np.array([\"Alice\", \"Bob\", \"Charlie\"])\n",
    "last_names = np.array([\"Johnson\", \"Smith\", \"Brown\"])\n",
    "full_names = np.strings.add(first_names, \" \" + last_names)\n",
    "print(full_names)"
   ]
  },
  {
   "cell_type": "code",
   "execution_count": 8,
   "id": "a83b3854",
   "metadata": {},
   "outputs": [
    {
     "name": "stdout",
     "output_type": "stream",
     "text": [
      "['Alice Johnson' 'Bob Smith' 'Charlie Brown']\n"
     ]
    }
   ],
   "source": [
    "print(first_names + \" \" + last_names)"
   ]
  },
  {
   "cell_type": "code",
   "execution_count": 9,
   "id": "00319170",
   "metadata": {},
   "outputs": [
    {
     "name": "stdout",
     "output_type": "stream",
     "text": [
      "['B1-101' 'B2-202' 'B3-303']\n"
     ]
    }
   ],
   "source": [
    "# Combine building codes and room numbers for identification\n",
    "\n",
    "building_codes = np.array([\"B1\", \"B2\", \"B3\"])\n",
    "room_numbers = np.array([\"101\", \"202\", \"303\"])\n",
    "\n",
    "room_labels = building_codes + \"-\" + room_numbers\n",
    "print(room_labels)"
   ]
  },
  {
   "cell_type": "code",
   "execution_count": 10,
   "id": "3542d7e1",
   "metadata": {},
   "outputs": [
    {
     "name": "stdout",
     "output_type": "stream",
     "text": [
      "['/home/user/file1.txt' '/home/user/file2.txt' '/home/user/file3.txt']\n"
     ]
    }
   ],
   "source": [
    "# Combine directory paths with filenames to generate full file paths\n",
    "\n",
    "directories = np.array([\"/home/user/\", \"/home/user/\", \"/home/user/\"])\n",
    "filenames = np.array([\"file1.txt\", \"file2.txt\", \"file3.txt\"])\n",
    "\n",
    "file_paths = np.strings.add(directories, filenames)\n",
    "print(file_paths)"
   ]
  },
  {
   "cell_type": "code",
   "execution_count": 11,
   "id": "2097e5ea",
   "metadata": {},
   "outputs": [
    {
     "name": "stdout",
     "output_type": "stream",
     "text": [
      "['Apple Juice' '' 'Cherry Jam']\n"
     ]
    }
   ],
   "source": [
    "# Apply concatenation conditionally\n",
    "\n",
    "x1 = np.array([\"Apple\", \"Banana\", \"Cherry\"])\n",
    "x2 = np.array([\" Juice\", \" Smoothie\", \" Jam\"])\n",
    "\n",
    "condition = np.array([True, False, True])\n",
    "\n",
    "result = np.strings.add(x1, x2, where=condition)\n",
    "print(result)\n",
    "\n",
    "# Concatenation happens only where the condition is True. Other elements remain unchanged."
   ]
  },
  {
   "cell_type": "code",
   "execution_count": 16,
   "id": "4ac07071",
   "metadata": {},
   "outputs": [
    {
     "data": {
      "text/plain": [
       "np.float64(5.0)"
      ]
     },
     "execution_count": 16,
     "metadata": {},
     "output_type": "execute_result"
    }
   ],
   "source": [
    "np.strings.add(1.0, 4.0)"
   ]
  },
  {
   "cell_type": "code",
   "execution_count": 17,
   "id": "d14443bb",
   "metadata": {},
   "outputs": [
    {
     "name": "stdout",
     "output_type": "stream",
     "text": [
      "[ 6  8 10 12 14 16]\n"
     ]
    }
   ],
   "source": [
    "a = np.array([2,3,4,5,6,7])\n",
    "b = np.array([4,5,6,7,8,9])\n",
    "\n",
    "print(a+b)"
   ]
  },
  {
   "cell_type": "code",
   "execution_count": 18,
   "id": "23f79ae9",
   "metadata": {},
   "outputs": [
    {
     "data": {
      "text/plain": [
       "array([ 6,  8, 10, 12, 14, 16])"
      ]
     },
     "execution_count": 18,
     "metadata": {},
     "output_type": "execute_result"
    }
   ],
   "source": [
    "np.add(a, b)"
   ]
  },
  {
   "cell_type": "code",
   "execution_count": null,
   "id": "b14b572a",
   "metadata": {},
   "outputs": [],
   "source": []
  },
  {
   "cell_type": "code",
   "execution_count": 19,
   "id": "d72f497a",
   "metadata": {},
   "outputs": [
    {
     "name": "stdout",
     "output_type": "stream",
     "text": [
      "x1:\n",
      " [[0. 1. 2.]\n",
      " [3. 4. 5.]\n",
      " [6. 7. 8.]] \n",
      "\n",
      "x2:\n",
      " [0. 1. 2.] \n",
      "\n",
      "x1 + x2:\n",
      " [[ 0.  2.  4.]\n",
      " [ 3.  5.  7.]\n",
      " [ 6.  8. 10.]]\n"
     ]
    }
   ],
   "source": [
    "# The + operator can be used as a shorthand for np.add on ndarrays.\n",
    "x1 = np.arange(9.0).reshape((3, 3))\n",
    "print(\"x1:\\n\",x1,\"\\n\")\n",
    "\n",
    "x2 = np.arange(3.0)\n",
    "print(\"x2:\\n\",x2,\"\\n\")\n",
    "\n",
    "print(\"x1 + x2:\\n\", x1+x2)"
   ]
  },
  {
   "cell_type": "code",
   "execution_count": 20,
   "id": "a29384f5",
   "metadata": {},
   "outputs": [
    {
     "name": "stdout",
     "output_type": "stream",
     "text": [
      "x1 + x2:\n",
      " [[ 0.  2.  4.]\n",
      " [ 3.  5.  7.]\n",
      " [ 6.  8. 10.]]\n"
     ]
    }
   ],
   "source": [
    "print(\"x1 + x2:\\n\", np.add(x1, x2))"
   ]
  },
  {
   "cell_type": "code",
   "execution_count": null,
   "id": "797b97ea",
   "metadata": {},
   "outputs": [],
   "source": []
  },
  {
   "cell_type": "code",
   "execution_count": null,
   "id": "1d073315",
   "metadata": {},
   "outputs": [],
   "source": []
  },
  {
   "cell_type": "code",
   "execution_count": 22,
   "id": "eb552156",
   "metadata": {},
   "outputs": [
    {
     "name": "stdout",
     "output_type": "stream",
     "text": [
      "['Buy One Get One Free! Buy One Get One Free! Buy One Get One Free! Buy One Get One Free! Buy One Get One Free! '\n",
      " 'Discount 20% Discount 20% Discount 20% Discount 20% Discount 20% '\n",
      " 'Limited OfferLimited OfferLimited OfferLimited OfferLimited Offer']\n"
     ]
    }
   ],
   "source": [
    "# Create repeated promotional messages based on item quantities\n",
    "\n",
    "import numpy as np\n",
    "\n",
    "products = np.array([\"Buy One Get One Free! \", \"Discount 20% \", \"Limited Offer\"])\n",
    "repeat_count = np.array([2, 3, 1])\n",
    "\n",
    "promotions = np.strings.multiply(products, repeat_count)\n",
    "print(promotions)"
   ]
  },
  {
   "cell_type": "code",
   "execution_count": 24,
   "id": "53188d41",
   "metadata": {},
   "outputs": [
    {
     "name": "stdout",
     "output_type": "stream",
     "text": [
      "['******************************']\n"
     ]
    }
   ],
   "source": [
    "# Create a visual separator of dashes for account summaries\n",
    "\n",
    "separator = np.array([\"-\"])\n",
    "repeat_count = np.array([30])\n",
    "\n",
    "formatted_separator = np.strings.multiply(separator, repeat_count)\n",
    "print(formatted_separator)"
   ]
  },
  {
   "cell_type": "code",
   "execution_count": 25,
   "id": "2f5567ad",
   "metadata": {},
   "outputs": [
    {
     "name": "stdout",
     "output_type": "stream",
     "text": [
      "['AAAAA' 'BBB' 'CC']\n"
     ]
    }
   ],
   "source": [
    "# Repeat grade symbols for visual emphasis\n",
    "\n",
    "grades = np.array([\"A\", \"B\", \"C\"])\n",
    "repeat_count = np.array([5, 3, 2])\n",
    "\n",
    "emphasized_grades = np.strings.multiply(grades, repeat_count)\n",
    "print(emphasized_grades)"
   ]
  },
  {
   "cell_type": "code",
   "execution_count": 26,
   "id": "c8e0a8b7",
   "metadata": {},
   "outputs": [
    {
     "name": "stdout",
     "output_type": "stream",
     "text": [
      "['LOADING_LOADING_LOADING_LOADING_LOADING_LOADING_LOADING_LOADING_LOADING_LOADING_']\n"
     ]
    }
   ],
   "source": [
    "# Generate repeated test strings for message loading\n",
    "\n",
    "test_string = np.array([\"LOADING_\"])\n",
    "repeat_count = np.array([10])\n",
    "\n",
    "test_cases = np.strings.multiply(test_string, repeat_count)\n",
    "print(test_cases)"
   ]
  },
  {
   "cell_type": "code",
   "execution_count": 27,
   "id": "aa3fc806",
   "metadata": {},
   "outputs": [
    {
     "name": "stdout",
     "output_type": "stream",
     "text": [
      "['Item123 Item123 Item123 ' 'Item456 Item456 ']\n"
     ]
    }
   ],
   "source": [
    "# Generate multiple copies of item labels\n",
    "\n",
    "labels = np.array([\"Item123 \", \"Item456 \"])\n",
    "repeat_count = np.array([3, 2])\n",
    "\n",
    "repeated_labels = np.strings.multiply(labels, repeat_count)\n",
    "print(repeated_labels)"
   ]
  },
  {
   "cell_type": "code",
   "execution_count": 28,
   "id": "0d7050c3",
   "metadata": {},
   "outputs": [
    {
     "name": "stdout",
     "output_type": "stream",
     "text": [
      "['' '']\n"
     ]
    }
   ],
   "source": [
    "# When repeat_count is less than 0, the result is an empty string.\n",
    "\n",
    "strings = np.array([\"Negative\", \"Test\"])\n",
    "repeat_count = np.array([-1, 0])\n",
    "\n",
    "result = np.strings.multiply(strings, repeat_count)\n",
    "print(result)"
   ]
  },
  {
   "cell_type": "code",
   "execution_count": 31,
   "id": "49c2b803",
   "metadata": {},
   "outputs": [
    {
     "name": "stdout",
     "output_type": "stream",
     "text": [
      "['Repeat Repeat Repeat Repeat Repeat ' 'Fun Fun Fun Fun Fun ']\n"
     ]
    }
   ],
   "source": [
    "# Broadcasting with Scalars\n",
    "\n",
    "strings = np.array([\"Repeat \", \"Fun \"])\n",
    "repeat_count = 5\n",
    "\n",
    "result = np.strings.multiply(strings, repeat_count)\n",
    "print(result)\n",
    "\n",
    "# A scalar repeat_count is broadcasted to apply the same repetition to all strings."
   ]
  },
  {
   "cell_type": "code",
   "execution_count": 32,
   "id": "118b0bd6",
   "metadata": {},
   "outputs": [
    {
     "data": {
      "text/plain": [
       "array(['aaa', 'bbb', 'ccc'], dtype='<U3')"
      ]
     },
     "execution_count": 32,
     "metadata": {},
     "output_type": "execute_result"
    }
   ],
   "source": [
    "import numpy as np\n",
    "arr = np.array([\"a\", \"b\", \"c\"])\n",
    "np.strings.multiply(arr, 3)"
   ]
  },
  {
   "cell_type": "code",
   "execution_count": 33,
   "id": "b2c7e3bb",
   "metadata": {},
   "outputs": [
    {
     "data": {
      "text/plain": [
       "array(['a', 'bb', 'ccc'], dtype='<U3')"
      ]
     },
     "execution_count": 33,
     "metadata": {},
     "output_type": "execute_result"
    }
   ],
   "source": [
    "i = np.array([1, 2, 3])\n",
    "\n",
    "np.strings.multiply(arr, i)"
   ]
  },
  {
   "cell_type": "code",
   "execution_count": 34,
   "id": "c7e26c85",
   "metadata": {},
   "outputs": [
    {
     "data": {
      "text/plain": [
       "array(['a', 'aa', 'aaa'], dtype='<U3')"
      ]
     },
     "execution_count": 34,
     "metadata": {},
     "output_type": "execute_result"
    }
   ],
   "source": [
    "np.strings.multiply(np.array(['a']), i)"
   ]
  },
  {
   "cell_type": "code",
   "execution_count": 35,
   "id": "def3a9f5",
   "metadata": {},
   "outputs": [
    {
     "name": "stdout",
     "output_type": "stream",
     "text": [
      "[['a' 'b' 'c']\n",
      " ['d' 'e' 'f']]\n"
     ]
    },
    {
     "data": {
      "text/plain": [
       "array([['aaa', 'bbb', 'ccc'],\n",
       "       ['ddd', 'eee', 'fff']], dtype='<U3')"
      ]
     },
     "execution_count": 35,
     "metadata": {},
     "output_type": "execute_result"
    }
   ],
   "source": [
    "a = np.array(['a', 'b', 'c', 'd', 'e', 'f']).reshape((2, 3))\n",
    "\n",
    "print(a)\n",
    "\n",
    "np.strings.multiply(a, 3)"
   ]
  },
  {
   "cell_type": "code",
   "execution_count": 36,
   "id": "4f022951",
   "metadata": {},
   "outputs": [
    {
     "data": {
      "text/plain": [
       "array([['a', 'bb', 'ccc'],\n",
       "       ['d', 'ee', 'fff']], dtype='<U3')"
      ]
     },
     "execution_count": 36,
     "metadata": {},
     "output_type": "execute_result"
    }
   ],
   "source": [
    "np.strings.multiply(a, i)"
   ]
  },
  {
   "cell_type": "code",
   "execution_count": 37,
   "id": "072ed1a8",
   "metadata": {},
   "outputs": [
    {
     "name": "stdout",
     "output_type": "stream",
     "text": [
      "['Header Header ' 'Footer Footer Footer ' 'Body Body Body Body ']\n"
     ]
    }
   ],
   "source": [
    "# Using Broadcasting with Arrays\n",
    "\n",
    "strings = np.array([\"Header \", \"Footer \", \"Body \"])\n",
    "repeat_count = np.array([2, 3, 4])\n",
    "\n",
    "result = np.strings.multiply(strings, repeat_count)\n",
    "print(result)"
   ]
  },
  {
   "cell_type": "code",
   "execution_count": null,
   "id": "179fbce1",
   "metadata": {},
   "outputs": [],
   "source": []
  },
  {
   "cell_type": "code",
   "execution_count": null,
   "id": "99b815d4",
   "metadata": {},
   "outputs": [],
   "source": []
  }
 ],
 "metadata": {
  "kernelspec": {
   "display_name": "Python 3 (ipykernel)",
   "language": "python",
   "name": "python3"
  },
  "language_info": {
   "codemirror_mode": {
    "name": "ipython",
    "version": 3
   },
   "file_extension": ".py",
   "mimetype": "text/x-python",
   "name": "python",
   "nbconvert_exporter": "python",
   "pygments_lexer": "ipython3",
   "version": "3.11.5"
  }
 },
 "nbformat": 4,
 "nbformat_minor": 5
}
