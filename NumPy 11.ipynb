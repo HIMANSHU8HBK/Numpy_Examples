{
 "cells": [
  {
   "cell_type": "markdown",
   "id": "f643b034",
   "metadata": {},
   "source": [
    "# numpy.array_split(ary, indices_or_sections, axis=0)"
   ]
  },
  {
   "cell_type": "code",
   "execution_count": 1,
   "id": "eb1999cd",
   "metadata": {},
   "outputs": [
    {
     "name": "stdout",
     "output_type": "stream",
     "text": [
      "Input array before split_array:\n",
      " [0 1 2 3 4 5 6 7 8]\n",
      "\n",
      "Output after split_array:\n",
      " [array([0, 1, 2]), array([3, 4, 5]), array([6, 7, 8])]\n",
      "\n",
      "Input array before split_array:\n",
      " [0 1 2 3 4 5 6 7 8 9]\n",
      "\n",
      "Output after split_array:\n",
      " [array([0, 1, 2, 3]), array([4, 5, 6]), array([7, 8, 9])]\n"
     ]
    }
   ],
   "source": [
    "import numpy as np\n",
    "\n",
    "# Create an array of 9 numbers\n",
    "ary = np.arange(9)\n",
    "\n",
    "print(\"Input array before split_array:\\n\", ary)\n",
    "\n",
    "# Split the array into 3 parts\n",
    "split_array = np.array_split(ary, 3)\n",
    "\n",
    "print(\"\\nOutput after split_array:\\n\",split_array)\n",
    "\n",
    "\n",
    "# Create an array of 9 numbers\n",
    "ary = np.arange(10)\n",
    "\n",
    "print(\"\\nInput array before split_array:\\n\", ary)\n",
    "\n",
    "# Split the array into 3 parts\n",
    "split_array = np.array_split(ary, 3)\n",
    "\n",
    "print(\"\\nOutput after split_array:\\n\",split_array)\n"
   ]
  },
  {
   "cell_type": "code",
   "execution_count": null,
   "id": "84dfd52a",
   "metadata": {},
   "outputs": [],
   "source": []
  },
  {
   "cell_type": "code",
   "execution_count": null,
   "id": "bc7d0600",
   "metadata": {},
   "outputs": [],
   "source": []
  },
  {
   "cell_type": "code",
   "execution_count": 2,
   "id": "610a0c38",
   "metadata": {},
   "outputs": [
    {
     "name": "stdout",
     "output_type": "stream",
     "text": [
      "Input array before split:\n",
      " [0 1 2 3 4 5 6 7 8 9]\n"
     ]
    },
    {
     "ename": "ValueError",
     "evalue": "array split does not result in an equal division",
     "output_type": "error",
     "traceback": [
      "\u001b[1;31m---------------------------------------------------------------------------\u001b[0m",
      "\u001b[1;31mValueError\u001b[0m                                Traceback (most recent call last)",
      "Cell \u001b[1;32mIn[2], line 9\u001b[0m\n\u001b[0;32m      6\u001b[0m \u001b[38;5;28mprint\u001b[39m(\u001b[38;5;124m\"\u001b[39m\u001b[38;5;124mInput array before split:\u001b[39m\u001b[38;5;130;01m\\n\u001b[39;00m\u001b[38;5;124m\"\u001b[39m, ary)\n\u001b[0;32m      8\u001b[0m \u001b[38;5;66;03m# Split the array into 3 parts\u001b[39;00m\n\u001b[1;32m----> 9\u001b[0m split_array \u001b[38;5;241m=\u001b[39m np\u001b[38;5;241m.\u001b[39msplit(ary, \u001b[38;5;241m3\u001b[39m)\n\u001b[0;32m     11\u001b[0m \u001b[38;5;28mprint\u001b[39m(\u001b[38;5;124m\"\u001b[39m\u001b[38;5;130;01m\\n\u001b[39;00m\u001b[38;5;124mOutput after split:\u001b[39m\u001b[38;5;130;01m\\n\u001b[39;00m\u001b[38;5;124m\"\u001b[39m,split_array)\n",
      "File \u001b[1;32mC:\\ProgramData\\anaconda3\\Lib\\site-packages\\numpy\\lib\\_shape_base_impl.py:889\u001b[0m, in \u001b[0;36msplit\u001b[1;34m(ary, indices_or_sections, axis)\u001b[0m\n\u001b[0;32m    887\u001b[0m     N \u001b[38;5;241m=\u001b[39m ary\u001b[38;5;241m.\u001b[39mshape[axis]\n\u001b[0;32m    888\u001b[0m     \u001b[38;5;28;01mif\u001b[39;00m N \u001b[38;5;241m%\u001b[39m sections:\n\u001b[1;32m--> 889\u001b[0m         \u001b[38;5;28;01mraise\u001b[39;00m \u001b[38;5;167;01mValueError\u001b[39;00m(\n\u001b[0;32m    890\u001b[0m             \u001b[38;5;124m'\u001b[39m\u001b[38;5;124marray split does not result in an equal division\u001b[39m\u001b[38;5;124m'\u001b[39m) \u001b[38;5;28;01mfrom\u001b[39;00m \u001b[38;5;28;01mNone\u001b[39;00m\n\u001b[0;32m    891\u001b[0m \u001b[38;5;28;01mreturn\u001b[39;00m array_split(ary, indices_or_sections, axis)\n",
      "\u001b[1;31mValueError\u001b[0m: array split does not result in an equal division"
     ]
    }
   ],
   "source": [
    "import numpy as np\n",
    "\n",
    "# Create an array of 10 numbers\n",
    "ary = np.arange(10)\n",
    "\n",
    "print(\"Input array before split:\\n\", ary)\n",
    "\n",
    "# Split the array into 3 parts\n",
    "split_array = np.split(ary, 3)\n",
    "\n",
    "print(\"\\nOutput after split:\\n\",split_array)\n"
   ]
  },
  {
   "cell_type": "code",
   "execution_count": 4,
   "id": "779b3312",
   "metadata": {},
   "outputs": [
    {
     "name": "stdout",
     "output_type": "stream",
     "text": [
      "Input array before split:\n",
      " [ 0  1  2  3  4  5  6  7  8  9 10 11]\n",
      "\n",
      "Output after split:\n",
      " [array([0, 1, 2]), array([3, 4, 5]), array([6, 7, 8]), array([ 9, 10, 11])]\n"
     ]
    }
   ],
   "source": [
    "import numpy as np\n",
    "\n",
    "# Create an array of 9 numbers\n",
    "ary = np.arange(12)\n",
    "\n",
    "print(\"Input array before split:\\n\", ary)\n",
    "\n",
    "# Split the array into 3 parts\n",
    "split_array = np.split(ary, 4)\n",
    "\n",
    "print(\"\\nOutput after split:\\n\",split_array)\n"
   ]
  },
  {
   "cell_type": "code",
   "execution_count": null,
   "id": "37793563",
   "metadata": {},
   "outputs": [],
   "source": []
  },
  {
   "cell_type": "code",
   "execution_count": 5,
   "id": "d23fe4ff",
   "metadata": {},
   "outputs": [
    {
     "name": "stdout",
     "output_type": "stream",
     "text": [
      "[array([0, 1, 2]), array([3, 4, 5]), array([6, 7, 8, 9])]\n"
     ]
    }
   ],
   "source": [
    "# Split the array at specific indices\n",
    "\n",
    "ary = np.arange(10)\n",
    "split_array = np.array_split(ary, [3, 6])\n",
    "\n",
    "print(split_array)\n"
   ]
  },
  {
   "cell_type": "code",
   "execution_count": 6,
   "id": "b3609ba4",
   "metadata": {},
   "outputs": [
    {
     "name": "stdout",
     "output_type": "stream",
     "text": [
      "[array([0, 1]), array([2, 3, 4]), array([5, 6, 7, 8, 9])]\n"
     ]
    }
   ],
   "source": [
    "# Split the array at specific indices\n",
    "\n",
    "split_array = np.split(ary, [2, 5])\n",
    "\n",
    "print(split_array)\n"
   ]
  },
  {
   "cell_type": "code",
   "execution_count": null,
   "id": "ab8898cb",
   "metadata": {},
   "outputs": [],
   "source": []
  },
  {
   "cell_type": "code",
   "execution_count": null,
   "id": "59269957",
   "metadata": {},
   "outputs": [],
   "source": []
  },
  {
   "cell_type": "code",
   "execution_count": 11,
   "id": "9a165084",
   "metadata": {},
   "outputs": [
    {
     "name": "stdout",
     "output_type": "stream",
     "text": [
      "Input array:\n",
      " [[ 0  1  2  3]\n",
      " [ 4  5  6  7]\n",
      " [ 8  9 10 11]]\n",
      "\n",
      "Rows split:\n",
      " [array([[0, 1, 2, 3]]), array([[4, 5, 6, 7]]), array([[ 8,  9, 10, 11]])]\n",
      "\n",
      "Columns split:\n",
      " [array([[0, 1],\n",
      "       [4, 5],\n",
      "       [8, 9]]), array([[ 2,  3],\n",
      "       [ 6,  7],\n",
      "       [10, 11]])]\n"
     ]
    }
   ],
   "source": [
    "import numpy as np\n",
    "ary = np.arange(12).reshape(3, 4)\n",
    "\n",
    "print(\"Input array:\\n\",ary)\n",
    "\n",
    "# Split a 2D array along axis 0 (rows)\n",
    "split_rows = np.split(ary, 3, axis=0)\n",
    "\n",
    "# Split a 2D array along axis 1 (columns)\n",
    "split_cols = np.split(ary, 2, axis=1)\n",
    "\n",
    "print(\"\\nRows split:\\n\", split_rows)\n",
    "print(\"\\nColumns split:\\n\", split_cols)\n"
   ]
  },
  {
   "cell_type": "code",
   "execution_count": null,
   "id": "775d9a74",
   "metadata": {},
   "outputs": [],
   "source": []
  },
  {
   "cell_type": "code",
   "execution_count": 12,
   "id": "59b57d2d",
   "metadata": {},
   "outputs": [
    {
     "name": "stdout",
     "output_type": "stream",
     "text": [
      "Original Array:\n",
      "[[ 0  1  2  3]\n",
      " [ 4  5  6  7]\n",
      " [ 8  9 10 11]]\n",
      "Shape of original array: (3, 4)\n",
      "\n",
      "\n",
      "split_rows:\n",
      " [array([[0, 1, 2, 3]]), array([[4, 5, 6, 7]]), array([[ 8,  9, 10, 11]])]\n",
      "\n",
      "Split along rows (axis=0):\n",
      "Sub-array 0:\n",
      "[[0 1 2 3]]\n",
      "Shape: (1, 4)\n",
      "\n",
      "Sub-array 1:\n",
      "[[4 5 6 7]]\n",
      "Shape: (1, 4)\n",
      "\n",
      "Sub-array 2:\n",
      "[[ 8  9 10 11]]\n",
      "Shape: (1, 4)\n",
      "\n",
      "\n",
      "split_cols:\n",
      " [array([[0, 1],\n",
      "       [4, 5],\n",
      "       [8, 9]]), array([[ 2,  3],\n",
      "       [ 6,  7],\n",
      "       [10, 11]])]\n",
      "\n",
      "Split along columns (axis=1):\n",
      "Sub-array 0:\n",
      "[[0 1]\n",
      " [4 5]\n",
      " [8 9]]\n",
      "Shape: (3, 2)\n",
      "\n",
      "Sub-array 1:\n",
      "[[ 2  3]\n",
      " [ 6  7]\n",
      " [10 11]]\n",
      "Shape: (3, 2)\n",
      "\n"
     ]
    }
   ],
   "source": [
    "import numpy as np\n",
    "ary = np.arange(12).reshape(3, 4)\n",
    "\n",
    "# Original array\n",
    "print(\"Original Array:\")\n",
    "print(ary)\n",
    "print(\"Shape of original array:\", ary.shape)\n",
    "print()\n",
    "\n",
    "# Split along rows (axis=0)\n",
    "split_rows = np.split(ary, 3, axis=0)\n",
    "\n",
    "print(\"\\nsplit_rows:\\n\",split_rows)\n",
    "print(\"\\nSplit along rows (axis=0):\")\n",
    "for i, row in enumerate(split_rows):\n",
    "    print(f\"Sub-array {i}:\")\n",
    "    print(row)\n",
    "    print(\"Shape:\", row.shape)\n",
    "    print()\n",
    "\n",
    "# Split along columns (axis=1)\n",
    "split_cols = np.split(ary, 2, axis=1)\n",
    "\n",
    "print(\"\\nsplit_cols:\\n\",split_cols)\n",
    "print(\"\\nSplit along columns (axis=1):\")\n",
    "for i, col in enumerate(split_cols):\n",
    "    print(f\"Sub-array {i}:\")\n",
    "    print(col)\n",
    "    print(\"Shape:\", col.shape)\n",
    "    print()\n"
   ]
  },
  {
   "cell_type": "code",
   "execution_count": null,
   "id": "624c7fa4",
   "metadata": {},
   "outputs": [],
   "source": []
  },
  {
   "cell_type": "code",
   "execution_count": null,
   "id": "021bf1a4",
   "metadata": {},
   "outputs": [],
   "source": []
  },
  {
   "cell_type": "code",
   "execution_count": null,
   "id": "7f09bbb8",
   "metadata": {},
   "outputs": [],
   "source": []
  },
  {
   "cell_type": "code",
   "execution_count": null,
   "id": "07489a6b",
   "metadata": {},
   "outputs": [],
   "source": []
  }
 ],
 "metadata": {
  "kernelspec": {
   "display_name": "Python 3 (ipykernel)",
   "language": "python",
   "name": "python3"
  },
  "language_info": {
   "codemirror_mode": {
    "name": "ipython",
    "version": 3
   },
   "file_extension": ".py",
   "mimetype": "text/x-python",
   "name": "python",
   "nbconvert_exporter": "python",
   "pygments_lexer": "ipython3",
   "version": "3.11.5"
  }
 },
 "nbformat": 4,
 "nbformat_minor": 5
}
