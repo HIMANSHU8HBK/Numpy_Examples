{
 "cells": [
  {
   "cell_type": "code",
   "execution_count": 2,
   "id": "8bb80271",
   "metadata": {},
   "outputs": [
    {
     "name": "stdout",
     "output_type": "stream",
     "text": [
      "List:\n",
      " [1, 2, 3, 4, 5]\n",
      "[4 4 1 2 3 4 5 6 6 6]\n",
      "<class 'list'>\n",
      "<class 'numpy.ndarray'>\n"
     ]
    }
   ],
   "source": [
    "# Constant Padding\n",
    "\n",
    "import numpy as np\n",
    "\n",
    "a = [1, 2, 3, 4, 5]\n",
    "print(\"List:\\n\",a)\n",
    "result = np.pad(a, (2, 3), mode='constant', constant_values=(4, 6))\n",
    "\n",
    "print(result)\n",
    "print(type(a))\n",
    "print(type(result))"
   ]
  },
  {
   "cell_type": "code",
   "execution_count": 3,
   "id": "59b24557",
   "metadata": {},
   "outputs": [
    {
     "name": "stdout",
     "output_type": "stream",
     "text": [
      "[4 4 1 2 3 4 5 6 6 6]\n",
      "<class 'numpy.ndarray'>\n",
      "<class 'numpy.ndarray'>\n"
     ]
    }
   ],
   "source": [
    "# Constant Padding\n",
    "\n",
    "import numpy as np\n",
    "\n",
    "a = np.array([1, 2, 3, 4, 5])\n",
    "result = np.pad(a, (2, 3), mode='constant', constant_values=(4, 6))\n",
    "print(result)\n",
    "print(type(a))\n",
    "print(type(result))"
   ]
  },
  {
   "cell_type": "code",
   "execution_count": 4,
   "id": "35bd5332",
   "metadata": {},
   "outputs": [
    {
     "name": "stdout",
     "output_type": "stream",
     "text": [
      "[1 1 1 2 3 4 5 5 5 5]\n"
     ]
    }
   ],
   "source": [
    "# Edge Padding\n",
    "a = [1, 2, 3, 4, 5]\n",
    "result = np.pad(a, (2, 3), mode='edge')\n",
    "print(result)"
   ]
  },
  {
   "cell_type": "code",
   "execution_count": null,
   "id": "d85be8d1",
   "metadata": {},
   "outputs": [],
   "source": []
  },
  {
   "cell_type": "code",
   "execution_count": 6,
   "id": "7766de0b",
   "metadata": {},
   "outputs": [
    {
     "name": "stdout",
     "output_type": "stream",
     "text": [
      "[5 4 3 2 1 2 3 4 5 4 3 2]\n"
     ]
    }
   ],
   "source": [
    "# Reflect Padding\n",
    "\n",
    "a = [1, 2, 3, 4, 5]\n",
    "result = np.pad(a, (4, 3), mode='reflect')\n",
    "print(result)"
   ]
  },
  {
   "cell_type": "code",
   "execution_count": 7,
   "id": "29fcfa42",
   "metadata": {},
   "outputs": [
    {
     "name": "stdout",
     "output_type": "stream",
     "text": [
      "[2 1 1 2 3 4 5 5 4 3]\n"
     ]
    }
   ],
   "source": [
    "# Symmetric Padding\n",
    "\n",
    "a = [1, 2, 3, 4, 5]\n",
    "result = np.pad(a, (2, 3), mode='symmetric')\n",
    "print(result)"
   ]
  },
  {
   "cell_type": "code",
   "execution_count": 10,
   "id": "c2774e7a",
   "metadata": {},
   "outputs": [
    {
     "name": "stdout",
     "output_type": "stream",
     "text": [
      "[3 3 1 2 5 4 3 3 3 3]\n"
     ]
    }
   ],
   "source": [
    "# maximum Padding\n",
    "\n",
    "a = [1, 2, 5, 4, 3]\n",
    "result = np.pad(a, (2, 3), mode='mean')\n",
    "print(result)"
   ]
  },
  {
   "cell_type": "code",
   "execution_count": null,
   "id": "499cece3",
   "metadata": {},
   "outputs": [],
   "source": []
  },
  {
   "cell_type": "code",
   "execution_count": null,
   "id": "cfdb49a3",
   "metadata": {},
   "outputs": [],
   "source": []
  },
  {
   "cell_type": "code",
   "execution_count": null,
   "id": "742ea3fc",
   "metadata": {},
   "outputs": [],
   "source": []
  },
  {
   "cell_type": "code",
   "execution_count": null,
   "id": "e8bc10f9",
   "metadata": {},
   "outputs": [],
   "source": []
  },
  {
   "cell_type": "code",
   "execution_count": null,
   "id": "47036b3d",
   "metadata": {},
   "outputs": [],
   "source": []
  }
 ],
 "metadata": {
  "kernelspec": {
   "display_name": "Python 3 (ipykernel)",
   "language": "python",
   "name": "python3"
  },
  "language_info": {
   "codemirror_mode": {
    "name": "ipython",
    "version": 3
   },
   "file_extension": ".py",
   "mimetype": "text/x-python",
   "name": "python",
   "nbconvert_exporter": "python",
   "pygments_lexer": "ipython3",
   "version": "3.11.5"
  }
 },
 "nbformat": 4,
 "nbformat_minor": 5
}
