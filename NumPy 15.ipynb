{
 "cells": [
  {
   "cell_type": "code",
   "execution_count": 1,
   "id": "c650cf37",
   "metadata": {},
   "outputs": [
    {
     "name": "stdout",
     "output_type": "stream",
     "text": [
      "Original Array:\n",
      "[1 2 3]\n",
      "\n",
      "Array after appending [4, 5, 6]:\n",
      "[1 2 3 4 5 6]\n"
     ]
    }
   ],
   "source": [
    "# Append Values to a 1D Array\n",
    "\n",
    "import numpy as np\n",
    "\n",
    "# Define a 1D array\n",
    "arr = np.array([1, 2, 3])\n",
    "print(\"Original Array:\")\n",
    "print(arr)\n",
    "\n",
    "# Append a new sequence to the array\n",
    "result = np.append(arr, [4, 5, 6])\n",
    "print(\"\\nArray after appending [4, 5, 6]:\")\n",
    "print(result)"
   ]
  },
  {
   "cell_type": "code",
   "execution_count": 2,
   "id": "5f980317",
   "metadata": {},
   "outputs": [
    {
     "name": "stdout",
     "output_type": "stream",
     "text": [
      "\n",
      "Original 2D Array:\n",
      "[[1 2 3]\n",
      " [4 5 6]]\n",
      "\n",
      "Array after appending a new row [7, 8, 9] along axis 0:\n",
      "[[1 2 3]\n",
      " [4 5 6]\n",
      " [7 8 9]]\n"
     ]
    }
   ],
   "source": [
    "# Append Rows to a 2D Array (Along Axis 0)\n",
    "\n",
    "# Define a 2D array\n",
    "arr = np.array([[1, 2, 3], [4, 5, 6]])\n",
    "print(\"\\nOriginal 2D Array:\")\n",
    "print(arr)\n",
    "\n",
    "# Append a new row\n",
    "result = np.append(arr, [[7, 8, 9]], axis=0)\n",
    "print(\"\\nArray after appending a new row [7, 8, 9] along axis 0:\")\n",
    "print(result)\n"
   ]
  },
  {
   "cell_type": "code",
   "execution_count": 5,
   "id": "6b2e9807",
   "metadata": {},
   "outputs": [
    {
     "name": "stdout",
     "output_type": "stream",
     "text": [
      "\n",
      "Original 2D Array:\n",
      "[[1 2 3]\n",
      " [4 5 6]]\n"
     ]
    },
    {
     "ename": "ValueError",
     "evalue": "all the input array dimensions except for the concatenation axis must match exactly, but along dimension 1, the array at index 0 has size 3 and the array at index 1 has size 4",
     "output_type": "error",
     "traceback": [
      "\u001b[1;31m---------------------------------------------------------------------------\u001b[0m",
      "\u001b[1;31mValueError\u001b[0m                                Traceback (most recent call last)",
      "Cell \u001b[1;32mIn[5], line 7\u001b[0m\n\u001b[0;32m      4\u001b[0m \u001b[38;5;28mprint\u001b[39m(arr)\n\u001b[0;32m      6\u001b[0m \u001b[38;5;66;03m# Append a new row\u001b[39;00m\n\u001b[1;32m----> 7\u001b[0m result \u001b[38;5;241m=\u001b[39m np\u001b[38;5;241m.\u001b[39mappend(arr, [[\u001b[38;5;241m7\u001b[39m, \u001b[38;5;241m8\u001b[39m, \u001b[38;5;241m9\u001b[39m, \u001b[38;5;241m10\u001b[39m]], axis\u001b[38;5;241m=\u001b[39m\u001b[38;5;241m0\u001b[39m)\n\u001b[0;32m      8\u001b[0m \u001b[38;5;28mprint\u001b[39m(\u001b[38;5;124m\"\u001b[39m\u001b[38;5;130;01m\\n\u001b[39;00m\u001b[38;5;124mArray after appending a new row [7, 8, 9, 10] along axis 0:\u001b[39m\u001b[38;5;124m\"\u001b[39m)\n\u001b[0;32m      9\u001b[0m \u001b[38;5;28mprint\u001b[39m(result)\n",
      "File \u001b[1;32mC:\\ProgramData\\anaconda3\\Lib\\site-packages\\numpy\\lib\\_function_base_impl.py:5692\u001b[0m, in \u001b[0;36mappend\u001b[1;34m(arr, values, axis)\u001b[0m\n\u001b[0;32m   5690\u001b[0m     values \u001b[38;5;241m=\u001b[39m ravel(values)\n\u001b[0;32m   5691\u001b[0m     axis \u001b[38;5;241m=\u001b[39m arr\u001b[38;5;241m.\u001b[39mndim\u001b[38;5;241m-\u001b[39m\u001b[38;5;241m1\u001b[39m\n\u001b[1;32m-> 5692\u001b[0m \u001b[38;5;28;01mreturn\u001b[39;00m concatenate((arr, values), axis\u001b[38;5;241m=\u001b[39maxis)\n",
      "\u001b[1;31mValueError\u001b[0m: all the input array dimensions except for the concatenation axis must match exactly, but along dimension 1, the array at index 0 has size 3 and the array at index 1 has size 4"
     ]
    }
   ],
   "source": [
    "\n",
    "\n",
    "# Define a 2D array\n",
    "arr = np.array([[1, 2, 3], [4, 5, 6]])\n",
    "print(\"\\nOriginal 2D Array:\")\n",
    "print(arr)\n",
    "\n",
    "# Append a new row\n",
    "result = np.append(arr, [[7, 8, 9, 10]], axis=0)\n",
    "print(\"\\nArray after appending a new row [7, 8, 9, 10] along axis 0:\")\n",
    "print(result)\n"
   ]
  },
  {
   "cell_type": "code",
   "execution_count": 6,
   "id": "024c370d",
   "metadata": {},
   "outputs": [
    {
     "name": "stdout",
     "output_type": "stream",
     "text": [
      "\n",
      "Original 2D Array:\n",
      "[[1 2 3]\n",
      " [4 5 6]]\n",
      "\n",
      "Array after appending a new column [7, 8] along axis 1:\n",
      "[[1 2 3 7]\n",
      " [4 5 6 8]]\n"
     ]
    }
   ],
   "source": [
    "# Append Columns to a 2D Array (Along Axis 1)\n",
    "\n",
    "arr = np.array([[1, 2, 3], [4, 5, 6]])\n",
    "print(\"\\nOriginal 2D Array:\")\n",
    "print(arr)\n",
    "\n",
    "# Append a new column\n",
    "result = np.append(arr, [[7], [8]], axis=1)\n",
    "print(\"\\nArray after appending a new column [7, 8] along axis 1:\")\n",
    "print(result)"
   ]
  },
  {
   "cell_type": "code",
   "execution_count": 8,
   "id": "b065c424",
   "metadata": {},
   "outputs": [
    {
     "name": "stdout",
     "output_type": "stream",
     "text": [
      "\n",
      "Original 2D Array:\n",
      "[[1 2 3]\n",
      " [4 5 6]]\n",
      "\n",
      "Array after appending [7, 8, 9] with axis=None (flattened):\n",
      "[1 2 3 4 5 6 7 8 9]\n"
     ]
    }
   ],
   "source": [
    "# Flatten and Append to a 2D Array\n",
    "\n",
    "arr = np.array([[1, 2, 3], [4, 5, 6]])\n",
    "print(\"\\nOriginal 2D Array:\")\n",
    "print(arr)\n",
    "\n",
    "# Append with axis=None (flattened)\n",
    "result = np.append(arr, [7, 8, 9], axis=None)\n",
    "print(\"\\nArray after appending [7, 8, 9] with axis=None (flattened):\")\n",
    "print(result)\n"
   ]
  },
  {
   "cell_type": "code",
   "execution_count": 9,
   "id": "c36f10f3",
   "metadata": {},
   "outputs": [
    {
     "name": "stdout",
     "output_type": "stream",
     "text": [
      "\n",
      "Original 2D Array:\n",
      "[[1 2 3]\n",
      " [4 5 6]]\n",
      "\n",
      "Error encountered: all the input arrays must have same number of dimensions, but the array at index 0 has 2 dimension(s) and the array at index 1 has 1 dimension(s)\n"
     ]
    }
   ],
   "source": [
    "# Handling Shape Mismatches\n",
    "\n",
    "arr = np.array([[1, 2, 3], [4, 5, 6]])\n",
    "print(\"\\nOriginal 2D Array:\")\n",
    "print(arr)\n",
    "\n",
    "\n",
    "try:\n",
    "    # Attempt to append a 1D array as a row in a 2D array\n",
    "    result = np.append(arr, [7, 8, 9], axis=0)\n",
    "except ValueError as e:\n",
    "    print(\"\\nError encountered:\", e)\n"
   ]
  },
  {
   "cell_type": "code",
   "execution_count": null,
   "id": "7fad8ea1",
   "metadata": {},
   "outputs": [],
   "source": []
  },
  {
   "cell_type": "code",
   "execution_count": null,
   "id": "727be1c1",
   "metadata": {},
   "outputs": [],
   "source": []
  },
  {
   "cell_type": "code",
   "execution_count": null,
   "id": "5127fbe1",
   "metadata": {},
   "outputs": [],
   "source": []
  },
  {
   "cell_type": "code",
   "execution_count": null,
   "id": "4f93a8e8",
   "metadata": {},
   "outputs": [],
   "source": []
  },
  {
   "cell_type": "code",
   "execution_count": 10,
   "id": "b8486339",
   "metadata": {},
   "outputs": [
    {
     "name": "stdout",
     "output_type": "stream",
     "text": [
      "Original Array:\n",
      "[1 2 3]\n",
      "Original Shape: (3,)\n",
      "\n",
      "Resized Array:\n",
      "[1 2 3 1 2 3]\n",
      "Resized Shape: (6,)\n"
     ]
    }
   ],
   "source": [
    "# Resize a 1D Array to a Larger Size\n",
    "\n",
    "import numpy as np\n",
    "\n",
    "# Define a 1D array\n",
    "arr = np.array([1, 2, 3])\n",
    "print(\"Original Array:\")\n",
    "print(arr)\n",
    "print(\"Original Shape:\", arr.shape)\n",
    "\n",
    "# Resize to a larger shape\n",
    "result = np.resize(arr, 6)\n",
    "print(\"\\nResized Array:\")\n",
    "print(result)\n",
    "print(\"Resized Shape:\", result.shape)"
   ]
  },
  {
   "cell_type": "code",
   "execution_count": 11,
   "id": "b7661544",
   "metadata": {},
   "outputs": [
    {
     "name": "stdout",
     "output_type": "stream",
     "text": [
      "Original 2D Array:\n",
      "[[1 2]\n",
      " [3 4]]\n",
      "Original Shape: (2, 2)\n",
      "\n",
      "Resized Array:\n",
      "[[1 2 3 4]\n",
      " [1 2 3 4]]\n",
      "Resized Shape: (2, 4)\n",
      "\n",
      "Resized Array:\n",
      "[[1 2]\n",
      " [3 4]\n",
      " [1 2]\n",
      " [3 4]]\n",
      "Resized Shape: (4, 2)\n"
     ]
    }
   ],
   "source": [
    "#  Resize a 2D Array to Add Columns\n",
    "# Define a 2D array\n",
    "arr = np.array([[1, 2], [3, 4]])\n",
    "print(\"Original 2D Array:\")\n",
    "print(arr)\n",
    "print(\"Original Shape:\", arr.shape)\n",
    "\n",
    "# Resize to a new shape with additional columns\n",
    "result = np.resize(arr, (2, 4))\n",
    "print(\"\\nResized Array:\")\n",
    "print(result)\n",
    "print(\"Resized Shape:\", result.shape)\n",
    "\n",
    "# Resize to a new shape with additional rows\n",
    "result = np.resize(arr, (4, 2))\n",
    "print(\"\\nResized Array:\")\n",
    "print(result)\n",
    "print(\"Resized Shape:\", result.shape)"
   ]
  },
  {
   "cell_type": "code",
   "execution_count": 12,
   "id": "09989c3b",
   "metadata": {},
   "outputs": [
    {
     "name": "stdout",
     "output_type": "stream",
     "text": [
      "Original 2D Array:\n",
      "[[1 2]\n",
      " [3 4]]\n",
      "Original Shape: (2, 2)\n",
      "\n",
      "Resized Array:\n",
      "[[1 2 3]]\n",
      "Resized Shape: (1, 3)\n"
     ]
    }
   ],
   "source": [
    "# Resize to a Smaller Shape\n",
    "\n",
    "print(\"Original 2D Array:\")\n",
    "print(arr)\n",
    "print(\"Original Shape:\", arr.shape)\n",
    "\n",
    "# Resize to a smaller shape\n",
    "result = np.resize(arr, (1, 3))\n",
    "print(\"\\nResized Array:\")\n",
    "print(result)\n",
    "print(\"Resized Shape:\", result.shape)\n"
   ]
  },
  {
   "cell_type": "code",
   "execution_count": 13,
   "id": "c9f9ea1c",
   "metadata": {},
   "outputs": [
    {
     "name": "stdout",
     "output_type": "stream",
     "text": [
      "Original 2D Array:\n",
      "[[1 2]\n",
      " [3 4]]\n",
      "Original Shape: (2, 2)\n",
      "\n",
      "Resized Array:\n",
      "[[1 2]\n",
      " [3 4]\n",
      " [1 2]]\n",
      "Resized Shape: (3, 2)\n"
     ]
    }
   ],
   "source": [
    "#  Resizing a 2D Array to a Larger Shape with More Rows\n",
    "\n",
    "print(\"Original 2D Array:\")\n",
    "print(arr)\n",
    "print(\"Original Shape:\", arr.shape)\n",
    "\n",
    "# Resize with additional rows\n",
    "result = np.resize(arr, (3, 2))\n",
    "print(\"\\nResized Array:\")\n",
    "print(result)\n",
    "print(\"Resized Shape:\", result.shape)\n"
   ]
  },
  {
   "cell_type": "code",
   "execution_count": 14,
   "id": "022d014f",
   "metadata": {},
   "outputs": [
    {
     "name": "stdout",
     "output_type": "stream",
     "text": [
      "Original 2D Array:\n",
      "[[1 2]\n",
      " [3 4]]\n",
      "Original Shape: (2, 2)\n",
      "\n",
      "Resized Array (Single Row):\n",
      "[[1 2 3 4 1 2]]\n",
      "Resized Shape: (1, 6)\n"
     ]
    }
   ],
   "source": [
    "# Resize to a single row with more elements\n",
    "\n",
    "print(\"Original 2D Array:\")\n",
    "print(arr)\n",
    "print(\"Original Shape:\", arr.shape)\n",
    "\n",
    "result = np.resize(arr, (1, 6))\n",
    "print(\"\\nResized Array (Single Row):\")\n",
    "print(result)\n",
    "print(\"Resized Shape:\", result.shape)\n"
   ]
  },
  {
   "cell_type": "code",
   "execution_count": 15,
   "id": "10bffdcf",
   "metadata": {},
   "outputs": [
    {
     "name": "stdout",
     "output_type": "stream",
     "text": [
      "Original 2D Array:\n",
      "[[1 2]\n",
      " [3 4]]\n",
      "Original Shape: (2, 2)\n",
      "\n",
      "Resized Array (Single Column):\n",
      "[[1]\n",
      " [2]\n",
      " [3]\n",
      " [4]\n",
      " [1]\n",
      " [2]]\n",
      "Resized Shape: (6, 1)\n"
     ]
    }
   ],
   "source": [
    "# Resize to a single column with more elements\n",
    "\n",
    "print(\"Original 2D Array:\")\n",
    "print(arr)\n",
    "print(\"Original Shape:\", arr.shape)\n",
    "\n",
    "result = np.resize(arr, (6, 1))\n",
    "print(\"\\nResized Array (Single Column):\")\n",
    "print(result)\n",
    "print(\"Resized Shape:\", result.shape)"
   ]
  },
  {
   "cell_type": "code",
   "execution_count": null,
   "id": "44d2291c",
   "metadata": {},
   "outputs": [],
   "source": []
  },
  {
   "cell_type": "code",
   "execution_count": null,
   "id": "2087fd16",
   "metadata": {},
   "outputs": [],
   "source": []
  },
  {
   "cell_type": "code",
   "execution_count": null,
   "id": "d37063c4",
   "metadata": {},
   "outputs": [],
   "source": []
  },
  {
   "cell_type": "code",
   "execution_count": null,
   "id": "dcfc0cc8",
   "metadata": {},
   "outputs": [],
   "source": []
  }
 ],
 "metadata": {
  "kernelspec": {
   "display_name": "Python 3 (ipykernel)",
   "language": "python",
   "name": "python3"
  },
  "language_info": {
   "codemirror_mode": {
    "name": "ipython",
    "version": 3
   },
   "file_extension": ".py",
   "mimetype": "text/x-python",
   "name": "python",
   "nbconvert_exporter": "python",
   "pygments_lexer": "ipython3",
   "version": "3.11.5"
  }
 },
 "nbformat": 4,
 "nbformat_minor": 5
}
