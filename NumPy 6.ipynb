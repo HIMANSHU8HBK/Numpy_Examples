{
 "cells": [
  {
   "cell_type": "code",
   "execution_count": 1,
   "id": "aa39e7bc",
   "metadata": {},
   "outputs": [],
   "source": [
    "import numpy as np"
   ]
  },
  {
   "cell_type": "code",
   "execution_count": null,
   "id": "13322760",
   "metadata": {},
   "outputs": [],
   "source": []
  },
  {
   "cell_type": "code",
   "execution_count": 2,
   "id": "e5828a5b",
   "metadata": {},
   "outputs": [],
   "source": [
    "# Creating a 1D array\n",
    "arr = np.array([1, 2, 3, 4, 5, 6])"
   ]
  },
  {
   "cell_type": "code",
   "execution_count": 3,
   "id": "f69dd100",
   "metadata": {},
   "outputs": [
    {
     "data": {
      "text/plain": [
       "array([1, 2, 3, 4, 5, 6])"
      ]
     },
     "execution_count": 3,
     "metadata": {},
     "output_type": "execute_result"
    }
   ],
   "source": [
    "arr"
   ]
  },
  {
   "cell_type": "code",
   "execution_count": 4,
   "id": "2cdae791",
   "metadata": {},
   "outputs": [
    {
     "name": "stdout",
     "output_type": "stream",
     "text": [
      "[1 2 3 4 5 6]\n"
     ]
    }
   ],
   "source": [
    "print(arr)"
   ]
  },
  {
   "cell_type": "code",
   "execution_count": 5,
   "id": "9c86c0c8",
   "metadata": {},
   "outputs": [
    {
     "name": "stdout",
     "output_type": "stream",
     "text": [
      "[1, 2, 3, 4, 5, 6]\n"
     ]
    }
   ],
   "source": [
    "print(list(arr))"
   ]
  },
  {
   "cell_type": "code",
   "execution_count": null,
   "id": "80bf4b78",
   "metadata": {},
   "outputs": [],
   "source": []
  },
  {
   "cell_type": "markdown",
   "id": "81277425",
   "metadata": {},
   "source": [
    "# numpy.ravel(a, order='C')"
   ]
  },
  {
   "cell_type": "code",
   "execution_count": 8,
   "id": "9c5f4b19",
   "metadata": {},
   "outputs": [
    {
     "name": "stdout",
     "output_type": "stream",
     "text": [
      "Original 2D Array:\n",
      "[[1 2]\n",
      " [3 4]\n",
      " [5 6]]\n",
      "\n",
      "\n",
      "Flattened Array:\n",
      "[1 2 3 4 5 6]\n"
     ]
    }
   ],
   "source": [
    "# Create a 2D array\n",
    "arr = np.array([[1, 2], [3, 4], [5, 6]])\n",
    "\n",
    "# Reshape it into a 1D array (flatten it)\n",
    "flattened_arr = arr.reshape(-1)\n",
    "\n",
    "print(\"Original 2D Array:\")\n",
    "print(arr)\n",
    "print(\"\\n\\nFlattened Array:\")\n",
    "print(flattened_arr)"
   ]
  },
  {
   "cell_type": "code",
   "execution_count": null,
   "id": "acdd267e",
   "metadata": {},
   "outputs": [],
   "source": []
  },
  {
   "cell_type": "markdown",
   "id": "64abd83f",
   "metadata": {},
   "source": [
    "# numpy.ravel(a, order='C')\n"
   ]
  },
  {
   "cell_type": "code",
   "execution_count": 9,
   "id": "d7dcc43d",
   "metadata": {},
   "outputs": [
    {
     "name": "stdout",
     "output_type": "stream",
     "text": [
      "[[1 2 3]\n",
      " [4 5 6]] \n",
      "\n",
      "\n",
      "[1 2 3 4 5 6]\n"
     ]
    }
   ],
   "source": [
    "import numpy as np\n",
    "\n",
    "# Creating a 2D array\n",
    "arr = np.array([[1, 2, 3], [4, 5, 6]])\n",
    "\n",
    "print(arr,\"\\n\\n\")\n",
    "\n",
    "# Flatten the array using ravel()\n",
    "flattened = np.ravel(arr)\n",
    "\n",
    "print(flattened)"
   ]
  },
  {
   "cell_type": "code",
   "execution_count": 10,
   "id": "418f8179",
   "metadata": {},
   "outputs": [
    {
     "name": "stdout",
     "output_type": "stream",
     "text": [
      "[1 4 2 5 3 6]\n"
     ]
    }
   ],
   "source": [
    "# Flatten the array column-wise using ravel()\n",
    "flattened_f = np.ravel(arr, order='F')\n",
    "print(flattened_f)\n"
   ]
  },
  {
   "cell_type": "code",
   "execution_count": 11,
   "id": "7372ea87",
   "metadata": {},
   "outputs": [
    {
     "name": "stdout",
     "output_type": "stream",
     "text": [
      "[1 2 3 4 5 6]\n",
      "[1 2 3 4 5 6]\n"
     ]
    }
   ],
   "source": [
    "# Using 'A' and 'K' orders\n",
    "flattened_a = np.ravel(arr, order='A')\n",
    "flattened_k = np.ravel(arr, order='K')\n",
    "\n",
    "print(flattened_a)\n",
    "print(flattened_k)\n"
   ]
  },
  {
   "cell_type": "code",
   "execution_count": 12,
   "id": "62eea509",
   "metadata": {},
   "outputs": [
    {
     "data": {
      "text/plain": [
       "array([[1, 4],\n",
       "       [2, 5],\n",
       "       [3, 6]])"
      ]
     },
     "execution_count": 12,
     "metadata": {},
     "output_type": "execute_result"
    }
   ],
   "source": [
    "# Creating a transposed array\n",
    "arr_transposed = arr.T\n",
    "arr_transposed"
   ]
  },
  {
   "cell_type": "code",
   "execution_count": 17,
   "id": "f68f7188",
   "metadata": {},
   "outputs": [
    {
     "name": "stdout",
     "output_type": "stream",
     "text": [
      "[1 2 3 4 5 6]\n"
     ]
    }
   ],
   "source": [
    "# Flattening the transposed array -- C F A K\n",
    "flattened_transposed = np.ravel(arr_transposed, order='K')\n",
    "print(flattened_transposed)"
   ]
  },
  {
   "cell_type": "code",
   "execution_count": null,
   "id": "e5f28854",
   "metadata": {},
   "outputs": [],
   "source": []
  },
  {
   "cell_type": "markdown",
   "id": "6f872a33",
   "metadata": {},
   "source": [
    "# numpy.ndarray.flat\n"
   ]
  },
  {
   "cell_type": "code",
   "execution_count": 19,
   "id": "381293d4",
   "metadata": {},
   "outputs": [
    {
     "name": "stdout",
     "output_type": "stream",
     "text": [
      "[[1 2 3]\n",
      " [4 5 6]] \n",
      "\n",
      "\n",
      "1\n",
      "2\n",
      "3\n",
      "4\n",
      "5\n",
      "6\n"
     ]
    }
   ],
   "source": [
    "import numpy as np\n",
    "\n",
    "# Creating a 2D array\n",
    "arr = np.array([[1, 2, 3], [4, 5, 6]])\n",
    "\n",
    "print(arr,\"\\n\\n\")\n",
    "# Using ndarray.flat to iterate over the array elements\n",
    "for element in arr.flat:\n",
    "    print(element)\n"
   ]
  },
  {
   "cell_type": "code",
   "execution_count": 20,
   "id": "81e9a63a",
   "metadata": {},
   "outputs": [
    {
     "name": "stdout",
     "output_type": "stream",
     "text": [
      "3\n"
     ]
    }
   ],
   "source": [
    "# Accessing the third element using flat (zero-based indexing)\n",
    "third_element = arr.flat[2]\n",
    "print(third_element)\n"
   ]
  },
  {
   "cell_type": "code",
   "execution_count": 21,
   "id": "4c1b9044",
   "metadata": {},
   "outputs": [
    {
     "name": "stdout",
     "output_type": "stream",
     "text": [
      "[[ 1  2 10]\n",
      " [ 4  5  6]]\n"
     ]
    }
   ],
   "source": [
    "# Modifying elements using flat\n",
    "arr.flat[2] = 10\n",
    "print(arr)\n"
   ]
  },
  {
   "cell_type": "code",
   "execution_count": 23,
   "id": "32e22f88",
   "metadata": {},
   "outputs": [
    {
     "name": "stdout",
     "output_type": "stream",
     "text": [
      "[[ 4  8 40]\n",
      " [16 20 24]]\n"
     ]
    }
   ],
   "source": [
    "# Using flat to multiply each element by 2\n",
    "for i in range(arr.size):\n",
    "    arr.flat[i] *= 2\n",
    "\n",
    "print(arr)\n"
   ]
  },
  {
   "cell_type": "code",
   "execution_count": 24,
   "id": "d4a35a89",
   "metadata": {},
   "outputs": [
    {
     "name": "stdout",
     "output_type": "stream",
     "text": [
      "[4, 8, 40, 16, 20, 24]\n",
      "[ 4  8 40 16 20 24]\n"
     ]
    }
   ],
   "source": [
    "# Converting the flat iterator to a list\n",
    "flat_list = list(arr.flat)\n",
    "print(flat_list)\n",
    "\n",
    "# Converting to a NumPy array\n",
    "flat_array = np.array(arr.flat)\n",
    "print(flat_array)\n"
   ]
  },
  {
   "cell_type": "code",
   "execution_count": null,
   "id": "8921a3d7",
   "metadata": {},
   "outputs": [],
   "source": []
  },
  {
   "cell_type": "markdown",
   "id": "2791a8ba",
   "metadata": {},
   "source": [
    "# numpy.ndarray.flatten(order='C')\n"
   ]
  },
  {
   "cell_type": "code",
   "execution_count": 27,
   "id": "e3a893a7",
   "metadata": {},
   "outputs": [
    {
     "name": "stdout",
     "output_type": "stream",
     "text": [
      "[[1 2 3]\n",
      " [4 5 6]] \n",
      "\n",
      "\n",
      "[1 2 3 4 5 6]\n"
     ]
    }
   ],
   "source": [
    "import numpy as np\n",
    "\n",
    "# Creating a 2D array\n",
    "arr = np.array([[1, 2, 3], [4, 5, 6]])\n",
    "\n",
    "print(arr,\"\\n\\n\")\n",
    "# Flattening the array using flatten()\n",
    "flattened = arr.flatten()\n",
    "print(flattened)\n"
   ]
  },
  {
   "cell_type": "code",
   "execution_count": 28,
   "id": "627db0e8",
   "metadata": {},
   "outputs": [
    {
     "name": "stdout",
     "output_type": "stream",
     "text": [
      "[1 4 2 5 3 6]\n"
     ]
    }
   ],
   "source": [
    "# Flatten the array column-wise using flatten()\n",
    "flattened_f = arr.flatten(order='F')\n",
    "print(flattened_f)\n"
   ]
  },
  {
   "cell_type": "code",
   "execution_count": 29,
   "id": "f11392cd",
   "metadata": {},
   "outputs": [
    {
     "name": "stdout",
     "output_type": "stream",
     "text": [
      "[1 2 3 4 5 6]\n",
      "[1 2 3 4 5 6]\n"
     ]
    }
   ],
   "source": [
    "# Using 'A' and 'K' orders\n",
    "flattened_a = arr.flatten(order='A')\n",
    "flattened_k = arr.flatten(order='K')\n",
    "\n",
    "print(flattened_a)\n",
    "print(flattened_k)\n"
   ]
  },
  {
   "cell_type": "code",
   "execution_count": 30,
   "id": "b59a94f5",
   "metadata": {},
   "outputs": [
    {
     "name": "stdout",
     "output_type": "stream",
     "text": [
      "[1 2 3 4 5 6 7 8]\n"
     ]
    }
   ],
   "source": [
    "# Creating a 3D array\n",
    "arr_3d = np.array([[[1, 2], [3, 4]], [[5, 6], [7, 8]]])\n",
    "\n",
    "# Flattening the 3D array\n",
    "flattened_3d = arr_3d.flatten()\n",
    "print(flattened_3d)\n"
   ]
  },
  {
   "cell_type": "code",
   "execution_count": 31,
   "id": "a2c46ec7",
   "metadata": {},
   "outputs": [
    {
     "name": "stdout",
     "output_type": "stream",
     "text": [
      "[ 1  2 10  4  5  6] \n",
      "\n",
      "\n",
      "[[1 2 3]\n",
      " [4 5 6]]\n"
     ]
    }
   ],
   "source": [
    "# Modifying the flattened array\n",
    "flattened[2] = 10\n",
    "\n",
    "print(flattened,\"\\n\\n\")\n",
    "\n",
    "print(arr)"
   ]
  },
  {
   "cell_type": "code",
   "execution_count": null,
   "id": "b30057f5",
   "metadata": {},
   "outputs": [],
   "source": []
  }
 ],
 "metadata": {
  "kernelspec": {
   "display_name": "Python 3 (ipykernel)",
   "language": "python",
   "name": "python3"
  },
  "language_info": {
   "codemirror_mode": {
    "name": "ipython",
    "version": 3
   },
   "file_extension": ".py",
   "mimetype": "text/x-python",
   "name": "python",
   "nbconvert_exporter": "python",
   "pygments_lexer": "ipython3",
   "version": "3.11.5"
  }
 },
 "nbformat": 4,
 "nbformat_minor": 5
}
