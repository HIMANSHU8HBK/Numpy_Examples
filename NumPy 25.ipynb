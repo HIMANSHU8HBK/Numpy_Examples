{
 "cells": [
  {
   "cell_type": "code",
   "execution_count": 4,
   "id": "91cd6368",
   "metadata": {},
   "outputs": [
    {
     "name": "stdout",
     "output_type": "stream",
     "text": [
      "[11]\n"
     ]
    }
   ],
   "source": [
    "# Finding a Word in a Sentence\n",
    "\n",
    "import numpy as np\n",
    "\n",
    "sentence = np.array([\"NumPy is a Python library\"])\n",
    "index = np.strings.find(sentence, \"Python\")\n",
    "print(index)"
   ]
  },
  {
   "cell_type": "code",
   "execution_count": 5,
   "id": "143633cf",
   "metadata": {},
   "outputs": [
    {
     "name": "stdout",
     "output_type": "stream",
     "text": [
      "[-1]\n"
     ]
    }
   ],
   "source": [
    "#  Searching for a Non-Existent Substring\n",
    "\n",
    "text = np.array([\"Data Science with Python\"])\n",
    "index = np.strings.find(text, \"Java\")\n",
    "print(index)"
   ]
  },
  {
   "cell_type": "code",
   "execution_count": 9,
   "id": "c6fb182a",
   "metadata": {},
   "outputs": [
    {
     "name": "stdout",
     "output_type": "stream",
     "text": [
      "[20]\n"
     ]
    }
   ],
   "source": [
    "# Searching with start and end Parameters\n",
    "\n",
    "text = np.array([\"is Machine Learning is fun\"])\n",
    "index = np.strings.find(text, \"is\", start=5, end=30)\n",
    "print(index)"
   ]
  },
  {
   "cell_type": "code",
   "execution_count": 10,
   "id": "f1624ab2",
   "metadata": {},
   "outputs": [
    {
     "name": "stdout",
     "output_type": "stream",
     "text": [
      "[ 7 -1 17]\n"
     ]
    }
   ],
   "source": [
    "# Finding Words in a List of Sentences\n",
    "\n",
    "sentences = np.array([\n",
    "    \"Python is great for Data Science\",\n",
    "    \"NumPy makes array operations easy\",\n",
    "    \"Machine Learning is awesome\"\n",
    "])\n",
    "\n",
    "indices = np.strings.find(sentences, \"is\")\n",
    "print(indices)"
   ]
  },
  {
   "cell_type": "code",
   "execution_count": 11,
   "id": "8ce00123",
   "metadata": {},
   "outputs": [
    {
     "name": "stdout",
     "output_type": "stream",
     "text": [
      "[ 0 -1]\n"
     ]
    }
   ],
   "source": [
    "# Case Sensitivity in Search\n",
    "\n",
    "text = np.array([\"Python is powerful\", \"python is easy\"])\n",
    "index = np.strings.find(text, \"Python\")\n",
    "print(index)"
   ]
  },
  {
   "cell_type": "code",
   "execution_count": 12,
   "id": "c87ddcb9",
   "metadata": {},
   "outputs": [
    {
     "name": "stdout",
     "output_type": "stream",
     "text": [
      "First Occurrence: [0]\n",
      "Total Count: [2]\n"
     ]
    }
   ],
   "source": [
    "# Finding Multiple Occurrences\n",
    "\n",
    "text = np.array([\"Python is great. Python is fun!\"])\n",
    "python_first_occurrence = np.strings.find(text, \"Python\")\n",
    "\n",
    "python_count = np.strings.count(text, \"Python\")\n",
    "\n",
    "print(\"First Occurrence:\", python_first_occurrence)\n",
    "print(\"Total Count:\", python_count)"
   ]
  },
  {
   "cell_type": "code",
   "execution_count": null,
   "id": "b9a2f3ec",
   "metadata": {},
   "outputs": [],
   "source": []
  },
  {
   "cell_type": "code",
   "execution_count": 13,
   "id": "c7bd76e2",
   "metadata": {},
   "outputs": [
    {
     "name": "stdout",
     "output_type": "stream",
     "text": [
      "[9]\n"
     ]
    }
   ],
   "source": [
    "import numpy as np\n",
    "\n",
    "text = np.array([\"Computer Science is fascinating\"])\n",
    "index = np.strings.index(text, \"Science\")\n",
    "print(index)"
   ]
  },
  {
   "cell_type": "code",
   "execution_count": 14,
   "id": "25b493fe",
   "metadata": {},
   "outputs": [
    {
     "ename": "ValueError",
     "evalue": "substring not found",
     "output_type": "error",
     "traceback": [
      "\u001b[1;31m---------------------------------------------------------------------------\u001b[0m",
      "\u001b[1;31mValueError\u001b[0m                                Traceback (most recent call last)",
      "Cell \u001b[1;32mIn[14], line 2\u001b[0m\n\u001b[0;32m      1\u001b[0m text \u001b[38;5;241m=\u001b[39m np\u001b[38;5;241m.\u001b[39marray([\u001b[38;5;124m\"\u001b[39m\u001b[38;5;124mData Science is fun\u001b[39m\u001b[38;5;124m\"\u001b[39m])\n\u001b[1;32m----> 2\u001b[0m index \u001b[38;5;241m=\u001b[39m np\u001b[38;5;241m.\u001b[39mstrings\u001b[38;5;241m.\u001b[39mindex(text, \u001b[38;5;124m\"\u001b[39m\u001b[38;5;124mMachine\u001b[39m\u001b[38;5;124m\"\u001b[39m)\n",
      "File \u001b[1;32mC:\\ProgramData\\anaconda3\\Lib\\site-packages\\numpy\\_core\\strings.py:327\u001b[0m, in \u001b[0;36mindex\u001b[1;34m(a, sub, start, end)\u001b[0m\n\u001b[0;32m    298\u001b[0m \u001b[38;5;250m\u001b[39m\u001b[38;5;124;03m\"\"\"\u001b[39;00m\n\u001b[0;32m    299\u001b[0m \u001b[38;5;124;03mLike `find`, but raises :exc:`ValueError` when the substring is not found.\u001b[39;00m\n\u001b[0;32m    300\u001b[0m \n\u001b[1;32m   (...)\u001b[0m\n\u001b[0;32m    324\u001b[0m \n\u001b[0;32m    325\u001b[0m \u001b[38;5;124;03m\"\"\"\u001b[39;00m\n\u001b[0;32m    326\u001b[0m end \u001b[38;5;241m=\u001b[39m end \u001b[38;5;28;01mif\u001b[39;00m end \u001b[38;5;129;01mis\u001b[39;00m \u001b[38;5;129;01mnot\u001b[39;00m \u001b[38;5;28;01mNone\u001b[39;00m \u001b[38;5;28;01melse\u001b[39;00m MAX\n\u001b[1;32m--> 327\u001b[0m \u001b[38;5;28;01mreturn\u001b[39;00m _index_ufunc(a, sub, start, end)\n",
      "\u001b[1;31mValueError\u001b[0m: substring not found"
     ]
    }
   ],
   "source": [
    "text = np.array([\"Data Science is fun\"])\n",
    "index = np.strings.index(text, \"Machine\")"
   ]
  },
  {
   "cell_type": "code",
   "execution_count": 15,
   "id": "2c1e74f8",
   "metadata": {},
   "outputs": [
    {
     "name": "stdout",
     "output_type": "stream",
     "text": [
      "[24]\n"
     ]
    }
   ],
   "source": [
    "text = np.array([\"Artificial Intelligence is amazing\"])\n",
    "index = np.strings.index(text, \"is\", start=10, end=30)\n",
    "print(index)"
   ]
  },
  {
   "cell_type": "code",
   "execution_count": null,
   "id": "afd9c56d",
   "metadata": {},
   "outputs": [],
   "source": []
  },
  {
   "cell_type": "code",
   "execution_count": null,
   "id": "8a1ed46a",
   "metadata": {},
   "outputs": [],
   "source": []
  }
 ],
 "metadata": {
  "kernelspec": {
   "display_name": "Python 3 (ipykernel)",
   "language": "python",
   "name": "python3"
  },
  "language_info": {
   "codemirror_mode": {
    "name": "ipython",
    "version": 3
   },
   "file_extension": ".py",
   "mimetype": "text/x-python",
   "name": "python",
   "nbconvert_exporter": "python",
   "pygments_lexer": "ipython3",
   "version": "3.11.5"
  }
 },
 "nbformat": 4,
 "nbformat_minor": 5
}
