{
 "cells": [
  {
   "cell_type": "markdown",
   "id": "d3eb25f1",
   "metadata": {},
   "source": [
    "# Euler’s number (ℯ) is approximately 2.718, and it’s the base of natural logarithms. It’s widely used in exponential growth, probability theory, and calculus.\n",
    "\n",
    "Used in finance and biology for compound interest and bacterial growth."
   ]
  },
  {
   "cell_type": "code",
   "execution_count": 1,
   "id": "cb4d3140",
   "metadata": {},
   "outputs": [
    {
     "name": "stdout",
     "output_type": "stream",
     "text": [
      "Future population after 10 years: 1648.72\n"
     ]
    }
   ],
   "source": [
    "# Calculating Exponential Growth\n",
    "\n",
    "import numpy as np\n",
    "\n",
    "# Population Growth Formula: P(t) = P0 * e^(rt)\n",
    "P0 = 1000  # Initial population\n",
    "r = 0.05   # Growth rate\n",
    "t = 10     # Time in years\n",
    "\n",
    "future_population = P0 * np.e ** (r * t)\n",
    "\n",
    "print(f\"Future population after {t} years: {future_population:.2f}\")"
   ]
  },
  {
   "cell_type": "code",
   "execution_count": 5,
   "id": "b536690c",
   "metadata": {},
   "outputs": [
    {
     "name": "stdout",
     "output_type": "stream",
     "text": [
      "[2.47179601e-03 3.34521213e-04 9.97193683e-01]\n"
     ]
    }
   ],
   "source": [
    "# Probability & Machine Learning (Softmax Activation)\n",
    "\n",
    "scores = np.array([9.0, 7.0, 15.0])\n",
    "\n",
    "softmax = np.exp(scores) / np.sum(np.exp(scores))\n",
    "\n",
    "print(softmax)"
   ]
  },
  {
   "cell_type": "code",
   "execution_count": 6,
   "id": "a8c0218c",
   "metadata": {},
   "outputs": [
    {
     "data": {
      "text/plain": [
       "np.float64(1.0)"
      ]
     },
     "execution_count": 6,
     "metadata": {},
     "output_type": "execute_result"
    }
   ],
   "source": [
    "np.sum(softmax)"
   ]
  },
  {
   "cell_type": "code",
   "execution_count": null,
   "id": "739cf4a2",
   "metadata": {},
   "outputs": [],
   "source": []
  },
  {
   "cell_type": "markdown",
   "id": "a9424a0d",
   "metadata": {},
   "source": [
    "# Euler's constant (γ ≈ 0.577) appears in calculus, number theory, and harmonic series."
   ]
  },
  {
   "cell_type": "code",
   "execution_count": 7,
   "id": "4ac236a9",
   "metadata": {},
   "outputs": [
    {
     "data": {
      "text/plain": [
       "0.5772156649015329"
      ]
     },
     "execution_count": 7,
     "metadata": {},
     "output_type": "execute_result"
    }
   ],
   "source": [
    "np.euler_gamma"
   ]
  },
  {
   "cell_type": "code",
   "execution_count": null,
   "id": "22c58560",
   "metadata": {},
   "outputs": [],
   "source": []
  },
  {
   "cell_type": "markdown",
   "id": "898d3bb0",
   "metadata": {},
   "source": [
    "# Infinity Representation (∞)\n",
    "numpy.inf represents positive infinity, commonly used in limits, optimization, and numerical comparisons."
   ]
  },
  {
   "cell_type": "code",
   "execution_count": 8,
   "id": "fe89a8b0",
   "metadata": {},
   "outputs": [
    {
     "name": "stdout",
     "output_type": "stream",
     "text": [
      "[ 1.          0.5                inf -0.33333333]\n"
     ]
    },
    {
     "name": "stderr",
     "output_type": "stream",
     "text": [
      "C:\\Users\\kautk\\AppData\\Local\\Temp\\ipykernel_36652\\2186341755.py:5: RuntimeWarning: divide by zero encountered in divide\n",
      "  result = 1 / x\n"
     ]
    }
   ],
   "source": [
    "# Handling Division by Zero\n",
    "\n",
    "x = np.array([1, 2, 0, -3])\n",
    "\n",
    "result = 1 / x\n",
    "\n",
    "print(result)  # Output includes 'inf' where division by zero occurs\n",
    "\n",
    "# Prevents crashes in numerical computations."
   ]
  },
  {
   "cell_type": "code",
   "execution_count": 10,
   "id": "4fd7aa73",
   "metadata": {},
   "outputs": [
    {
     "data": {
      "text/plain": [
       "True"
      ]
     },
     "execution_count": 10,
     "metadata": {},
     "output_type": "execute_result"
    }
   ],
   "source": [
    "np.inf == np.inf"
   ]
  },
  {
   "cell_type": "code",
   "execution_count": 11,
   "id": "98f7371e",
   "metadata": {},
   "outputs": [
    {
     "name": "stdout",
     "output_type": "stream",
     "text": [
      "[False False False  True]\n"
     ]
    }
   ],
   "source": [
    "# Comparing Values\n",
    "\n",
    "x = np.array([10, 50, 100, np.inf])\n",
    "\n",
    "print(np.isinf(x))  # Identifies infinite values\n",
    "\n",
    "# Used in error handling and data validation."
   ]
  },
  {
   "cell_type": "code",
   "execution_count": 13,
   "id": "f0897ec9",
   "metadata": {},
   "outputs": [
    {
     "name": "stdout",
     "output_type": "stream",
     "text": [
      "Minimum value: 50\n"
     ]
    }
   ],
   "source": [
    "# Finding the Minimum with inf Initialization\n",
    "\n",
    "values = [100, 200, 50, 300]\n",
    "min_val = np.inf\n",
    "\n",
    "for v in values:\n",
    "    if v < min_val:\n",
    "        min_val = v\n",
    "\n",
    "print(f\"Minimum value: {min_val}\")"
   ]
  },
  {
   "cell_type": "code",
   "execution_count": null,
   "id": "2dd56f3c",
   "metadata": {},
   "outputs": [],
   "source": [
    "# Used in pathfinding algorithms (e.g., Dijkstra’s algorithm)."
   ]
  },
  {
   "cell_type": "code",
   "execution_count": null,
   "id": "0d9df3fa",
   "metadata": {},
   "outputs": [],
   "source": []
  },
  {
   "cell_type": "markdown",
   "id": "616a8258",
   "metadata": {},
   "source": [
    "# Not a Number (NaN)\n",
    "numpy.nan represents invalid mathematical results, such as 0/0 or log(-1)."
   ]
  },
  {
   "cell_type": "code",
   "execution_count": 14,
   "id": "72297947",
   "metadata": {},
   "outputs": [
    {
     "name": "stdout",
     "output_type": "stream",
     "text": [
      "nan\n"
     ]
    },
    {
     "name": "stderr",
     "output_type": "stream",
     "text": [
      "C:\\Users\\kautk\\AppData\\Local\\Temp\\ipykernel_36652\\3800388505.py:2: RuntimeWarning: invalid value encountered in log\n",
      "  print(np.log(-1))  # Returns 'nan'\n"
     ]
    }
   ],
   "source": [
    "# Handling Undefined Operations\n",
    "print(np.log(-1))  # Returns 'nan'\n",
    "\n",
    "# Used in error handling and data science."
   ]
  },
  {
   "cell_type": "code",
   "execution_count": 15,
   "id": "2d6fef76",
   "metadata": {},
   "outputs": [
    {
     "name": "stdout",
     "output_type": "stream",
     "text": [
      "[10. 30. 50.]\n"
     ]
    }
   ],
   "source": [
    "# Filtering Out NaN Values\n",
    "\n",
    "data = np.array([10, np.nan, 30, np.nan, 50])\n",
    "\n",
    "cleaned_data = data[~np.isnan(data)]\n",
    "\n",
    "print(cleaned_data)\n",
    "\n",
    "# Used in data cleaning."
   ]
  },
  {
   "cell_type": "code",
   "execution_count": 16,
   "id": "ec9f4db7",
   "metadata": {},
   "outputs": [
    {
     "name": "stdout",
     "output_type": "stream",
     "text": [
      "[10. 30. 30. 30. 50.]\n"
     ]
    }
   ],
   "source": [
    "# Filling NaN Values\n",
    "\n",
    "data = np.array([10, np.nan, 30, np.nan, 50])\n",
    "\n",
    "data[np.isnan(data)] = np.mean(data[~np.isnan(data)])  # Replace NaN with mean\n",
    "print(data)\n",
    "\n",
    "# Used in machine learning preprocessing."
   ]
  },
  {
   "cell_type": "code",
   "execution_count": 20,
   "id": "83650f30",
   "metadata": {},
   "outputs": [
    {
     "data": {
      "text/plain": [
       "False"
      ]
     },
     "execution_count": 20,
     "metadata": {},
     "output_type": "execute_result"
    }
   ],
   "source": [
    "np.nan == np.nan"
   ]
  },
  {
   "cell_type": "code",
   "execution_count": null,
   "id": "49c4a809",
   "metadata": {},
   "outputs": [],
   "source": []
  },
  {
   "cell_type": "markdown",
   "id": "759ac2bc",
   "metadata": {},
   "source": [
    "# Pi (π)\n",
    "π = 3.1415926535, used in geometry, physics, and engineering."
   ]
  },
  {
   "cell_type": "code",
   "execution_count": 17,
   "id": "2636a869",
   "metadata": {},
   "outputs": [
    {
     "name": "stdout",
     "output_type": "stream",
     "text": [
      "Circle area: 78.53981633974483\n"
     ]
    }
   ],
   "source": [
    "# Calculating Circle Area\n",
    "\n",
    "r = 5\n",
    "area = np.pi * r**2\n",
    "\n",
    "print(f\"Circle area: {area}\")"
   ]
  },
  {
   "cell_type": "code",
   "execution_count": 18,
   "id": "3a7d278a",
   "metadata": {},
   "outputs": [
    {
     "data": {
      "text/plain": [
       "3.141592653589793"
      ]
     },
     "execution_count": 18,
     "metadata": {},
     "output_type": "execute_result"
    }
   ],
   "source": [
    "np.pi"
   ]
  },
  {
   "cell_type": "code",
   "execution_count": 19,
   "id": "8896a4dc",
   "metadata": {},
   "outputs": [
    {
     "name": "stdout",
     "output_type": "stream",
     "text": [
      "[0.         0.52359878 0.78539816 1.57079633 3.14159265]\n"
     ]
    }
   ],
   "source": [
    "# Converting Degrees to Radians\n",
    "\n",
    "degrees = np.array([0, 30, 45, 90, 180])\n",
    "\n",
    "radians = degrees * (np.pi / 180)\n",
    "print(radians)"
   ]
  },
  {
   "cell_type": "code",
   "execution_count": null,
   "id": "48065a53",
   "metadata": {},
   "outputs": [],
   "source": [
    "# Used in engineering and physics.\n",
    "# Used in trigonometry and machine learning.\n",
    "# Used in signal processing."
   ]
  },
  {
   "cell_type": "code",
   "execution_count": null,
   "id": "493c4070",
   "metadata": {},
   "outputs": [],
   "source": []
  },
  {
   "cell_type": "code",
   "execution_count": null,
   "id": "e5405a7b",
   "metadata": {},
   "outputs": [],
   "source": []
  },
  {
   "cell_type": "code",
   "execution_count": null,
   "id": "c4e6bef9",
   "metadata": {},
   "outputs": [],
   "source": []
  }
 ],
 "metadata": {
  "kernelspec": {
   "display_name": "Python 3 (ipykernel)",
   "language": "python",
   "name": "python3"
  },
  "language_info": {
   "codemirror_mode": {
    "name": "ipython",
    "version": 3
   },
   "file_extension": ".py",
   "mimetype": "text/x-python",
   "name": "python",
   "nbconvert_exporter": "python",
   "pygments_lexer": "ipython3",
   "version": "3.11.5"
  }
 },
 "nbformat": 4,
 "nbformat_minor": 5
}
