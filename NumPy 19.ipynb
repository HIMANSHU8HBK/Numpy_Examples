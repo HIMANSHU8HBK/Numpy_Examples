{
 "cells": [
  {
   "cell_type": "code",
   "execution_count": 2,
   "id": "b6273718",
   "metadata": {},
   "outputs": [
    {
     "name": "stdout",
     "output_type": "stream",
     "text": [
      "['Hello samir' 'World' 'Numpy']\n"
     ]
    }
   ],
   "source": [
    "import numpy as np\n",
    "\n",
    "# Input array\n",
    "arr = np.array(['hello samir', 'world', 'numpy'])\n",
    "\n",
    "# Applying capitalize\n",
    "result = np.strings.capitalize(arr)\n",
    "print(result)"
   ]
  },
  {
   "cell_type": "code",
   "execution_count": 5,
   "id": "5243cd0e",
   "metadata": {},
   "outputs": [
    {
     "name": "stdout",
     "output_type": "stream",
     "text": [
      "['Python' 'Numpy' 'Machine' 'Learning']\n"
     ]
    }
   ],
   "source": [
    "# Mixed Case Strings\n",
    "\n",
    "arr = np.array(['python', 'NUMPY', 'mAchine', 'leArNing'])\n",
    "\n",
    "# Applying capitalize\n",
    "result = np.strings.capitalize(arr)\n",
    "print(result)"
   ]
  },
  {
   "cell_type": "code",
   "execution_count": 6,
   "id": "34960561",
   "metadata": {},
   "outputs": [
    {
     "name": "stdout",
     "output_type": "stream",
     "text": [
      "[b'Data' b'Science' b'Bytes']\n"
     ]
    }
   ],
   "source": [
    "# Byte Strings\n",
    "\n",
    "arr = np.array(['data', 'science', 'bytes'], dtype='S')\n",
    "\n",
    "# Applying capitalize\n",
    "result = np.strings.capitalize(arr)\n",
    "print(result)"
   ]
  },
  {
   "cell_type": "code",
   "execution_count": 7,
   "id": "ff9cb68f",
   "metadata": {},
   "outputs": [
    {
     "name": "stdout",
     "output_type": "stream",
     "text": [
      "['123abc' 'Abc123' '1a2b3c']\n"
     ]
    }
   ],
   "source": [
    "# Strings with Numbers\n",
    "\n",
    "arr = np.array(['123abc', 'abc123', '1a2b3c'])\n",
    "\n",
    "# Applying capitalize\n",
    "result = np.strings.capitalize(arr)\n",
    "print(result)"
   ]
  },
  {
   "cell_type": "code",
   "execution_count": 8,
   "id": "3b55764f",
   "metadata": {},
   "outputs": [
    {
     "name": "stdout",
     "output_type": "stream",
     "text": [
      "['Straße' 'Piñata' 'Résumé']\n"
     ]
    }
   ],
   "source": [
    "# locale-specific characters\n",
    "\n",
    "arr = np.array(['straße', 'piñata', 'résumé'])\n",
    "\n",
    "# Applying capitalize\n",
    "result = np.strings.capitalize(arr)\n",
    "print(result)"
   ]
  },
  {
   "cell_type": "code",
   "execution_count": null,
   "id": "be9e47ca",
   "metadata": {},
   "outputs": [],
   "source": []
  },
  {
   "cell_type": "code",
   "execution_count": null,
   "id": "26011e83",
   "metadata": {},
   "outputs": [],
   "source": []
  },
  {
   "cell_type": "code",
   "execution_count": 9,
   "id": "50bc5c6b",
   "metadata": {},
   "outputs": [
    {
     "name": "stdout",
     "output_type": "stream",
     "text": [
      "['a1b c' '1bca' 'bca1']\n"
     ]
    }
   ],
   "source": [
    "import numpy as np\n",
    "\n",
    "# Input array of strings\n",
    "arr = np.array(['A1B C', '1BCA', 'BCA1'], dtype='<U5')\n",
    "result = np.strings.lower(arr)\n",
    "\n",
    "print(result)"
   ]
  },
  {
   "cell_type": "code",
   "execution_count": 10,
   "id": "3142c5fb",
   "metadata": {},
   "outputs": [
    {
     "name": "stdout",
     "output_type": "stream",
     "text": [
      "[b'a1b c' b'1bca' b'bca1']\n"
     ]
    }
   ],
   "source": [
    "# Using Bytes Strings\n",
    "\n",
    "arr = np.array([b'A1B C', b'1BCA', b'BCA1'], dtype='|S5')\n",
    "result = np.strings.lower(arr)\n",
    "\n",
    "print(result)"
   ]
  },
  {
   "cell_type": "code",
   "execution_count": 15,
   "id": "620f7af5",
   "metadata": {},
   "outputs": [
    {
     "name": "stdout",
     "output_type": "stream",
     "text": [
      "['hello world' 'python numpy']\n",
      "<class 'numpy.ndarray'>\n"
     ]
    },
    {
     "data": {
      "text/plain": [
       "StringDType()"
      ]
     },
     "execution_count": 15,
     "metadata": {},
     "output_type": "execute_result"
    }
   ],
   "source": [
    "# Variable-Length Strings\n",
    "\n",
    "from numpy.dtypes import StringDType\n",
    "\n",
    "# Input array of variable-length strings\n",
    "arr = np.array(['HELLO WORLD', 'PYTHON NUMPY'], dtype=StringDType())\n",
    "result = np.strings.lower(arr)\n",
    "\n",
    "print(result)\n",
    "print(type(result))\n",
    "\n",
    "result.dtype"
   ]
  },
  {
   "cell_type": "code",
   "execution_count": 13,
   "id": "0800f4b1",
   "metadata": {},
   "outputs": [
    {
     "name": "stdout",
     "output_type": "stream",
     "text": [
      "['ç' 'ğ' 'i']\n"
     ]
    }
   ],
   "source": [
    "# Input array with special characters\n",
    "arr = np.array(['Ç', 'Ğ', 'İ'], dtype='<U1')\n",
    "result = np.strings.lower(arr)\n",
    "\n",
    "print(result)"
   ]
  },
  {
   "cell_type": "code",
   "execution_count": 14,
   "id": "da8127e5",
   "metadata": {},
   "outputs": [
    {
     "name": "stdout",
     "output_type": "stream",
     "text": [
      "['numpy' 'is' 'awesome']\n"
     ]
    }
   ],
   "source": [
    "# Mixed-case string input\n",
    "arr = np.array(['NumPy', 'IS', 'AWESOME'], dtype='<U7')\n",
    "result = np.strings.lower(arr)\n",
    "\n",
    "print(result)"
   ]
  },
  {
   "cell_type": "code",
   "execution_count": null,
   "id": "ffe2d10c",
   "metadata": {},
   "outputs": [],
   "source": []
  },
  {
   "cell_type": "code",
   "execution_count": null,
   "id": "c462ae6e",
   "metadata": {},
   "outputs": [],
   "source": []
  },
  {
   "cell_type": "code",
   "execution_count": null,
   "id": "59b473d9",
   "metadata": {},
   "outputs": [],
   "source": []
  },
  {
   "cell_type": "code",
   "execution_count": 16,
   "id": "fe7bb1db",
   "metadata": {},
   "outputs": [
    {
     "name": "stdout",
     "output_type": "stream",
     "text": [
      "['A1B C' '1BCA' 'BCA1']\n"
     ]
    }
   ],
   "source": [
    "import numpy as np\n",
    "\n",
    "# Input array of strings\n",
    "arr = np.array(['a1b c', '1bca', 'bca1'], dtype='<U5')\n",
    "result = np.strings.upper(arr)\n",
    "\n",
    "print(result)"
   ]
  },
  {
   "cell_type": "code",
   "execution_count": 17,
   "id": "fd817887",
   "metadata": {},
   "outputs": [
    {
     "name": "stdout",
     "output_type": "stream",
     "text": [
      "[b'A1B C' b'1BCA' b'BCA1']\n"
     ]
    }
   ],
   "source": [
    "# Input array of bytes strings\n",
    "arr = np.array([b'a1b c', b'1bca', b'bca1'], dtype='|S5')\n",
    "result = np.strings.upper(arr)\n",
    "\n",
    "print(result)"
   ]
  },
  {
   "cell_type": "code",
   "execution_count": 18,
   "id": "c5636ded",
   "metadata": {},
   "outputs": [
    {
     "name": "stdout",
     "output_type": "stream",
     "text": [
      "['HELLO WORLD' 'PYTHON NUMPY']\n"
     ]
    }
   ],
   "source": [
    "from numpy.dtypes import StringDType\n",
    "\n",
    "# Input array of variable-length strings\n",
    "arr = np.array(['hello world', 'python numpy'], dtype=StringDType())\n",
    "result = np.strings.upper(arr)\n",
    "\n",
    "print(result)"
   ]
  },
  {
   "cell_type": "code",
   "execution_count": 19,
   "id": "33df7b55",
   "metadata": {},
   "outputs": [
    {
     "name": "stdout",
     "output_type": "stream",
     "text": [
      "['Ç' 'Ğ' 'Ş']\n"
     ]
    }
   ],
   "source": [
    "# Input array with special characters\n",
    "arr = np.array(['ç', 'ğ', 'ş'], dtype='<U1')\n",
    "result = np.strings.upper(arr)\n",
    "\n",
    "print(result)"
   ]
  },
  {
   "cell_type": "code",
   "execution_count": 20,
   "id": "f83d729d",
   "metadata": {},
   "outputs": [
    {
     "name": "stdout",
     "output_type": "stream",
     "text": [
      "['NUMPY' 'IS' 'AWESOME']\n"
     ]
    }
   ],
   "source": [
    "# Input array with mixed-case strings\n",
    "arr = np.array(['NumPy', 'is', 'awesome'], dtype='<U7')\n",
    "result = np.strings.upper(arr)\n",
    "\n",
    "print(result)"
   ]
  },
  {
   "cell_type": "code",
   "execution_count": null,
   "id": "ea9b01c5",
   "metadata": {},
   "outputs": [],
   "source": []
  },
  {
   "cell_type": "code",
   "execution_count": null,
   "id": "e80d241c",
   "metadata": {},
   "outputs": [],
   "source": []
  },
  {
   "cell_type": "code",
   "execution_count": null,
   "id": "8afe47b5",
   "metadata": {},
   "outputs": [],
   "source": []
  },
  {
   "cell_type": "code",
   "execution_count": 21,
   "id": "58e2e71d",
   "metadata": {},
   "outputs": [
    {
     "name": "stdout",
     "output_type": "stream",
     "text": [
      "['A1B C' '1B Ca' 'B Ca1' 'Ca1B']\n"
     ]
    }
   ],
   "source": [
    "import numpy as np\n",
    "\n",
    "# Input array of strings\n",
    "arr = np.array(['a1b c', '1b ca', 'b ca1', 'ca1b'], dtype='<U5')\n",
    "result = np.strings.title(arr)\n",
    "\n",
    "print(result)"
   ]
  },
  {
   "cell_type": "code",
   "execution_count": 22,
   "id": "dfa3f9fe",
   "metadata": {},
   "outputs": [
    {
     "name": "stdout",
     "output_type": "stream",
     "text": [
      "[b'A1B C' b'1B Ca' b'B Ca1' b'Ca1B']\n"
     ]
    }
   ],
   "source": [
    "# Input array of bytes strings\n",
    "arr = np.array([b'a1b c', b'1b ca', b'b ca1', b'ca1b'], dtype='|S5')\n",
    "result = np.strings.title(arr)\n",
    "\n",
    "print(result)"
   ]
  },
  {
   "cell_type": "code",
   "execution_count": 23,
   "id": "54b6e673",
   "metadata": {},
   "outputs": [
    {
     "name": "stdout",
     "output_type": "stream",
     "text": [
      "['Hello World' 'Python Numpy']\n"
     ]
    }
   ],
   "source": [
    "from numpy.dtypes import StringDType\n",
    "\n",
    "# Input array of variable-length strings\n",
    "arr = np.array(['hello world', 'python numpy'], dtype=StringDType())\n",
    "result = np.strings.title(arr)\n",
    "\n",
    "print(result)"
   ]
  },
  {
   "cell_type": "code",
   "execution_count": 24,
   "id": "2d6926b9",
   "metadata": {},
   "outputs": [
    {
     "name": "stdout",
     "output_type": "stream",
     "text": [
      "['Çalışkan Çocuk' 'Işık Hızında']\n"
     ]
    }
   ],
   "source": [
    "# Input array with special characters\n",
    "arr = np.array(['çalışkan çocuk', 'ışık hızında'], dtype='<U20')\n",
    "result = np.strings.title(arr)\n",
    "\n",
    "print(result)"
   ]
  },
  {
   "cell_type": "code",
   "execution_count": 25,
   "id": "5284c2a2",
   "metadata": {},
   "outputs": [
    {
     "name": "stdout",
     "output_type": "stream",
     "text": [
      "['Numpy Is Awesom' 'Title Case']\n"
     ]
    }
   ],
   "source": [
    "# Input array with mixed-case words\n",
    "arr = np.array(['nUmPy Is AWESOME', 'title cAsE'], dtype='<U15')\n",
    "result = np.strings.title(arr)\n",
    "\n",
    "print(result)"
   ]
  },
  {
   "cell_type": "code",
   "execution_count": null,
   "id": "ff48b252",
   "metadata": {},
   "outputs": [],
   "source": []
  }
 ],
 "metadata": {
  "kernelspec": {
   "display_name": "Python 3 (ipykernel)",
   "language": "python",
   "name": "python3"
  },
  "language_info": {
   "codemirror_mode": {
    "name": "ipython",
    "version": 3
   },
   "file_extension": ".py",
   "mimetype": "text/x-python",
   "name": "python",
   "nbconvert_exporter": "python",
   "pygments_lexer": "ipython3",
   "version": "3.11.5"
  }
 },
 "nbformat": 4,
 "nbformat_minor": 5
}
