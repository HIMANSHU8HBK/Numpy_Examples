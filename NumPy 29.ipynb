{
 "cells": [
  {
   "cell_type": "code",
   "execution_count": 1,
   "id": "139236a9",
   "metadata": {},
   "outputs": [
    {
     "name": "stdout",
     "output_type": "stream",
     "text": [
      "[ True False False False  True  True]\n"
     ]
    }
   ],
   "source": [
    "# Checking Finite Values in a Single Array\n",
    "\n",
    "import numpy as np\n",
    "\n",
    "arr = np.array([10, np.nan, np.inf, -np.inf, -5, 3.14])\n",
    "\n",
    "result = np.isfinite(arr) \n",
    "\n",
    "print(result)\n",
    "\n",
    "# Use Case: Helps in data cleaning by identifying non-finite values."
   ]
  },
  {
   "cell_type": "code",
   "execution_count": 4,
   "id": "d2a719f1",
   "metadata": {},
   "outputs": [
    {
     "name": "stdout",
     "output_type": "stream",
     "text": [
      "[False  True False  True False]\n"
     ]
    },
    {
     "name": "stderr",
     "output_type": "stream",
     "text": [
      "C:\\Users\\kautk\\AppData\\Local\\Temp\\ipykernel_19100\\1454192790.py:3: RuntimeWarning: invalid value encountered in log\n",
      "  arr = np.array([np.log(-1), 1, np.log(0), 5, np.nan])\n",
      "C:\\Users\\kautk\\AppData\\Local\\Temp\\ipykernel_19100\\1454192790.py:3: RuntimeWarning: divide by zero encountered in log\n",
      "  arr = np.array([np.log(-1), 1, np.log(0), 5, np.nan])\n"
     ]
    }
   ],
   "source": [
    "# Handling Mathematical Operations with isfinite()\n",
    "\n",
    "arr = np.array([np.log(-1), 1, np.log(0), 5, np.nan])\n",
    "\n",
    "result = np.isfinite(arr)\n",
    "print(result)\n",
    "\n",
    "# Use Case: Used to validate results of mathematical computations."
   ]
  },
  {
   "cell_type": "code",
   "execution_count": 3,
   "id": "577358dc",
   "metadata": {},
   "outputs": [
    {
     "name": "stdout",
     "output_type": "stream",
     "text": [
      "[[ True False]\n",
      " [False  True]]\n"
     ]
    }
   ],
   "source": [
    "# Checking Finiteness in a 2D Array\n",
    "\n",
    "arr = np.array([[1, np.inf], [np.nan, -5]])\n",
    "\n",
    "result = np.isfinite(arr)\n",
    "print(result)\n",
    "\n",
    "# Use Case: Helps in handling missing values in datasets."
   ]
  },
  {
   "cell_type": "code",
   "execution_count": null,
   "id": "55aaa281",
   "metadata": {},
   "outputs": [],
   "source": []
  },
  {
   "cell_type": "code",
   "execution_count": null,
   "id": "4adb4444",
   "metadata": {},
   "outputs": [],
   "source": []
  },
  {
   "cell_type": "code",
   "execution_count": 5,
   "id": "c48cb71b",
   "metadata": {},
   "outputs": [
    {
     "name": "stdout",
     "output_type": "stream",
     "text": [
      "[ True  True False False False]\n"
     ]
    }
   ],
   "source": [
    "# Checking Infinity in an Array\n",
    "\n",
    "import numpy as np\n",
    "\n",
    "arr = np.array([np.inf, -np.inf, 10, np.nan, 5])\n",
    "\n",
    "result = np.isinf(arr)\n",
    "print(result)\n",
    "\n",
    "# Use Case: Used in data validation to detect infinite values in datasets."
   ]
  },
  {
   "cell_type": "code",
   "execution_count": 6,
   "id": "51c6ec77",
   "metadata": {},
   "outputs": [
    {
     "name": "stdout",
     "output_type": "stream",
     "text": [
      "[ True False  True]\n"
     ]
    },
    {
     "name": "stderr",
     "output_type": "stream",
     "text": [
      "C:\\Users\\kautk\\AppData\\Local\\Temp\\ipykernel_19100\\1746133176.py:3: RuntimeWarning: divide by zero encountered in log\n",
      "  arr = np.array([np.log(0), 1, -np.exp(1000)])  # log(0) -> -inf, exp(1000) -> inf\n",
      "C:\\Users\\kautk\\AppData\\Local\\Temp\\ipykernel_19100\\1746133176.py:3: RuntimeWarning: overflow encountered in exp\n",
      "  arr = np.array([np.log(0), 1, -np.exp(1000)])  # log(0) -> -inf, exp(1000) -> inf\n"
     ]
    }
   ],
   "source": [
    "# Handling isinf() in Mathematical Operations\n",
    "\n",
    "arr = np.array([np.log(0), 1, -np.exp(1000)])  # log(0) -> -inf, exp(1000) -> inf\n",
    "result = np.isinf(arr)\n",
    "print(result)\n",
    "\n",
    "# Use Case: Used to handle extreme values in mathematical calculations."
   ]
  },
  {
   "cell_type": "code",
   "execution_count": null,
   "id": "10a94df2",
   "metadata": {},
   "outputs": [],
   "source": []
  },
  {
   "cell_type": "code",
   "execution_count": null,
   "id": "647f8ed6",
   "metadata": {},
   "outputs": [],
   "source": []
  },
  {
   "cell_type": "code",
   "execution_count": 7,
   "id": "5bd77f57",
   "metadata": {},
   "outputs": [
    {
     "name": "stdout",
     "output_type": "stream",
     "text": [
      "[ True False False False  True]\n"
     ]
    }
   ],
   "source": [
    "#  Checking for NaN in an Array\n",
    "\n",
    "import numpy as np\n",
    "\n",
    "arr = np.array([np.nan, 10, np.inf, -5, np.nan])\n",
    "\n",
    "result = np.isnan(arr)\n",
    "print(result)\n",
    "\n",
    "#  Use Case: Used in data preprocessing to detect missing or corrupted values."
   ]
  },
  {
   "cell_type": "code",
   "execution_count": 8,
   "id": "08f2b83a",
   "metadata": {},
   "outputs": [
    {
     "name": "stdout",
     "output_type": "stream",
     "text": [
      "[ True False  True]\n"
     ]
    },
    {
     "name": "stderr",
     "output_type": "stream",
     "text": [
      "C:\\Users\\kautk\\AppData\\Local\\Temp\\ipykernel_19100\\37185742.py:3: RuntimeWarning: invalid value encountered in log\n",
      "  arr = np.array([np.log(-1), 1, np.sqrt(-4)])  # log(-1) and sqrt(-4) produce NaN\n",
      "C:\\Users\\kautk\\AppData\\Local\\Temp\\ipykernel_19100\\37185742.py:3: RuntimeWarning: invalid value encountered in sqrt\n",
      "  arr = np.array([np.log(-1), 1, np.sqrt(-4)])  # log(-1) and sqrt(-4) produce NaN\n"
     ]
    }
   ],
   "source": [
    "# Detecting NaN in Mathematical Operations\n",
    "\n",
    "arr = np.array([np.log(-1), 1, np.sqrt(-4)])  # log(-1) and sqrt(-4) produce NaN\n",
    "result = np.isnan(arr)\n",
    "print(result)\n",
    "\n",
    "# 📌Use Case: Used to handle invalid mathematical computations."
   ]
  },
  {
   "cell_type": "code",
   "execution_count": null,
   "id": "ec73e17a",
   "metadata": {},
   "outputs": [],
   "source": []
  }
 ],
 "metadata": {
  "kernelspec": {
   "display_name": "Python 3 (ipykernel)",
   "language": "python",
   "name": "python3"
  },
  "language_info": {
   "codemirror_mode": {
    "name": "ipython",
    "version": 3
   },
   "file_extension": ".py",
   "mimetype": "text/x-python",
   "name": "python",
   "nbconvert_exporter": "python",
   "pygments_lexer": "ipython3",
   "version": "3.11.5"
  }
 },
 "nbformat": 4,
 "nbformat_minor": 5
}
