{
 "cells": [
  {
   "cell_type": "code",
   "execution_count": 4,
   "id": "139236a9",
   "metadata": {},
   "outputs": [
    {
     "name": "stdout",
     "output_type": "stream",
     "text": [
      "True\n"
     ]
    }
   ],
   "source": [
    "# Checking if All Elements are Non-Zero\n",
    "\n",
    "import numpy as np\n",
    "\n",
    "arr = np.array([1, 2, 3, 4, 5])\n",
    "\n",
    "result = np.all(arr)  # Checks if all elements are non-zero\n",
    "\n",
    "print(result)\n",
    "\n",
    "# Ensures that no elements are 0 before performing computations."
   ]
  },
  {
   "cell_type": "code",
   "execution_count": 5,
   "id": "a571a7e6",
   "metadata": {},
   "outputs": [
    {
     "name": "stdout",
     "output_type": "stream",
     "text": [
      "[[1 2 3]\n",
      " [0 5 6]\n",
      " [7 8 9]]\n",
      "[False False  True]\n"
     ]
    }
   ],
   "source": [
    "# Used in data validation to ensure all values meet a condition\n",
    "\n",
    "arr = np.array([[1, 2, 3], [0, 5, 6], [7, 8, 9]])\n",
    "print(arr)\n",
    "\n",
    "result = np.all(arr > 5, axis=1)  # Check for each row\n",
    "print(result)"
   ]
  },
  {
   "cell_type": "code",
   "execution_count": 8,
   "id": "3557881e",
   "metadata": {},
   "outputs": [
    {
     "name": "stdout",
     "output_type": "stream",
     "text": [
      "True\n"
     ]
    }
   ],
   "source": [
    "# Checking If All Values in a Masked Selection Satisfy a Condition\n",
    "\n",
    "arr = np.array([2,5, 10, 15, 20, 25])\n",
    "mask = arr > 10  # Select only elements greater than 10\n",
    "\n",
    "result = np.all(arr % 5 == 0, where=mask)\n",
    "print(result)\n",
    "\n",
    "# Used in conditional filtering"
   ]
  },
  {
   "cell_type": "code",
   "execution_count": 9,
   "id": "162f1260",
   "metadata": {},
   "outputs": [
    {
     "name": "stdout",
     "output_type": "stream",
     "text": [
      "[[1 0 3]\n",
      " [4 3 6]\n",
      " [7 8 9]]\n",
      "[ True False  True]\n"
     ]
    }
   ],
   "source": [
    "# Checking If All Elements in Each Column Are Non-Zero\n",
    "\n",
    "arr = np.array([[1, 0, 3], [4, 3, 6], [7, 8, 9]])\n",
    "print(arr)\n",
    "\n",
    "result = np.all(arr != 0, axis=0)  # Check column-wise\n",
    "print(result)"
   ]
  },
  {
   "cell_type": "code",
   "execution_count": 13,
   "id": "3a20f351",
   "metadata": {},
   "outputs": [
    {
     "name": "stdout",
     "output_type": "stream",
     "text": [
      "[[[1 1 1]\n",
      "  [0 1 1]]] \n",
      "\n",
      "[[[False  True  True]]]\n"
     ]
    }
   ],
   "source": [
    "# Keeping Dimensions Using keepdims=True\n",
    "\n",
    "arr = np.array([[[1, 1, 1], [0, 1, 1]]])\n",
    "print(arr, \"\\n\")\n",
    "\n",
    "result = np.all(arr, axis=1, keepdims=True)\n",
    "print(result)"
   ]
  },
  {
   "cell_type": "code",
   "execution_count": null,
   "id": "85fb0e68",
   "metadata": {},
   "outputs": [],
   "source": []
  },
  {
   "cell_type": "code",
   "execution_count": null,
   "id": "806bdb17",
   "metadata": {},
   "outputs": [],
   "source": []
  },
  {
   "cell_type": "code",
   "execution_count": null,
   "id": "ea9c6756",
   "metadata": {},
   "outputs": [],
   "source": []
  },
  {
   "cell_type": "code",
   "execution_count": 16,
   "id": "0c86c9fa",
   "metadata": {},
   "outputs": [
    {
     "name": "stdout",
     "output_type": "stream",
     "text": [
      "True\n"
     ]
    }
   ],
   "source": [
    "# Checking if Any Element is Non-Zero\n",
    "\n",
    "import numpy as np\n",
    "\n",
    "arr = np.array([0, 0, 7, 0, 0])\n",
    "result = np.any(arr)  # Checks if any element is non-zero\n",
    "\n",
    "print(result)"
   ]
  },
  {
   "cell_type": "code",
   "execution_count": 17,
   "id": "ec317a3e",
   "metadata": {},
   "outputs": [
    {
     "name": "stdout",
     "output_type": "stream",
     "text": [
      "[[ 1  2  3]\n",
      " [-1  5  6]\n",
      " [ 7  8  9]] \n",
      "\n",
      "[False  True False]\n"
     ]
    }
   ],
   "source": [
    "# Checking If Any Row Contains a Negative Value\n",
    "\n",
    "arr = np.array([[1, 2, 3], [-1, 5, 6], [7, 8, 9]])\n",
    "print(arr, \"\\n\")\n",
    "\n",
    "result = np.any(arr < 0, axis=1)  # Check for each row\n",
    "print(result)\n",
    "\n",
    "# Used in data validation to detect negative values"
   ]
  },
  {
   "cell_type": "code",
   "execution_count": 19,
   "id": "6cd8d873",
   "metadata": {},
   "outputs": [
    {
     "name": "stdout",
     "output_type": "stream",
     "text": [
      "True\n"
     ]
    }
   ],
   "source": [
    "# Checking If Any Value in a Masked Selection Is Positive\n",
    "\n",
    "arr = np.array([-5, -10, 15, -20, -25])\n",
    "mask = arr > 0  # Select only elements greater than 0\n",
    "\n",
    "result = np.any(arr % 5 == 0, where=mask)\n",
    "print(result)\n",
    "\n",
    "# Used in conditional filtering"
   ]
  },
  {
   "cell_type": "code",
   "execution_count": 20,
   "id": "08076894",
   "metadata": {},
   "outputs": [
    {
     "name": "stdout",
     "output_type": "stream",
     "text": [
      "[[ 1 -2  3]\n",
      " [ 4  5  6]\n",
      " [-7  8  9]] \n",
      "\n",
      "[ True  True False]\n"
     ]
    }
   ],
   "source": [
    "# The axis parameter specifies the dimension along which any() operates.\n",
    "\n",
    "arr = np.array([[1, -2, 3], [4, 5, 6], [-7, 8, 9]])\n",
    "print(arr, \"\\n\")\n",
    "\n",
    "result = np.any(arr < 0, axis=0)  # Check column-wise\n",
    "print(result)\n",
    "\n",
    "# Used in data quality checks"
   ]
  },
  {
   "cell_type": "code",
   "execution_count": 21,
   "id": "82e26306",
   "metadata": {},
   "outputs": [
    {
     "name": "stdout",
     "output_type": "stream",
     "text": [
      "[[0 1 0]\n",
      " [0 0 0]] \n",
      "\n",
      "[[ True]\n",
      " [False]]\n"
     ]
    }
   ],
   "source": [
    "# Keeping Dimensions Using keepdims=True\n",
    "\n",
    "arr = np.array([[0, 1, 0], [0, 0, 0]])\n",
    "print(arr, \"\\n\")\n",
    "\n",
    "result = np.any(arr, axis=1, keepdims=True)\n",
    "print(result)\n",
    "\n",
    "# Used in broadcasting and reshaping arrays"
   ]
  },
  {
   "cell_type": "code",
   "execution_count": null,
   "id": "3f9d80ce",
   "metadata": {},
   "outputs": [],
   "source": []
  }
 ],
 "metadata": {
  "kernelspec": {
   "display_name": "Python 3 (ipykernel)",
   "language": "python",
   "name": "python3"
  },
  "language_info": {
   "codemirror_mode": {
    "name": "ipython",
    "version": 3
   },
   "file_extension": ".py",
   "mimetype": "text/x-python",
   "name": "python",
   "nbconvert_exporter": "python",
   "pygments_lexer": "ipython3",
   "version": "3.11.5"
  }
 },
 "nbformat": 4,
 "nbformat_minor": 5
}
